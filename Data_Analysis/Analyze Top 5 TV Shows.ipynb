{
 "cells": [
  {
   "cell_type": "markdown",
   "metadata": {},
   "source": [
    "## This analysis is a part of the Canvs’s ’Top 5 Freshman TV Series of 2020' Project https://www.canvs.ai/blog/2020/3/23/top-5-freshman-tv-series-of-2020"
   ]
  },
  {
   "cell_type": "code",
   "execution_count": 1,
   "metadata": {},
   "outputs": [],
   "source": [
    "import numpy as np\n",
    "import pandas as pd"
   ]
  },
  {
   "cell_type": "code",
   "execution_count": 2,
   "metadata": {},
   "outputs": [],
   "source": [
    "pd.options.display.max_colwidth = 100"
   ]
  },
  {
   "cell_type": "markdown",
   "metadata": {},
   "source": [
    "## Emotional Reactions with 'Riverdale' & '#Riverdale'"
   ]
  },
  {
   "cell_type": "code",
   "execution_count": 4,
   "metadata": {
    "scrolled": false
   },
   "outputs": [
    {
     "data": {
      "text/html": [
       "<div>\n",
       "<style scoped>\n",
       "    .dataframe tbody tr th:only-of-type {\n",
       "        vertical-align: middle;\n",
       "    }\n",
       "\n",
       "    .dataframe tbody tr th {\n",
       "        vertical-align: top;\n",
       "    }\n",
       "\n",
       "    .dataframe thead th {\n",
       "        text-align: right;\n",
       "    }\n",
       "</style>\n",
       "<table border=\"1\" class=\"dataframe\">\n",
       "  <thead>\n",
       "    <tr style=\"text-align: right;\">\n",
       "      <th></th>\n",
       "      <th>Tweet</th>\n",
       "      <th>Author</th>\n",
       "      <th>Date</th>\n",
       "    </tr>\n",
       "  </thead>\n",
       "  <tbody>\n",
       "    <tr>\n",
       "      <td>0</td>\n",
       "      <td>Josie looking fresh and happy since she escaped, Riverdale. #KatyKeene</td>\n",
       "      <td>Bec_Heim</td>\n",
       "      <td>February 7, 2020 1:07:06 AM UTC</td>\n",
       "    </tr>\n",
       "    <tr>\n",
       "      <td>1</td>\n",
       "      <td>@CWKatyKeene @CW_Riverdale I love Katy Keene</td>\n",
       "      <td>MadisonBoswel16</td>\n",
       "      <td>February 14, 2020 1:06:52 AM UTC</td>\n",
       "    </tr>\n",
       "    <tr>\n",
       "      <td>2</td>\n",
       "      <td>Josie and her Riverdale stories. I love it! #katykeene</td>\n",
       "      <td>sagevalentine</td>\n",
       "      <td>February 14, 2020 1:42:03 AM UTC</td>\n",
       "    </tr>\n",
       "    <tr>\n",
       "      <td>3</td>\n",
       "      <td>why am i liking katy keene more than riverdale https://t.co/12Sp1BwiqF</td>\n",
       "      <td>fictionxlover</td>\n",
       "      <td>February 14, 2020 1:48:47 AM UTC</td>\n",
       "    </tr>\n",
       "    <tr>\n",
       "      <td>4</td>\n",
       "      <td>#KatyKeene gave me sex in the city/PrettyLittleLiars/Riverdale vibes! So cute! 😊</td>\n",
       "      <td>imcynnnthia</td>\n",
       "      <td>February 7, 2020 2:02:18 AM UTC</td>\n",
       "    </tr>\n",
       "  </tbody>\n",
       "</table>\n",
       "</div>"
      ],
      "text/plain": [
       "                                                                              Tweet  \\\n",
       "0            Josie looking fresh and happy since she escaped, Riverdale. #KatyKeene   \n",
       "1                                      @CWKatyKeene @CW_Riverdale I love Katy Keene   \n",
       "2                            Josie and her Riverdale stories. I love it! #katykeene   \n",
       "3            why am i liking katy keene more than riverdale https://t.co/12Sp1BwiqF   \n",
       "4  #KatyKeene gave me sex in the city/PrettyLittleLiars/Riverdale vibes! So cute! 😊   \n",
       "\n",
       "            Author                              Date  \n",
       "0         Bec_Heim   February 7, 2020 1:07:06 AM UTC  \n",
       "1  MadisonBoswel16  February 14, 2020 1:06:52 AM UTC  \n",
       "2    sagevalentine  February 14, 2020 1:42:03 AM UTC  \n",
       "3    fictionxlover  February 14, 2020 1:48:47 AM UTC  \n",
       "4      imcynnnthia   February 7, 2020 2:02:18 AM UTC  "
      ]
     },
     "execution_count": 4,
     "metadata": {},
     "output_type": "execute_result"
    }
   ],
   "source": [
    "# Emotional Reactions with 'Riverdale'\n",
    "Riverdale = pd.read_csv('/Users/sunheepark/Canvs/Riverdale.csv')\n",
    "Riverdale = Riverdale[['Tweet', 'Author', 'Date']]\n",
    "Riverdale.head()"
   ]
  },
  {
   "cell_type": "code",
   "execution_count": 7,
   "metadata": {},
   "outputs": [
    {
     "data": {
      "text/html": [
       "<div>\n",
       "<style scoped>\n",
       "    .dataframe tbody tr th:only-of-type {\n",
       "        vertical-align: middle;\n",
       "    }\n",
       "\n",
       "    .dataframe tbody tr th {\n",
       "        vertical-align: top;\n",
       "    }\n",
       "\n",
       "    .dataframe thead th {\n",
       "        text-align: right;\n",
       "    }\n",
       "</style>\n",
       "<table border=\"1\" class=\"dataframe\">\n",
       "  <thead>\n",
       "    <tr style=\"text-align: right;\">\n",
       "      <th></th>\n",
       "      <th>Tweet</th>\n",
       "      <th>Author</th>\n",
       "      <th>Date</th>\n",
       "    </tr>\n",
       "  </thead>\n",
       "  <tbody>\n",
       "    <tr>\n",
       "      <td>0</td>\n",
       "      <td>Hi @RobinGivens!! Good to see you again. #KatyKeene #Riverdale https://t.co/SbBTLRraFo</td>\n",
       "      <td>ArchieComics</td>\n",
       "      <td>March 13, 2020 12:10:11 AM UTC</td>\n",
       "    </tr>\n",
       "    <tr>\n",
       "      <td>1</td>\n",
       "      <td>So weird seeing Lucy Hale on #Riverdale.</td>\n",
       "      <td>CJW_SportsMedia</td>\n",
       "      <td>February 6, 2020 11:12:39 PM UTC</td>\n",
       "    </tr>\n",
       "    <tr>\n",
       "      <td>2</td>\n",
       "      <td>Nice burn on #Riverdale Josie @iamamurray</td>\n",
       "      <td>RiverdaleU20</td>\n",
       "      <td>February 21, 2020 3:29:03 AM UTC</td>\n",
       "    </tr>\n",
       "    <tr>\n",
       "      <td>3</td>\n",
       "      <td>The way #KatyKeene shoots digs at its sister show #Riverdale is actually hilarious</td>\n",
       "      <td>kat__writes</td>\n",
       "      <td>February 21, 2020 1:41:24 AM UTC</td>\n",
       "    </tr>\n",
       "    <tr>\n",
       "      <td>4</td>\n",
       "      <td>Me finna watch #KatyKeene later when I’m not even on S2 of #Riverdale 🤡</td>\n",
       "      <td>IntoTheSkyStorm</td>\n",
       "      <td>February 7, 2020 1:39:15 AM UTC</td>\n",
       "    </tr>\n",
       "  </tbody>\n",
       "</table>\n",
       "</div>"
      ],
      "text/plain": [
       "                                                                                    Tweet  \\\n",
       "0  Hi @RobinGivens!! Good to see you again. #KatyKeene #Riverdale https://t.co/SbBTLRraFo   \n",
       "1                                                So weird seeing Lucy Hale on #Riverdale.   \n",
       "2                                               Nice burn on #Riverdale Josie @iamamurray   \n",
       "3      The way #KatyKeene shoots digs at its sister show #Riverdale is actually hilarious   \n",
       "4                 Me finna watch #KatyKeene later when I’m not even on S2 of #Riverdale 🤡   \n",
       "\n",
       "            Author                              Date  \n",
       "0     ArchieComics    March 13, 2020 12:10:11 AM UTC  \n",
       "1  CJW_SportsMedia  February 6, 2020 11:12:39 PM UTC  \n",
       "2     RiverdaleU20  February 21, 2020 3:29:03 AM UTC  \n",
       "3      kat__writes  February 21, 2020 1:41:24 AM UTC  \n",
       "4  IntoTheSkyStorm   February 7, 2020 1:39:15 AM UTC  "
      ]
     },
     "execution_count": 7,
     "metadata": {},
     "output_type": "execute_result"
    }
   ],
   "source": [
    "# Emotional Reactions with #'Riverdale'\n",
    "Riverdale_tags = pd.read_csv('/Users/sunheepark/Canvs/Revierdale with hashtags.csv')\n",
    "Riverdale_tags = Riverdale_tags[['Tweet', 'Author', 'Date']]\n",
    "Riverdale_tags.head()"
   ]
  },
  {
   "cell_type": "code",
   "execution_count": 8,
   "metadata": {},
   "outputs": [
    {
     "data": {
      "text/html": [
       "<div>\n",
       "<style scoped>\n",
       "    .dataframe tbody tr th:only-of-type {\n",
       "        vertical-align: middle;\n",
       "    }\n",
       "\n",
       "    .dataframe tbody tr th {\n",
       "        vertical-align: top;\n",
       "    }\n",
       "\n",
       "    .dataframe thead th {\n",
       "        text-align: right;\n",
       "    }\n",
       "</style>\n",
       "<table border=\"1\" class=\"dataframe\">\n",
       "  <thead>\n",
       "    <tr style=\"text-align: right;\">\n",
       "      <th></th>\n",
       "      <th>Tweet</th>\n",
       "      <th>Author</th>\n",
       "      <th>Date</th>\n",
       "    </tr>\n",
       "  </thead>\n",
       "  <tbody>\n",
       "    <tr>\n",
       "      <td>0</td>\n",
       "      <td>Josie looking fresh and happy since she escaped, Riverdale. #KatyKeene</td>\n",
       "      <td>Bec_Heim</td>\n",
       "      <td>February 7, 2020 1:07:06 AM UTC</td>\n",
       "    </tr>\n",
       "    <tr>\n",
       "      <td>1</td>\n",
       "      <td>@CWKatyKeene @CW_Riverdale I love Katy Keene</td>\n",
       "      <td>MadisonBoswel16</td>\n",
       "      <td>February 14, 2020 1:06:52 AM UTC</td>\n",
       "    </tr>\n",
       "    <tr>\n",
       "      <td>2</td>\n",
       "      <td>Josie and her Riverdale stories. I love it! #katykeene</td>\n",
       "      <td>sagevalentine</td>\n",
       "      <td>February 14, 2020 1:42:03 AM UTC</td>\n",
       "    </tr>\n",
       "    <tr>\n",
       "      <td>3</td>\n",
       "      <td>why am i liking katy keene more than riverdale https://t.co/12Sp1BwiqF</td>\n",
       "      <td>fictionxlover</td>\n",
       "      <td>February 14, 2020 1:48:47 AM UTC</td>\n",
       "    </tr>\n",
       "    <tr>\n",
       "      <td>4</td>\n",
       "      <td>#KatyKeene gave me sex in the city/PrettyLittleLiars/Riverdale vibes! So cute! 😊</td>\n",
       "      <td>imcynnnthia</td>\n",
       "      <td>February 7, 2020 2:02:18 AM UTC</td>\n",
       "    </tr>\n",
       "  </tbody>\n",
       "</table>\n",
       "</div>"
      ],
      "text/plain": [
       "                                                                              Tweet  \\\n",
       "0            Josie looking fresh and happy since she escaped, Riverdale. #KatyKeene   \n",
       "1                                      @CWKatyKeene @CW_Riverdale I love Katy Keene   \n",
       "2                            Josie and her Riverdale stories. I love it! #katykeene   \n",
       "3            why am i liking katy keene more than riverdale https://t.co/12Sp1BwiqF   \n",
       "4  #KatyKeene gave me sex in the city/PrettyLittleLiars/Riverdale vibes! So cute! 😊   \n",
       "\n",
       "            Author                              Date  \n",
       "0         Bec_Heim   February 7, 2020 1:07:06 AM UTC  \n",
       "1  MadisonBoswel16  February 14, 2020 1:06:52 AM UTC  \n",
       "2    sagevalentine  February 14, 2020 1:42:03 AM UTC  \n",
       "3    fictionxlover  February 14, 2020 1:48:47 AM UTC  \n",
       "4      imcynnnthia   February 7, 2020 2:02:18 AM UTC  "
      ]
     },
     "execution_count": 8,
     "metadata": {},
     "output_type": "execute_result"
    }
   ],
   "source": [
    "pd.concat([Riverdale,Riverdale_tags]).drop_duplicates().head()"
   ]
  },
  {
   "cell_type": "markdown",
   "metadata": {},
   "source": [
    "## ERs with 'sing', 'song', 'music'"
   ]
  },
  {
   "cell_type": "code",
   "execution_count": 10,
   "metadata": {},
   "outputs": [],
   "source": [
    "sing = pd.read_csv('/Users/sunheepark/Canvs/Katy_Keene-sing.csv')\n",
    "song = pd.read_csv('/Users/sunheepark/Canvs/Katy_Keene-song.csv')\n",
    "music = pd.read_csv('/Users/sunheepark/Canvs/Katy_Keene-music.csv')"
   ]
  },
  {
   "cell_type": "code",
   "execution_count": 11,
   "metadata": {},
   "outputs": [],
   "source": [
    "sing = sing.drop_duplicates().reset_index(drop=True)\n",
    "song = song.drop_duplicates().reset_index(drop=True)\n",
    "music = music.drop_duplicates().reset_index(drop=True)"
   ]
  },
  {
   "cell_type": "code",
   "execution_count": 12,
   "metadata": {},
   "outputs": [
    {
     "data": {
      "text/html": [
       "<div>\n",
       "<style scoped>\n",
       "    .dataframe tbody tr th:only-of-type {\n",
       "        vertical-align: middle;\n",
       "    }\n",
       "\n",
       "    .dataframe tbody tr th {\n",
       "        vertical-align: top;\n",
       "    }\n",
       "\n",
       "    .dataframe thead th {\n",
       "        text-align: right;\n",
       "    }\n",
       "</style>\n",
       "<table border=\"1\" class=\"dataframe\">\n",
       "  <thead>\n",
       "    <tr style=\"text-align: right;\">\n",
       "      <th></th>\n",
       "      <th>Tweet</th>\n",
       "      <th>Author</th>\n",
       "      <th>Date</th>\n",
       "    </tr>\n",
       "  </thead>\n",
       "  <tbody>\n",
       "    <tr>\n",
       "      <td>0</td>\n",
       "      <td>Ginger is singing GAGA! YAS HUNTY! #KatyKeene</td>\n",
       "      <td>mrandamiller517</td>\n",
       "      <td>February 14, 2020 1:49:41 AM UTC</td>\n",
       "    </tr>\n",
       "    <tr>\n",
       "      <td>1</td>\n",
       "      <td>Tears every time @iamamurray sings. So perfect! #KatyKeene</td>\n",
       "      <td>davia_carter</td>\n",
       "      <td>February 14, 2020 1:29:24 AM UTC</td>\n",
       "    </tr>\n",
       "    <tr>\n",
       "      <td>2</td>\n",
       "      <td>Josie singing is indescribably beautiful #KatyKeene</td>\n",
       "      <td>TWDMegaFan1000</td>\n",
       "      <td>March 13, 2020 12:28:29 AM UTC</td>\n",
       "    </tr>\n",
       "    <tr>\n",
       "      <td>3</td>\n",
       "      <td>@MimiHyde will you be singing this episode?💓</td>\n",
       "      <td>katykeenez</td>\n",
       "      <td>March 12, 2020 11:57:50 PM UTC</td>\n",
       "    </tr>\n",
       "    <tr>\n",
       "      <td>4</td>\n",
       "      <td>Adored by @lucyhale singing like no other 🥰🥰🥰🥰#KatyKeene</td>\n",
       "      <td>gradioactive4</td>\n",
       "      <td>March 6, 2020 1:32:33 AM UTC</td>\n",
       "    </tr>\n",
       "  </tbody>\n",
       "</table>\n",
       "</div>"
      ],
      "text/plain": [
       "                                                        Tweet  \\\n",
       "0               Ginger is singing GAGA! YAS HUNTY! #KatyKeene   \n",
       "1  Tears every time @iamamurray sings. So perfect! #KatyKeene   \n",
       "2         Josie singing is indescribably beautiful #KatyKeene   \n",
       "3                @MimiHyde will you be singing this episode?💓   \n",
       "4    Adored by @lucyhale singing like no other 🥰🥰🥰🥰#KatyKeene   \n",
       "\n",
       "            Author                              Date  \n",
       "0  mrandamiller517  February 14, 2020 1:49:41 AM UTC  \n",
       "1     davia_carter  February 14, 2020 1:29:24 AM UTC  \n",
       "2   TWDMegaFan1000    March 13, 2020 12:28:29 AM UTC  \n",
       "3       katykeenez    March 12, 2020 11:57:50 PM UTC  \n",
       "4    gradioactive4      March 6, 2020 1:32:33 AM UTC  "
      ]
     },
     "execution_count": 12,
     "metadata": {},
     "output_type": "execute_result"
    }
   ],
   "source": [
    "pd.concat([sing,song,music]).drop_duplicates().head()"
   ]
  },
  {
   "cell_type": "markdown",
   "metadata": {},
   "source": [
    "# Visualization "
   ]
  },
  {
   "cell_type": "code",
   "execution_count": 13,
   "metadata": {},
   "outputs": [],
   "source": [
    "from datetime import datetime"
   ]
  },
  {
   "cell_type": "code",
   "execution_count": 16,
   "metadata": {},
   "outputs": [
    {
     "data": {
      "text/html": [
       "<div>\n",
       "<style scoped>\n",
       "    .dataframe tbody tr th:only-of-type {\n",
       "        vertical-align: middle;\n",
       "    }\n",
       "\n",
       "    .dataframe tbody tr th {\n",
       "        vertical-align: top;\n",
       "    }\n",
       "\n",
       "    .dataframe thead th {\n",
       "        text-align: right;\n",
       "    }\n",
       "</style>\n",
       "<table border=\"1\" class=\"dataframe\">\n",
       "  <thead>\n",
       "    <tr style=\"text-align: right;\">\n",
       "      <th></th>\n",
       "      <th>Network</th>\n",
       "      <th>Program Title</th>\n",
       "      <th>Airing Title</th>\n",
       "      <th>Season #</th>\n",
       "      <th>Episode #</th>\n",
       "      <th>Date Aired</th>\n",
       "      <th>Emotional Reactions</th>\n",
       "      <th>Reaction Rate</th>\n",
       "    </tr>\n",
       "  </thead>\n",
       "  <tbody>\n",
       "    <tr>\n",
       "      <td>0</td>\n",
       "      <td>FOX</td>\n",
       "      <td>9-1-1 Lone Star</td>\n",
       "      <td>Pilot</td>\n",
       "      <td>1</td>\n",
       "      <td>1</td>\n",
       "      <td>2020-01-19</td>\n",
       "      <td>7001</td>\n",
       "      <td>0.339</td>\n",
       "    </tr>\n",
       "    <tr>\n",
       "      <td>1</td>\n",
       "      <td>FOX</td>\n",
       "      <td>9-1-1 Lone Star</td>\n",
       "      <td>Yee Haw</td>\n",
       "      <td>1</td>\n",
       "      <td>2</td>\n",
       "      <td>2020-01-20</td>\n",
       "      <td>1928</td>\n",
       "      <td>0.133</td>\n",
       "    </tr>\n",
       "    <tr>\n",
       "      <td>2</td>\n",
       "      <td>FOX</td>\n",
       "      <td>9-1-1 Lone Star</td>\n",
       "      <td>Texas Proud</td>\n",
       "      <td>1</td>\n",
       "      <td>3</td>\n",
       "      <td>2020-01-27</td>\n",
       "      <td>1166</td>\n",
       "      <td>0.452</td>\n",
       "    </tr>\n",
       "    <tr>\n",
       "      <td>3</td>\n",
       "      <td>FOX</td>\n",
       "      <td>9-1-1 Lone Star</td>\n",
       "      <td>Act Of God</td>\n",
       "      <td>1</td>\n",
       "      <td>4</td>\n",
       "      <td>2020-02-03</td>\n",
       "      <td>1151</td>\n",
       "      <td>0.414</td>\n",
       "    </tr>\n",
       "    <tr>\n",
       "      <td>4</td>\n",
       "      <td>FOX</td>\n",
       "      <td>9-1-1 Lone Star</td>\n",
       "      <td>Studs</td>\n",
       "      <td>1</td>\n",
       "      <td>5</td>\n",
       "      <td>2020-02-10</td>\n",
       "      <td>1678</td>\n",
       "      <td>0.535</td>\n",
       "    </tr>\n",
       "  </tbody>\n",
       "</table>\n",
       "</div>"
      ],
      "text/plain": [
       "  Network    Program Title Airing Title  Season #  Episode # Date Aired  \\\n",
       "0     FOX  9-1-1 Lone Star        Pilot         1          1 2020-01-19   \n",
       "1     FOX  9-1-1 Lone Star      Yee Haw         1          2 2020-01-20   \n",
       "2     FOX  9-1-1 Lone Star  Texas Proud         1          3 2020-01-27   \n",
       "3     FOX  9-1-1 Lone Star   Act Of God         1          4 2020-02-03   \n",
       "4     FOX  9-1-1 Lone Star        Studs         1          5 2020-02-10   \n",
       "\n",
       "   Emotional Reactions  Reaction Rate  \n",
       "0                 7001          0.339  \n",
       "1                 1928          0.133  \n",
       "2                 1166          0.452  \n",
       "3                 1151          0.414  \n",
       "4                 1678          0.535  "
      ]
     },
     "execution_count": 16,
     "metadata": {},
     "output_type": "execute_result"
    }
   ],
   "source": [
    "TOP5 = pd.read_csv('/Users/sunheepark/Downloads/Top 5 Shows 20200101-20200320-Linear-Recap-Analysis.csv')\n",
    "TOP5['Date Aired'] = pd.to_datetime(TOP5['Date Aired'])\n",
    "TOP5.head(5)"
   ]
  },
  {
   "cell_type": "code",
   "execution_count": 17,
   "metadata": {},
   "outputs": [],
   "source": [
    "TOP5['Reaction Rate'] = TOP5[['Reaction Rate']]*100"
   ]
  },
  {
   "cell_type": "code",
   "execution_count": 18,
   "metadata": {},
   "outputs": [
    {
     "data": {
      "text/html": [
       "<div>\n",
       "<style scoped>\n",
       "    .dataframe tbody tr th:only-of-type {\n",
       "        vertical-align: middle;\n",
       "    }\n",
       "\n",
       "    .dataframe tbody tr th {\n",
       "        vertical-align: top;\n",
       "    }\n",
       "\n",
       "    .dataframe thead th {\n",
       "        text-align: right;\n",
       "    }\n",
       "</style>\n",
       "<table border=\"1\" class=\"dataframe\">\n",
       "  <thead>\n",
       "    <tr style=\"text-align: right;\">\n",
       "      <th></th>\n",
       "      <th>Network</th>\n",
       "      <th>Program Title</th>\n",
       "      <th>Airing Title</th>\n",
       "      <th>Season #</th>\n",
       "      <th>Episode #</th>\n",
       "      <th>Date Aired</th>\n",
       "      <th>Emotional Reactions</th>\n",
       "      <th>Reaction Rate</th>\n",
       "    </tr>\n",
       "  </thead>\n",
       "  <tbody>\n",
       "    <tr>\n",
       "      <td>0</td>\n",
       "      <td>FOX</td>\n",
       "      <td>9-1-1 Lone Star</td>\n",
       "      <td>Pilot</td>\n",
       "      <td>1</td>\n",
       "      <td>1</td>\n",
       "      <td>2020-01-19</td>\n",
       "      <td>7001</td>\n",
       "      <td>33.9</td>\n",
       "    </tr>\n",
       "    <tr>\n",
       "      <td>1</td>\n",
       "      <td>FOX</td>\n",
       "      <td>9-1-1 Lone Star</td>\n",
       "      <td>Yee Haw</td>\n",
       "      <td>1</td>\n",
       "      <td>2</td>\n",
       "      <td>2020-01-20</td>\n",
       "      <td>1928</td>\n",
       "      <td>13.3</td>\n",
       "    </tr>\n",
       "    <tr>\n",
       "      <td>2</td>\n",
       "      <td>FOX</td>\n",
       "      <td>9-1-1 Lone Star</td>\n",
       "      <td>Texas Proud</td>\n",
       "      <td>1</td>\n",
       "      <td>3</td>\n",
       "      <td>2020-01-27</td>\n",
       "      <td>1166</td>\n",
       "      <td>45.2</td>\n",
       "    </tr>\n",
       "    <tr>\n",
       "      <td>3</td>\n",
       "      <td>FOX</td>\n",
       "      <td>9-1-1 Lone Star</td>\n",
       "      <td>Act Of God</td>\n",
       "      <td>1</td>\n",
       "      <td>4</td>\n",
       "      <td>2020-02-03</td>\n",
       "      <td>1151</td>\n",
       "      <td>41.4</td>\n",
       "    </tr>\n",
       "    <tr>\n",
       "      <td>4</td>\n",
       "      <td>FOX</td>\n",
       "      <td>9-1-1 Lone Star</td>\n",
       "      <td>Studs</td>\n",
       "      <td>1</td>\n",
       "      <td>5</td>\n",
       "      <td>2020-02-10</td>\n",
       "      <td>1678</td>\n",
       "      <td>53.5</td>\n",
       "    </tr>\n",
       "  </tbody>\n",
       "</table>\n",
       "</div>"
      ],
      "text/plain": [
       "  Network    Program Title Airing Title  Season #  Episode # Date Aired  \\\n",
       "0     FOX  9-1-1 Lone Star        Pilot         1          1 2020-01-19   \n",
       "1     FOX  9-1-1 Lone Star      Yee Haw         1          2 2020-01-20   \n",
       "2     FOX  9-1-1 Lone Star  Texas Proud         1          3 2020-01-27   \n",
       "3     FOX  9-1-1 Lone Star   Act Of God         1          4 2020-02-03   \n",
       "4     FOX  9-1-1 Lone Star        Studs         1          5 2020-02-10   \n",
       "\n",
       "   Emotional Reactions  Reaction Rate  \n",
       "0                 7001           33.9  \n",
       "1                 1928           13.3  \n",
       "2                 1166           45.2  \n",
       "3                 1151           41.4  \n",
       "4                 1678           53.5  "
      ]
     },
     "execution_count": 18,
     "metadata": {},
     "output_type": "execute_result"
    }
   ],
   "source": [
    "TOP5.head(5)"
   ]
  },
  {
   "cell_type": "code",
   "execution_count": 19,
   "metadata": {},
   "outputs": [
    {
     "data": {
      "text/plain": [
       "Reaction Rate    4530.0\n",
       "dtype: float64"
      ]
     },
     "execution_count": 19,
     "metadata": {},
     "output_type": "execute_result"
    }
   ],
   "source": [
    "((TOP5[TOP5['Program Title'] == 'The Outsider']\\\n",
    "  [['Reaction Rate']].sum())/len(TOP5[TOP5['Program Title'] == 'The Outsider']))*100"
   ]
  },
  {
   "cell_type": "code",
   "execution_count": 20,
   "metadata": {},
   "outputs": [],
   "source": [
    "%precision 3\n",
    "import matplotlib.pyplot as plt\n",
    "import seaborn as sns\n",
    "%matplotlib inline\n",
    "sns.set()"
   ]
  },
  {
   "cell_type": "code",
   "execution_count": 21,
   "metadata": {},
   "outputs": [],
   "source": [
    "TOP5['Aired_Month'] = TOP5['Date Aired'].dt.month"
   ]
  },
  {
   "cell_type": "code",
   "execution_count": 22,
   "metadata": {},
   "outputs": [
    {
     "data": {
      "text/html": [
       "<div>\n",
       "<style scoped>\n",
       "    .dataframe tbody tr th:only-of-type {\n",
       "        vertical-align: middle;\n",
       "    }\n",
       "\n",
       "    .dataframe tbody tr th {\n",
       "        vertical-align: top;\n",
       "    }\n",
       "\n",
       "    .dataframe thead th {\n",
       "        text-align: right;\n",
       "    }\n",
       "</style>\n",
       "<table border=\"1\" class=\"dataframe\">\n",
       "  <thead>\n",
       "    <tr style=\"text-align: right;\">\n",
       "      <th></th>\n",
       "      <th>Network</th>\n",
       "      <th>Program Title</th>\n",
       "      <th>Airing Title</th>\n",
       "      <th>Season #</th>\n",
       "      <th>Episode #</th>\n",
       "      <th>Date Aired</th>\n",
       "      <th>Emotional Reactions</th>\n",
       "      <th>Reaction Rate</th>\n",
       "      <th>Aired_Month</th>\n",
       "    </tr>\n",
       "  </thead>\n",
       "  <tbody>\n",
       "    <tr>\n",
       "      <td>0</td>\n",
       "      <td>FOX</td>\n",
       "      <td>9-1-1 Lone Star</td>\n",
       "      <td>Pilot</td>\n",
       "      <td>1</td>\n",
       "      <td>1</td>\n",
       "      <td>2020-01-19</td>\n",
       "      <td>7001</td>\n",
       "      <td>33.9</td>\n",
       "      <td>1</td>\n",
       "    </tr>\n",
       "    <tr>\n",
       "      <td>1</td>\n",
       "      <td>FOX</td>\n",
       "      <td>9-1-1 Lone Star</td>\n",
       "      <td>Yee Haw</td>\n",
       "      <td>1</td>\n",
       "      <td>2</td>\n",
       "      <td>2020-01-20</td>\n",
       "      <td>1928</td>\n",
       "      <td>13.3</td>\n",
       "      <td>1</td>\n",
       "    </tr>\n",
       "    <tr>\n",
       "      <td>2</td>\n",
       "      <td>FOX</td>\n",
       "      <td>9-1-1 Lone Star</td>\n",
       "      <td>Texas Proud</td>\n",
       "      <td>1</td>\n",
       "      <td>3</td>\n",
       "      <td>2020-01-27</td>\n",
       "      <td>1166</td>\n",
       "      <td>45.2</td>\n",
       "      <td>1</td>\n",
       "    </tr>\n",
       "    <tr>\n",
       "      <td>3</td>\n",
       "      <td>FOX</td>\n",
       "      <td>9-1-1 Lone Star</td>\n",
       "      <td>Act Of God</td>\n",
       "      <td>1</td>\n",
       "      <td>4</td>\n",
       "      <td>2020-02-03</td>\n",
       "      <td>1151</td>\n",
       "      <td>41.4</td>\n",
       "      <td>2</td>\n",
       "    </tr>\n",
       "    <tr>\n",
       "      <td>4</td>\n",
       "      <td>FOX</td>\n",
       "      <td>9-1-1 Lone Star</td>\n",
       "      <td>Studs</td>\n",
       "      <td>1</td>\n",
       "      <td>5</td>\n",
       "      <td>2020-02-10</td>\n",
       "      <td>1678</td>\n",
       "      <td>53.5</td>\n",
       "      <td>2</td>\n",
       "    </tr>\n",
       "  </tbody>\n",
       "</table>\n",
       "</div>"
      ],
      "text/plain": [
       "  Network    Program Title Airing Title  Season #  Episode # Date Aired  \\\n",
       "0     FOX  9-1-1 Lone Star        Pilot         1          1 2020-01-19   \n",
       "1     FOX  9-1-1 Lone Star      Yee Haw         1          2 2020-01-20   \n",
       "2     FOX  9-1-1 Lone Star  Texas Proud         1          3 2020-01-27   \n",
       "3     FOX  9-1-1 Lone Star   Act Of God         1          4 2020-02-03   \n",
       "4     FOX  9-1-1 Lone Star        Studs         1          5 2020-02-10   \n",
       "\n",
       "   Emotional Reactions  Reaction Rate  Aired_Month  \n",
       "0                 7001           33.9            1  \n",
       "1                 1928           13.3            1  \n",
       "2                 1166           45.2            1  \n",
       "3                 1151           41.4            2  \n",
       "4                 1678           53.5            2  "
      ]
     },
     "execution_count": 22,
     "metadata": {},
     "output_type": "execute_result"
    }
   ],
   "source": [
    "TOP5.head(5)"
   ]
  },
  {
   "cell_type": "code",
   "execution_count": 152,
   "metadata": {},
   "outputs": [],
   "source": [
    "# TOP5.to_csv('TOP5 Show.csv',index=False)"
   ]
  },
  {
   "cell_type": "code",
   "execution_count": 23,
   "metadata": {},
   "outputs": [
    {
     "data": {
      "text/html": [
       "<div>\n",
       "<style scoped>\n",
       "    .dataframe tbody tr th:only-of-type {\n",
       "        vertical-align: middle;\n",
       "    }\n",
       "\n",
       "    .dataframe tbody tr th {\n",
       "        vertical-align: top;\n",
       "    }\n",
       "\n",
       "    .dataframe thead th {\n",
       "        text-align: right;\n",
       "    }\n",
       "</style>\n",
       "<table border=\"1\" class=\"dataframe\">\n",
       "  <thead>\n",
       "    <tr style=\"text-align: right;\">\n",
       "      <th></th>\n",
       "      <th>Emotional Reactions</th>\n",
       "      <th>Reaction Rate</th>\n",
       "    </tr>\n",
       "    <tr>\n",
       "      <th>Aired_Month</th>\n",
       "      <th></th>\n",
       "      <th></th>\n",
       "    </tr>\n",
       "  </thead>\n",
       "  <tbody>\n",
       "    <tr>\n",
       "      <td>1</td>\n",
       "      <td>2044.50</td>\n",
       "      <td>41.475000</td>\n",
       "    </tr>\n",
       "    <tr>\n",
       "      <td>2</td>\n",
       "      <td>1468.00</td>\n",
       "      <td>44.188235</td>\n",
       "    </tr>\n",
       "    <tr>\n",
       "      <td>3</td>\n",
       "      <td>1294.25</td>\n",
       "      <td>43.016667</td>\n",
       "    </tr>\n",
       "  </tbody>\n",
       "</table>\n",
       "</div>"
      ],
      "text/plain": [
       "             Emotional Reactions  Reaction Rate\n",
       "Aired_Month                                    \n",
       "1                        2044.50      41.475000\n",
       "2                        1468.00      44.188235\n",
       "3                        1294.25      43.016667"
      ]
     },
     "execution_count": 23,
     "metadata": {},
     "output_type": "execute_result"
    }
   ],
   "source": [
    "TOP5.groupby('Aired_Month')['Emotional Reactions','Reaction Rate'].mean()"
   ]
  },
  {
   "cell_type": "code",
   "execution_count": 24,
   "metadata": {},
   "outputs": [],
   "source": [
    "from matplotlib import rcParams\n",
    "\n",
    "# figure size in inches\n",
    "# seaborn size # seaborn 사이즈\n",
    "rcParams['figure.figsize'] = 13,10"
   ]
  },
  {
   "cell_type": "code",
   "execution_count": 25,
   "metadata": {},
   "outputs": [
    {
     "data": {
      "text/plain": [
       "Text(0, 0.5, 'Amount of Episode')"
      ]
     },
     "execution_count": 25,
     "metadata": {},
     "output_type": "execute_result"
    },
    {
     "data": {
      "image/png": "[encoded data removed]",
      "text/plain": [
       "<Figure size 936x720 with 1 Axes>"
      ]
     },
     "metadata": {
      "needs_background": "light"
     },
     "output_type": "display_data"
    }
   ],
   "source": [
    "ax = plt.subplots()\n",
    "ax = sns.countplot('Program Title', data = TOP5)\n",
    "#ax.set_title('TV shows & Amount of ep')\n",
    "ax.set_xlabel('Program Title')\n",
    "ax.set_ylabel('Amount of Episode')"
   ]
  },
  {
   "cell_type": "code",
   "execution_count": 26,
   "metadata": {},
   "outputs": [
    {
     "data": {
      "text/html": [
       "<div>\n",
       "<style scoped>\n",
       "    .dataframe tbody tr th:only-of-type {\n",
       "        vertical-align: middle;\n",
       "    }\n",
       "\n",
       "    .dataframe tbody tr th {\n",
       "        vertical-align: top;\n",
       "    }\n",
       "\n",
       "    .dataframe thead th {\n",
       "        text-align: right;\n",
       "    }\n",
       "</style>\n",
       "<table border=\"1\" class=\"dataframe\">\n",
       "  <thead>\n",
       "    <tr style=\"text-align: right;\">\n",
       "      <th></th>\n",
       "      <th>Network</th>\n",
       "      <th>Program Title</th>\n",
       "      <th>Airing Title</th>\n",
       "      <th>Season #</th>\n",
       "      <th>Episode #</th>\n",
       "      <th>Date Aired</th>\n",
       "      <th>Emotional Reactions</th>\n",
       "      <th>Reaction Rate</th>\n",
       "      <th>Aired_Month</th>\n",
       "    </tr>\n",
       "  </thead>\n",
       "  <tbody>\n",
       "    <tr>\n",
       "      <td>0</td>\n",
       "      <td>FOX</td>\n",
       "      <td>9-1-1 Lone Star</td>\n",
       "      <td>Pilot</td>\n",
       "      <td>1</td>\n",
       "      <td>1</td>\n",
       "      <td>2020-01-19</td>\n",
       "      <td>7001</td>\n",
       "      <td>33.9</td>\n",
       "      <td>1</td>\n",
       "    </tr>\n",
       "    <tr>\n",
       "      <td>1</td>\n",
       "      <td>FOX</td>\n",
       "      <td>9-1-1 Lone Star</td>\n",
       "      <td>Yee Haw</td>\n",
       "      <td>1</td>\n",
       "      <td>2</td>\n",
       "      <td>2020-01-20</td>\n",
       "      <td>1928</td>\n",
       "      <td>13.3</td>\n",
       "      <td>1</td>\n",
       "    </tr>\n",
       "    <tr>\n",
       "      <td>2</td>\n",
       "      <td>FOX</td>\n",
       "      <td>9-1-1 Lone Star</td>\n",
       "      <td>Texas Proud</td>\n",
       "      <td>1</td>\n",
       "      <td>3</td>\n",
       "      <td>2020-01-27</td>\n",
       "      <td>1166</td>\n",
       "      <td>45.2</td>\n",
       "      <td>1</td>\n",
       "    </tr>\n",
       "    <tr>\n",
       "      <td>3</td>\n",
       "      <td>FOX</td>\n",
       "      <td>9-1-1 Lone Star</td>\n",
       "      <td>Act Of God</td>\n",
       "      <td>1</td>\n",
       "      <td>4</td>\n",
       "      <td>2020-02-03</td>\n",
       "      <td>1151</td>\n",
       "      <td>41.4</td>\n",
       "      <td>2</td>\n",
       "    </tr>\n",
       "    <tr>\n",
       "      <td>4</td>\n",
       "      <td>FOX</td>\n",
       "      <td>9-1-1 Lone Star</td>\n",
       "      <td>Studs</td>\n",
       "      <td>1</td>\n",
       "      <td>5</td>\n",
       "      <td>2020-02-10</td>\n",
       "      <td>1678</td>\n",
       "      <td>53.5</td>\n",
       "      <td>2</td>\n",
       "    </tr>\n",
       "  </tbody>\n",
       "</table>\n",
       "</div>"
      ],
      "text/plain": [
       "  Network    Program Title Airing Title  Season #  Episode # Date Aired  \\\n",
       "0     FOX  9-1-1 Lone Star        Pilot         1          1 2020-01-19   \n",
       "1     FOX  9-1-1 Lone Star      Yee Haw         1          2 2020-01-20   \n",
       "2     FOX  9-1-1 Lone Star  Texas Proud         1          3 2020-01-27   \n",
       "3     FOX  9-1-1 Lone Star   Act Of God         1          4 2020-02-03   \n",
       "4     FOX  9-1-1 Lone Star        Studs         1          5 2020-02-10   \n",
       "\n",
       "   Emotional Reactions  Reaction Rate  Aired_Month  \n",
       "0                 7001           33.9            1  \n",
       "1                 1928           13.3            1  \n",
       "2                 1166           45.2            1  \n",
       "3                 1151           41.4            2  \n",
       "4                 1678           53.5            2  "
      ]
     },
     "execution_count": 26,
     "metadata": {},
     "output_type": "execute_result"
    }
   ],
   "source": [
    "TOP5.head()"
   ]
  },
  {
   "cell_type": "code",
   "execution_count": 27,
   "metadata": {},
   "outputs": [
    {
     "data": {
      "text/html": [
       "<div>\n",
       "<style scoped>\n",
       "    .dataframe tbody tr th:only-of-type {\n",
       "        vertical-align: middle;\n",
       "    }\n",
       "\n",
       "    .dataframe tbody tr th {\n",
       "        vertical-align: top;\n",
       "    }\n",
       "\n",
       "    .dataframe thead th {\n",
       "        text-align: right;\n",
       "    }\n",
       "</style>\n",
       "<table border=\"1\" class=\"dataframe\">\n",
       "  <thead>\n",
       "    <tr style=\"text-align: right;\">\n",
       "      <th></th>\n",
       "      <th></th>\n",
       "      <th>Program Title</th>\n",
       "      <th>Emotional Reactions</th>\n",
       "      <th>Reaction Rate</th>\n",
       "    </tr>\n",
       "    <tr>\n",
       "      <th>Network</th>\n",
       "      <th>Program Title</th>\n",
       "      <th></th>\n",
       "      <th></th>\n",
       "      <th></th>\n",
       "    </tr>\n",
       "  </thead>\n",
       "  <tbody>\n",
       "    <tr>\n",
       "      <td>ABC</td>\n",
       "      <td>For Life</td>\n",
       "      <td>For Life</td>\n",
       "      <td>1654.000000</td>\n",
       "      <td>49.920000</td>\n",
       "    </tr>\n",
       "    <tr>\n",
       "      <td>CW</td>\n",
       "      <td>Katy Keene</td>\n",
       "      <td>Katy Keene</td>\n",
       "      <td>1404.714286</td>\n",
       "      <td>37.814286</td>\n",
       "    </tr>\n",
       "    <tr>\n",
       "      <td>FOX</td>\n",
       "      <td>9-1-1 Lone Star</td>\n",
       "      <td>9-1-1 Lone Star</td>\n",
       "      <td>2362.222222</td>\n",
       "      <td>38.522222</td>\n",
       "    </tr>\n",
       "    <tr>\n",
       "      <td>HBO</td>\n",
       "      <td>The Outsider</td>\n",
       "      <td>The Outsider</td>\n",
       "      <td>1000.400000</td>\n",
       "      <td>45.300000</td>\n",
       "    </tr>\n",
       "    <tr>\n",
       "      <td>NBC</td>\n",
       "      <td>Zoey's Extraordinary Playlist</td>\n",
       "      <td>Zoey's Extraordinary Playlist</td>\n",
       "      <td>1246.000000</td>\n",
       "      <td>47.533333</td>\n",
       "    </tr>\n",
       "  </tbody>\n",
       "</table>\n",
       "</div>"
      ],
      "text/plain": [
       "                                                       Program Title  \\\n",
       "Network Program Title                                                  \n",
       "ABC     For Life                                            For Life   \n",
       "CW      Katy Keene                                        Katy Keene   \n",
       "FOX     9-1-1 Lone Star                              9-1-1 Lone Star   \n",
       "HBO     The Outsider                                    The Outsider   \n",
       "NBC     Zoey's Extraordinary Playlist  Zoey's Extraordinary Playlist   \n",
       "\n",
       "                                       Emotional Reactions  Reaction Rate  \n",
       "Network Program Title                                                      \n",
       "ABC     For Life                               1654.000000      49.920000  \n",
       "CW      Katy Keene                             1404.714286      37.814286  \n",
       "FOX     9-1-1 Lone Star                        2362.222222      38.522222  \n",
       "HBO     The Outsider                           1000.400000      45.300000  \n",
       "NBC     Zoey's Extraordinary Playlist          1246.000000      47.533333  "
      ]
     },
     "execution_count": 27,
     "metadata": {},
     "output_type": "execute_result"
    }
   ],
   "source": [
    "mean_value = TOP5.groupby(['Network','Program Title'])['Emotional Reactions','Reaction Rate'].mean()\n",
    "mean_value['Program Title'] = ['For Life','Katy Keene','9-1-1 Lone Star',\n",
    "                               'The Outsider','Zoey\\'s Extraordinary Playlist']\n",
    "mean_value = mean_value[['Program Title', 'Emotional Reactions', 'Reaction Rate']]\n",
    "mean_value"
   ]
  },
  {
   "cell_type": "code",
   "execution_count": 28,
   "metadata": {},
   "outputs": [
    {
     "data": {
      "image/png": "[encoded data removed]",
      "text/plain": [
       "<Figure size 538.35x360 with 1 Axes>"
      ]
     },
     "metadata": {
      "needs_background": "light"
     },
     "output_type": "display_data"
    }
   ],
   "source": [
    "scatter = sns.lmplot(x= 'Emotional Reactions', y = 'Reaction Rate', \n",
    "                     data = mean_value, hue = 'Program Title')"
   ]
  },
  {
   "cell_type": "code",
   "execution_count": 29,
   "metadata": {},
   "outputs": [
    {
     "data": {
      "text/html": [
       "<div>\n",
       "<style scoped>\n",
       "    .dataframe tbody tr th:only-of-type {\n",
       "        vertical-align: middle;\n",
       "    }\n",
       "\n",
       "    .dataframe tbody tr th {\n",
       "        vertical-align: top;\n",
       "    }\n",
       "\n",
       "    .dataframe thead th {\n",
       "        text-align: right;\n",
       "    }\n",
       "</style>\n",
       "<table border=\"1\" class=\"dataframe\">\n",
       "  <thead>\n",
       "    <tr style=\"text-align: right;\">\n",
       "      <th></th>\n",
       "      <th>Emotional Reactions</th>\n",
       "      <th>Reaction Rate</th>\n",
       "    </tr>\n",
       "    <tr>\n",
       "      <th>Program Title</th>\n",
       "      <th></th>\n",
       "      <th></th>\n",
       "    </tr>\n",
       "  </thead>\n",
       "  <tbody>\n",
       "    <tr>\n",
       "      <td>9-1-1 Lone Star</td>\n",
       "      <td>21260</td>\n",
       "      <td>346.7</td>\n",
       "    </tr>\n",
       "    <tr>\n",
       "      <td>For Life</td>\n",
       "      <td>8270</td>\n",
       "      <td>249.6</td>\n",
       "    </tr>\n",
       "    <tr>\n",
       "      <td>Katy Keene</td>\n",
       "      <td>9833</td>\n",
       "      <td>264.7</td>\n",
       "    </tr>\n",
       "    <tr>\n",
       "      <td>The Outsider</td>\n",
       "      <td>10004</td>\n",
       "      <td>453.0</td>\n",
       "    </tr>\n",
       "    <tr>\n",
       "      <td>Zoey's Extraordinary Playlist</td>\n",
       "      <td>7476</td>\n",
       "      <td>285.2</td>\n",
       "    </tr>\n",
       "  </tbody>\n",
       "</table>\n",
       "</div>"
      ],
      "text/plain": [
       "                               Emotional Reactions  Reaction Rate\n",
       "Program Title                                                    \n",
       "9-1-1 Lone Star                              21260          346.7\n",
       "For Life                                      8270          249.6\n",
       "Katy Keene                                    9833          264.7\n",
       "The Outsider                                 10004          453.0\n",
       "Zoey's Extraordinary Playlist                 7476          285.2"
      ]
     },
     "execution_count": 29,
     "metadata": {},
     "output_type": "execute_result"
    }
   ],
   "source": [
    "ER_RR = TOP5.groupby(['Program Title'])['Emotional Reactions','Reaction Rate'].sum()\n",
    "ER_RR"
   ]
  },
  {
   "cell_type": "code",
   "execution_count": 32,
   "metadata": {},
   "outputs": [
    {
     "data": {
      "text/html": [
       "<div>\n",
       "<style scoped>\n",
       "    .dataframe tbody tr th:only-of-type {\n",
       "        vertical-align: middle;\n",
       "    }\n",
       "\n",
       "    .dataframe tbody tr th {\n",
       "        vertical-align: top;\n",
       "    }\n",
       "\n",
       "    .dataframe thead th {\n",
       "        text-align: right;\n",
       "    }\n",
       "</style>\n",
       "<table border=\"1\" class=\"dataframe\">\n",
       "  <thead>\n",
       "    <tr style=\"text-align: right;\">\n",
       "      <th></th>\n",
       "      <th></th>\n",
       "      <th></th>\n",
       "      <th>Emotional Reactions</th>\n",
       "      <th>Reaction Rate</th>\n",
       "    </tr>\n",
       "    <tr>\n",
       "      <th>Network</th>\n",
       "      <th>Program Title</th>\n",
       "      <th>Aired_Month</th>\n",
       "      <th></th>\n",
       "      <th></th>\n",
       "    </tr>\n",
       "  </thead>\n",
       "  <tbody>\n",
       "    <tr>\n",
       "      <td rowspan=\"2\" valign=\"top\">ABC</td>\n",
       "      <td rowspan=\"2\" valign=\"top\">For Life</td>\n",
       "      <td>2</td>\n",
       "      <td>2019.00</td>\n",
       "      <td>46.366667</td>\n",
       "    </tr>\n",
       "    <tr>\n",
       "      <td>3</td>\n",
       "      <td>1106.50</td>\n",
       "      <td>55.250000</td>\n",
       "    </tr>\n",
       "    <tr>\n",
       "      <td rowspan=\"2\" valign=\"top\">CW</td>\n",
       "      <td rowspan=\"2\" valign=\"top\">Katy Keene</td>\n",
       "      <td>2</td>\n",
       "      <td>1739.75</td>\n",
       "      <td>38.175000</td>\n",
       "    </tr>\n",
       "    <tr>\n",
       "      <td>3</td>\n",
       "      <td>958.00</td>\n",
       "      <td>37.333333</td>\n",
       "    </tr>\n",
       "    <tr>\n",
       "      <td rowspan=\"3\" valign=\"top\">FOX</td>\n",
       "      <td rowspan=\"3\" valign=\"top\">9-1-1 Lone Star</td>\n",
       "      <td>1</td>\n",
       "      <td>3365.00</td>\n",
       "      <td>30.800000</td>\n",
       "    </tr>\n",
       "    <tr>\n",
       "      <td>2</td>\n",
       "      <td>1307.50</td>\n",
       "      <td>43.850000</td>\n",
       "    </tr>\n",
       "    <tr>\n",
       "      <td>3</td>\n",
       "      <td>2967.50</td>\n",
       "      <td>39.450000</td>\n",
       "    </tr>\n",
       "    <tr>\n",
       "      <td rowspan=\"3\" valign=\"top\">HBO</td>\n",
       "      <td rowspan=\"3\" valign=\"top\">The Outsider</td>\n",
       "      <td>1</td>\n",
       "      <td>1210.00</td>\n",
       "      <td>47.125000</td>\n",
       "    </tr>\n",
       "    <tr>\n",
       "      <td>2</td>\n",
       "      <td>933.25</td>\n",
       "      <td>46.550000</td>\n",
       "    </tr>\n",
       "    <tr>\n",
       "      <td>3</td>\n",
       "      <td>715.50</td>\n",
       "      <td>39.150000</td>\n",
       "    </tr>\n",
       "    <tr>\n",
       "      <td rowspan=\"3\" valign=\"top\">NBC</td>\n",
       "      <td rowspan=\"3\" valign=\"top\">Zoey's Extraordinary Playlist</td>\n",
       "      <td>1</td>\n",
       "      <td>1421.00</td>\n",
       "      <td>50.900000</td>\n",
       "    </tr>\n",
       "    <tr>\n",
       "      <td>2</td>\n",
       "      <td>1488.50</td>\n",
       "      <td>48.900000</td>\n",
       "    </tr>\n",
       "    <tr>\n",
       "      <td>3</td>\n",
       "      <td>1026.00</td>\n",
       "      <td>45.500000</td>\n",
       "    </tr>\n",
       "  </tbody>\n",
       "</table>\n",
       "</div>"
      ],
      "text/plain": [
       "                                                   Emotional Reactions  \\\n",
       "Network Program Title                 Aired_Month                        \n",
       "ABC     For Life                      2                        2019.00   \n",
       "                                      3                        1106.50   \n",
       "CW      Katy Keene                    2                        1739.75   \n",
       "                                      3                         958.00   \n",
       "FOX     9-1-1 Lone Star               1                        3365.00   \n",
       "                                      2                        1307.50   \n",
       "                                      3                        2967.50   \n",
       "HBO     The Outsider                  1                        1210.00   \n",
       "                                      2                         933.25   \n",
       "                                      3                         715.50   \n",
       "NBC     Zoey's Extraordinary Playlist 1                        1421.00   \n",
       "                                      2                        1488.50   \n",
       "                                      3                        1026.00   \n",
       "\n",
       "                                                   Reaction Rate  \n",
       "Network Program Title                 Aired_Month                 \n",
       "ABC     For Life                      2                46.366667  \n",
       "                                      3                55.250000  \n",
       "CW      Katy Keene                    2                38.175000  \n",
       "                                      3                37.333333  \n",
       "FOX     9-1-1 Lone Star               1                30.800000  \n",
       "                                      2                43.850000  \n",
       "                                      3                39.450000  \n",
       "HBO     The Outsider                  1                47.125000  \n",
       "                                      2                46.550000  \n",
       "                                      3                39.150000  \n",
       "NBC     Zoey's Extraordinary Playlist 1                50.900000  \n",
       "                                      2                48.900000  \n",
       "                                      3                45.500000  "
      ]
     },
     "execution_count": 32,
     "metadata": {},
     "output_type": "execute_result"
    }
   ],
   "source": [
    "mean_value_dt = TOP5.groupby(['Network','Program Title','Aired_Month'])['Emotional Reactions','Reaction Rate'].mean()\n",
    "mean_value_dt"
   ]
  },
  {
   "cell_type": "code",
   "execution_count": 35,
   "metadata": {},
   "outputs": [
    {
     "data": {
      "text/html": [
       "<div>\n",
       "<style scoped>\n",
       "    .dataframe tbody tr th:only-of-type {\n",
       "        vertical-align: middle;\n",
       "    }\n",
       "\n",
       "    .dataframe tbody tr th {\n",
       "        vertical-align: top;\n",
       "    }\n",
       "\n",
       "    .dataframe thead th {\n",
       "        text-align: right;\n",
       "    }\n",
       "</style>\n",
       "<table border=\"1\" class=\"dataframe\">\n",
       "  <thead>\n",
       "    <tr style=\"text-align: right;\">\n",
       "      <th></th>\n",
       "      <th></th>\n",
       "      <th></th>\n",
       "      <th>Emotional Reactions</th>\n",
       "      <th>Reaction Rate</th>\n",
       "    </tr>\n",
       "    <tr>\n",
       "      <th>Network</th>\n",
       "      <th>Program Title</th>\n",
       "      <th>Aired_Month</th>\n",
       "      <th></th>\n",
       "      <th></th>\n",
       "    </tr>\n",
       "  </thead>\n",
       "  <tbody>\n",
       "    <tr>\n",
       "      <td rowspan=\"2\" valign=\"top\">HBO</td>\n",
       "      <td rowspan=\"2\" valign=\"top\">The Outsider</td>\n",
       "      <td>3</td>\n",
       "      <td>715.50</td>\n",
       "      <td>39.150000</td>\n",
       "    </tr>\n",
       "    <tr>\n",
       "      <td>2</td>\n",
       "      <td>933.25</td>\n",
       "      <td>46.550000</td>\n",
       "    </tr>\n",
       "    <tr>\n",
       "      <td>CW</td>\n",
       "      <td>Katy Keene</td>\n",
       "      <td>3</td>\n",
       "      <td>958.00</td>\n",
       "      <td>37.333333</td>\n",
       "    </tr>\n",
       "    <tr>\n",
       "      <td>NBC</td>\n",
       "      <td>Zoey's Extraordinary Playlist</td>\n",
       "      <td>3</td>\n",
       "      <td>1026.00</td>\n",
       "      <td>45.500000</td>\n",
       "    </tr>\n",
       "    <tr>\n",
       "      <td>ABC</td>\n",
       "      <td>For Life</td>\n",
       "      <td>3</td>\n",
       "      <td>1106.50</td>\n",
       "      <td>55.250000</td>\n",
       "    </tr>\n",
       "    <tr>\n",
       "      <td>HBO</td>\n",
       "      <td>The Outsider</td>\n",
       "      <td>1</td>\n",
       "      <td>1210.00</td>\n",
       "      <td>47.125000</td>\n",
       "    </tr>\n",
       "    <tr>\n",
       "      <td>FOX</td>\n",
       "      <td>9-1-1 Lone Star</td>\n",
       "      <td>2</td>\n",
       "      <td>1307.50</td>\n",
       "      <td>43.850000</td>\n",
       "    </tr>\n",
       "    <tr>\n",
       "      <td rowspan=\"2\" valign=\"top\">NBC</td>\n",
       "      <td rowspan=\"2\" valign=\"top\">Zoey's Extraordinary Playlist</td>\n",
       "      <td>1</td>\n",
       "      <td>1421.00</td>\n",
       "      <td>50.900000</td>\n",
       "    </tr>\n",
       "    <tr>\n",
       "      <td>2</td>\n",
       "      <td>1488.50</td>\n",
       "      <td>48.900000</td>\n",
       "    </tr>\n",
       "    <tr>\n",
       "      <td>CW</td>\n",
       "      <td>Katy Keene</td>\n",
       "      <td>2</td>\n",
       "      <td>1739.75</td>\n",
       "      <td>38.175000</td>\n",
       "    </tr>\n",
       "  </tbody>\n",
       "</table>\n",
       "</div>"
      ],
      "text/plain": [
       "                                                   Emotional Reactions  \\\n",
       "Network Program Title                 Aired_Month                        \n",
       "HBO     The Outsider                  3                         715.50   \n",
       "                                      2                         933.25   \n",
       "CW      Katy Keene                    3                         958.00   \n",
       "NBC     Zoey's Extraordinary Playlist 3                        1026.00   \n",
       "ABC     For Life                      3                        1106.50   \n",
       "HBO     The Outsider                  1                        1210.00   \n",
       "FOX     9-1-1 Lone Star               2                        1307.50   \n",
       "NBC     Zoey's Extraordinary Playlist 1                        1421.00   \n",
       "                                      2                        1488.50   \n",
       "CW      Katy Keene                    2                        1739.75   \n",
       "\n",
       "                                                   Reaction Rate  \n",
       "Network Program Title                 Aired_Month                 \n",
       "HBO     The Outsider                  3                39.150000  \n",
       "                                      2                46.550000  \n",
       "CW      Katy Keene                    3                37.333333  \n",
       "NBC     Zoey's Extraordinary Playlist 3                45.500000  \n",
       "ABC     For Life                      3                55.250000  \n",
       "HBO     The Outsider                  1                47.125000  \n",
       "FOX     9-1-1 Lone Star               2                43.850000  \n",
       "NBC     Zoey's Extraordinary Playlist 1                50.900000  \n",
       "                                      2                48.900000  \n",
       "CW      Katy Keene                    2                38.175000  "
      ]
     },
     "execution_count": 35,
     "metadata": {},
     "output_type": "execute_result"
    }
   ],
   "source": [
    "mean_value_dt = mean_value_dt.sort_values(by = 'Emotional Reactions', ascending = True)\n",
    "mean_value_dt.head(10)"
   ]
  },
  {
   "cell_type": "code",
   "execution_count": 25,
   "metadata": {},
   "outputs": [
    {
     "data": {
      "image/png": "[encoded data removed]",
      "text/plain": [
       "<Figure size 936x720 with 1 Axes>"
      ]
     },
     "metadata": {
      "needs_background": "light"
     },
     "output_type": "display_data"
    }
   ],
   "source": [
    "mean_value_dt['Emotional Reactions'].plot.barh(title = 'The Mean of ERs per Month')\n",
    "plt.tight_layout() # Eliminate text overlap (글자 겹침 해소)"
   ]
  },
  {
   "cell_type": "code",
   "execution_count": 36,
   "metadata": {},
   "outputs": [
    {
     "data": {
      "text/html": [
       "<div>\n",
       "<style scoped>\n",
       "    .dataframe tbody tr th:only-of-type {\n",
       "        vertical-align: middle;\n",
       "    }\n",
       "\n",
       "    .dataframe tbody tr th {\n",
       "        vertical-align: top;\n",
       "    }\n",
       "\n",
       "    .dataframe thead th {\n",
       "        text-align: right;\n",
       "    }\n",
       "</style>\n",
       "<table border=\"1\" class=\"dataframe\">\n",
       "  <thead>\n",
       "    <tr style=\"text-align: right;\">\n",
       "      <th></th>\n",
       "      <th>Network</th>\n",
       "      <th>Program Title</th>\n",
       "      <th>Airing Title</th>\n",
       "      <th>Season #</th>\n",
       "      <th>Episode #</th>\n",
       "      <th>Date Aired</th>\n",
       "      <th>Emotional Reactions</th>\n",
       "      <th>Reaction Rate</th>\n",
       "      <th>Aired_Month</th>\n",
       "    </tr>\n",
       "  </thead>\n",
       "  <tbody>\n",
       "    <tr>\n",
       "      <td>0</td>\n",
       "      <td>FOX</td>\n",
       "      <td>9-1-1 Lone Star</td>\n",
       "      <td>Pilot</td>\n",
       "      <td>1</td>\n",
       "      <td>1</td>\n",
       "      <td>2020-01-19</td>\n",
       "      <td>7001</td>\n",
       "      <td>33.9</td>\n",
       "      <td>1</td>\n",
       "    </tr>\n",
       "    <tr>\n",
       "      <td>1</td>\n",
       "      <td>FOX</td>\n",
       "      <td>9-1-1 Lone Star</td>\n",
       "      <td>Yee Haw</td>\n",
       "      <td>1</td>\n",
       "      <td>2</td>\n",
       "      <td>2020-01-20</td>\n",
       "      <td>1928</td>\n",
       "      <td>13.3</td>\n",
       "      <td>1</td>\n",
       "    </tr>\n",
       "    <tr>\n",
       "      <td>2</td>\n",
       "      <td>FOX</td>\n",
       "      <td>9-1-1 Lone Star</td>\n",
       "      <td>Texas Proud</td>\n",
       "      <td>1</td>\n",
       "      <td>3</td>\n",
       "      <td>2020-01-27</td>\n",
       "      <td>1166</td>\n",
       "      <td>45.2</td>\n",
       "      <td>1</td>\n",
       "    </tr>\n",
       "    <tr>\n",
       "      <td>3</td>\n",
       "      <td>FOX</td>\n",
       "      <td>9-1-1 Lone Star</td>\n",
       "      <td>Act Of God</td>\n",
       "      <td>1</td>\n",
       "      <td>4</td>\n",
       "      <td>2020-02-03</td>\n",
       "      <td>1151</td>\n",
       "      <td>41.4</td>\n",
       "      <td>2</td>\n",
       "    </tr>\n",
       "    <tr>\n",
       "      <td>4</td>\n",
       "      <td>FOX</td>\n",
       "      <td>9-1-1 Lone Star</td>\n",
       "      <td>Studs</td>\n",
       "      <td>1</td>\n",
       "      <td>5</td>\n",
       "      <td>2020-02-10</td>\n",
       "      <td>1678</td>\n",
       "      <td>53.5</td>\n",
       "      <td>2</td>\n",
       "    </tr>\n",
       "  </tbody>\n",
       "</table>\n",
       "</div>"
      ],
      "text/plain": [
       "  Network    Program Title Airing Title  Season #  Episode # Date Aired  \\\n",
       "0     FOX  9-1-1 Lone Star        Pilot         1          1 2020-01-19   \n",
       "1     FOX  9-1-1 Lone Star      Yee Haw         1          2 2020-01-20   \n",
       "2     FOX  9-1-1 Lone Star  Texas Proud         1          3 2020-01-27   \n",
       "3     FOX  9-1-1 Lone Star   Act Of God         1          4 2020-02-03   \n",
       "4     FOX  9-1-1 Lone Star        Studs         1          5 2020-02-10   \n",
       "\n",
       "   Emotional Reactions  Reaction Rate  Aired_Month  \n",
       "0                 7001           33.9            1  \n",
       "1                 1928           13.3            1  \n",
       "2                 1166           45.2            1  \n",
       "3                 1151           41.4            2  \n",
       "4                 1678           53.5            2  "
      ]
     },
     "execution_count": 36,
     "metadata": {},
     "output_type": "execute_result"
    }
   ],
   "source": [
    "TOP5.head()"
   ]
  },
  {
   "cell_type": "code",
   "execution_count": 27,
   "metadata": {},
   "outputs": [],
   "source": [
    "# TimeSeries (시계열처리) "
   ]
  },
  {
   "cell_type": "code",
   "execution_count": 37,
   "metadata": {},
   "outputs": [
    {
     "data": {
      "text/html": [
       "<div>\n",
       "<style scoped>\n",
       "    .dataframe tbody tr th:only-of-type {\n",
       "        vertical-align: middle;\n",
       "    }\n",
       "\n",
       "    .dataframe tbody tr th {\n",
       "        vertical-align: top;\n",
       "    }\n",
       "\n",
       "    .dataframe thead th {\n",
       "        text-align: right;\n",
       "    }\n",
       "</style>\n",
       "<table border=\"1\" class=\"dataframe\">\n",
       "  <thead>\n",
       "    <tr style=\"text-align: right;\">\n",
       "      <th></th>\n",
       "      <th>Network</th>\n",
       "      <th>Program Title</th>\n",
       "      <th>Airing Title</th>\n",
       "      <th>Season #</th>\n",
       "      <th>Episode #</th>\n",
       "      <th>Emotional Reactions</th>\n",
       "      <th>Reaction Rate</th>\n",
       "      <th>Aired_Month</th>\n",
       "    </tr>\n",
       "    <tr>\n",
       "      <th>Date Aired</th>\n",
       "      <th></th>\n",
       "      <th></th>\n",
       "      <th></th>\n",
       "      <th></th>\n",
       "      <th></th>\n",
       "      <th></th>\n",
       "      <th></th>\n",
       "      <th></th>\n",
       "    </tr>\n",
       "  </thead>\n",
       "  <tbody>\n",
       "    <tr>\n",
       "      <td>2020-01-19</td>\n",
       "      <td>FOX</td>\n",
       "      <td>9-1-1 Lone Star</td>\n",
       "      <td>Pilot</td>\n",
       "      <td>1</td>\n",
       "      <td>1</td>\n",
       "      <td>7001</td>\n",
       "      <td>33.9</td>\n",
       "      <td>1</td>\n",
       "    </tr>\n",
       "    <tr>\n",
       "      <td>2020-01-20</td>\n",
       "      <td>FOX</td>\n",
       "      <td>9-1-1 Lone Star</td>\n",
       "      <td>Yee Haw</td>\n",
       "      <td>1</td>\n",
       "      <td>2</td>\n",
       "      <td>1928</td>\n",
       "      <td>13.3</td>\n",
       "      <td>1</td>\n",
       "    </tr>\n",
       "    <tr>\n",
       "      <td>2020-01-27</td>\n",
       "      <td>FOX</td>\n",
       "      <td>9-1-1 Lone Star</td>\n",
       "      <td>Texas Proud</td>\n",
       "      <td>1</td>\n",
       "      <td>3</td>\n",
       "      <td>1166</td>\n",
       "      <td>45.2</td>\n",
       "      <td>1</td>\n",
       "    </tr>\n",
       "    <tr>\n",
       "      <td>2020-02-03</td>\n",
       "      <td>FOX</td>\n",
       "      <td>9-1-1 Lone Star</td>\n",
       "      <td>Act Of God</td>\n",
       "      <td>1</td>\n",
       "      <td>4</td>\n",
       "      <td>1151</td>\n",
       "      <td>41.4</td>\n",
       "      <td>2</td>\n",
       "    </tr>\n",
       "    <tr>\n",
       "      <td>2020-02-10</td>\n",
       "      <td>FOX</td>\n",
       "      <td>9-1-1 Lone Star</td>\n",
       "      <td>Studs</td>\n",
       "      <td>1</td>\n",
       "      <td>5</td>\n",
       "      <td>1678</td>\n",
       "      <td>53.5</td>\n",
       "      <td>2</td>\n",
       "    </tr>\n",
       "  </tbody>\n",
       "</table>\n",
       "</div>"
      ],
      "text/plain": [
       "           Network    Program Title Airing Title  Season #  Episode #  \\\n",
       "Date Aired                                                              \n",
       "2020-01-19     FOX  9-1-1 Lone Star        Pilot         1          1   \n",
       "2020-01-20     FOX  9-1-1 Lone Star      Yee Haw         1          2   \n",
       "2020-01-27     FOX  9-1-1 Lone Star  Texas Proud         1          3   \n",
       "2020-02-03     FOX  9-1-1 Lone Star   Act Of God         1          4   \n",
       "2020-02-10     FOX  9-1-1 Lone Star        Studs         1          5   \n",
       "\n",
       "            Emotional Reactions  Reaction Rate  Aired_Month  \n",
       "Date Aired                                                   \n",
       "2020-01-19                 7001           33.9            1  \n",
       "2020-01-20                 1928           13.3            1  \n",
       "2020-01-27                 1166           45.2            1  \n",
       "2020-02-03                 1151           41.4            2  \n",
       "2020-02-10                 1678           53.5            2  "
      ]
     },
     "execution_count": 37,
     "metadata": {},
     "output_type": "execute_result"
    }
   ],
   "source": [
    "t5t = TOP5.set_index('Date Aired')\n",
    "t5t.head()"
   ]
  },
  {
   "cell_type": "code",
   "execution_count": 38,
   "metadata": {},
   "outputs": [
    {
     "data": {
      "text/html": [
       "<div>\n",
       "<style scoped>\n",
       "    .dataframe tbody tr th:only-of-type {\n",
       "        vertical-align: middle;\n",
       "    }\n",
       "\n",
       "    .dataframe tbody tr th {\n",
       "        vertical-align: top;\n",
       "    }\n",
       "\n",
       "    .dataframe thead th {\n",
       "        text-align: right;\n",
       "    }\n",
       "</style>\n",
       "<table border=\"1\" class=\"dataframe\">\n",
       "  <thead>\n",
       "    <tr style=\"text-align: right;\">\n",
       "      <th></th>\n",
       "      <th>Network</th>\n",
       "      <th>Program Title</th>\n",
       "      <th>Airing Title</th>\n",
       "      <th>Season #</th>\n",
       "      <th>Episode #</th>\n",
       "      <th>Emotional Reactions</th>\n",
       "      <th>Reaction Rate</th>\n",
       "      <th>Aired_Month</th>\n",
       "    </tr>\n",
       "    <tr>\n",
       "      <th>Date Aired</th>\n",
       "      <th></th>\n",
       "      <th></th>\n",
       "      <th></th>\n",
       "      <th></th>\n",
       "      <th></th>\n",
       "      <th></th>\n",
       "      <th></th>\n",
       "      <th></th>\n",
       "    </tr>\n",
       "  </thead>\n",
       "  <tbody>\n",
       "    <tr>\n",
       "      <td>2020-01-07</td>\n",
       "      <td>NBC</td>\n",
       "      <td>Zoey's Extraordinary Playlist</td>\n",
       "      <td>Pilot</td>\n",
       "      <td>1</td>\n",
       "      <td>1</td>\n",
       "      <td>1421</td>\n",
       "      <td>50.9</td>\n",
       "      <td>1</td>\n",
       "    </tr>\n",
       "    <tr>\n",
       "      <td>2020-01-12</td>\n",
       "      <td>HBO</td>\n",
       "      <td>The Outsider</td>\n",
       "      <td>Fish In A Barrel</td>\n",
       "      <td>1</td>\n",
       "      <td>1</td>\n",
       "      <td>1997</td>\n",
       "      <td>55.2</td>\n",
       "      <td>1</td>\n",
       "    </tr>\n",
       "    <tr>\n",
       "      <td>2020-01-12</td>\n",
       "      <td>HBO</td>\n",
       "      <td>The Outsider</td>\n",
       "      <td>Roanoke</td>\n",
       "      <td>1</td>\n",
       "      <td>2</td>\n",
       "      <td>1964</td>\n",
       "      <td>55.7</td>\n",
       "      <td>1</td>\n",
       "    </tr>\n",
       "    <tr>\n",
       "      <td>2020-01-19</td>\n",
       "      <td>FOX</td>\n",
       "      <td>9-1-1 Lone Star</td>\n",
       "      <td>Pilot</td>\n",
       "      <td>1</td>\n",
       "      <td>1</td>\n",
       "      <td>7001</td>\n",
       "      <td>33.9</td>\n",
       "      <td>1</td>\n",
       "    </tr>\n",
       "    <tr>\n",
       "      <td>2020-01-19</td>\n",
       "      <td>HBO</td>\n",
       "      <td>The Outsider</td>\n",
       "      <td>Dark Uncle</td>\n",
       "      <td>1</td>\n",
       "      <td>3</td>\n",
       "      <td>575</td>\n",
       "      <td>39.1</td>\n",
       "      <td>1</td>\n",
       "    </tr>\n",
       "  </tbody>\n",
       "</table>\n",
       "</div>"
      ],
      "text/plain": [
       "           Network                  Program Title      Airing Title  Season #  \\\n",
       "Date Aired                                                                      \n",
       "2020-01-07     NBC  Zoey's Extraordinary Playlist             Pilot         1   \n",
       "2020-01-12     HBO                   The Outsider  Fish In A Barrel         1   \n",
       "2020-01-12     HBO                   The Outsider           Roanoke         1   \n",
       "2020-01-19     FOX                9-1-1 Lone Star             Pilot         1   \n",
       "2020-01-19     HBO                   The Outsider        Dark Uncle         1   \n",
       "\n",
       "            Episode #  Emotional Reactions  Reaction Rate  Aired_Month  \n",
       "Date Aired                                                              \n",
       "2020-01-07          1                 1421           50.9            1  \n",
       "2020-01-12          1                 1997           55.2            1  \n",
       "2020-01-12          2                 1964           55.7            1  \n",
       "2020-01-19          1                 7001           33.9            1  \n",
       "2020-01-19          3                  575           39.1            1  "
      ]
     },
     "execution_count": 38,
     "metadata": {},
     "output_type": "execute_result"
    }
   ],
   "source": [
    "t5t.sort_values(by = 'Date Aired', ascending = True).head()"
   ]
  },
  {
   "cell_type": "code",
   "execution_count": 39,
   "metadata": {},
   "outputs": [
    {
     "data": {
      "text/html": [
       "<div>\n",
       "<style scoped>\n",
       "    .dataframe tbody tr th:only-of-type {\n",
       "        vertical-align: middle;\n",
       "    }\n",
       "\n",
       "    .dataframe tbody tr th {\n",
       "        vertical-align: top;\n",
       "    }\n",
       "\n",
       "    .dataframe thead th {\n",
       "        text-align: right;\n",
       "    }\n",
       "</style>\n",
       "<table border=\"1\" class=\"dataframe\">\n",
       "  <thead>\n",
       "    <tr style=\"text-align: right;\">\n",
       "      <th></th>\n",
       "      <th></th>\n",
       "      <th></th>\n",
       "      <th>Airing Title</th>\n",
       "      <th>Season #</th>\n",
       "      <th>Episode #</th>\n",
       "      <th>Emotional Reactions</th>\n",
       "      <th>Reaction Rate</th>\n",
       "      <th>Aired_Month</th>\n",
       "    </tr>\n",
       "    <tr>\n",
       "      <th>Date Aired</th>\n",
       "      <th>Network</th>\n",
       "      <th>Program Title</th>\n",
       "      <th></th>\n",
       "      <th></th>\n",
       "      <th></th>\n",
       "      <th></th>\n",
       "      <th></th>\n",
       "      <th></th>\n",
       "    </tr>\n",
       "  </thead>\n",
       "  <tbody>\n",
       "    <tr>\n",
       "      <td>2020-01-19</td>\n",
       "      <td>FOX</td>\n",
       "      <td>9-1-1 Lone Star</td>\n",
       "      <td>Pilot</td>\n",
       "      <td>1</td>\n",
       "      <td>1</td>\n",
       "      <td>7001</td>\n",
       "      <td>33.9</td>\n",
       "      <td>1</td>\n",
       "    </tr>\n",
       "    <tr>\n",
       "      <td>2020-01-20</td>\n",
       "      <td>FOX</td>\n",
       "      <td>9-1-1 Lone Star</td>\n",
       "      <td>Yee Haw</td>\n",
       "      <td>1</td>\n",
       "      <td>2</td>\n",
       "      <td>1928</td>\n",
       "      <td>13.3</td>\n",
       "      <td>1</td>\n",
       "    </tr>\n",
       "    <tr>\n",
       "      <td>2020-01-27</td>\n",
       "      <td>FOX</td>\n",
       "      <td>9-1-1 Lone Star</td>\n",
       "      <td>Texas Proud</td>\n",
       "      <td>1</td>\n",
       "      <td>3</td>\n",
       "      <td>1166</td>\n",
       "      <td>45.2</td>\n",
       "      <td>1</td>\n",
       "    </tr>\n",
       "    <tr>\n",
       "      <td>2020-02-03</td>\n",
       "      <td>FOX</td>\n",
       "      <td>9-1-1 Lone Star</td>\n",
       "      <td>Act Of God</td>\n",
       "      <td>1</td>\n",
       "      <td>4</td>\n",
       "      <td>1151</td>\n",
       "      <td>41.4</td>\n",
       "      <td>2</td>\n",
       "    </tr>\n",
       "    <tr>\n",
       "      <td>2020-02-10</td>\n",
       "      <td>FOX</td>\n",
       "      <td>9-1-1 Lone Star</td>\n",
       "      <td>Studs</td>\n",
       "      <td>1</td>\n",
       "      <td>5</td>\n",
       "      <td>1678</td>\n",
       "      <td>53.5</td>\n",
       "      <td>2</td>\n",
       "    </tr>\n",
       "  </tbody>\n",
       "</table>\n",
       "</div>"
      ],
      "text/plain": [
       "                                   Airing Title  Season #  Episode #  \\\n",
       "Date Aired Network Program Title                                       \n",
       "2020-01-19 FOX     9-1-1 Lone Star        Pilot         1          1   \n",
       "2020-01-20 FOX     9-1-1 Lone Star      Yee Haw         1          2   \n",
       "2020-01-27 FOX     9-1-1 Lone Star  Texas Proud         1          3   \n",
       "2020-02-03 FOX     9-1-1 Lone Star   Act Of God         1          4   \n",
       "2020-02-10 FOX     9-1-1 Lone Star        Studs         1          5   \n",
       "\n",
       "                                    Emotional Reactions  Reaction Rate  \\\n",
       "Date Aired Network Program Title                                         \n",
       "2020-01-19 FOX     9-1-1 Lone Star                 7001           33.9   \n",
       "2020-01-20 FOX     9-1-1 Lone Star                 1928           13.3   \n",
       "2020-01-27 FOX     9-1-1 Lone Star                 1166           45.2   \n",
       "2020-02-03 FOX     9-1-1 Lone Star                 1151           41.4   \n",
       "2020-02-10 FOX     9-1-1 Lone Star                 1678           53.5   \n",
       "\n",
       "                                    Aired_Month  \n",
       "Date Aired Network Program Title                 \n",
       "2020-01-19 FOX     9-1-1 Lone Star            1  \n",
       "2020-01-20 FOX     9-1-1 Lone Star            1  \n",
       "2020-01-27 FOX     9-1-1 Lone Star            1  \n",
       "2020-02-03 FOX     9-1-1 Lone Star            2  \n",
       "2020-02-10 FOX     9-1-1 Lone Star            2  "
      ]
     },
     "execution_count": 39,
     "metadata": {},
     "output_type": "execute_result"
    }
   ],
   "source": [
    "# another try\n",
    "t5t_2 = TOP5.set_index(['Date Aired','Network','Program Title'])\n",
    "t5t_2.head()"
   ]
  },
  {
   "cell_type": "code",
   "execution_count": 40,
   "metadata": {},
   "outputs": [
    {
     "data": {
      "image/png": "[encoded data removed]",
      "text/plain": [
       "<Figure size 936x720 with 1 Axes>"
      ]
     },
     "metadata": {
      "needs_background": "light"
     },
     "output_type": "display_data"
    }
   ],
   "source": [
    "fig, axes = plt.subplots(1, 1) \n",
    "dd = t5t_2['Emotional Reactions'].plot.barh(title = 'Emotional Reactions')\n",
    "plt.tight_layout()"
   ]
  },
  {
   "cell_type": "code",
   "execution_count": 41,
   "metadata": {},
   "outputs": [
    {
     "data": {
      "text/html": [
       "<div>\n",
       "<style scoped>\n",
       "    .dataframe tbody tr th:only-of-type {\n",
       "        vertical-align: middle;\n",
       "    }\n",
       "\n",
       "    .dataframe tbody tr th {\n",
       "        vertical-align: top;\n",
       "    }\n",
       "\n",
       "    .dataframe thead th {\n",
       "        text-align: right;\n",
       "    }\n",
       "</style>\n",
       "<table border=\"1\" class=\"dataframe\">\n",
       "  <thead>\n",
       "    <tr style=\"text-align: right;\">\n",
       "      <th></th>\n",
       "      <th>Network</th>\n",
       "      <th>Program Title</th>\n",
       "      <th>Airing Title</th>\n",
       "      <th>Season #</th>\n",
       "      <th>Episode #</th>\n",
       "      <th>Emotional Reactions</th>\n",
       "      <th>Reaction Rate</th>\n",
       "      <th>Aired_Month</th>\n",
       "    </tr>\n",
       "    <tr>\n",
       "      <th>Date Aired</th>\n",
       "      <th></th>\n",
       "      <th></th>\n",
       "      <th></th>\n",
       "      <th></th>\n",
       "      <th></th>\n",
       "      <th></th>\n",
       "      <th></th>\n",
       "      <th></th>\n",
       "    </tr>\n",
       "  </thead>\n",
       "  <tbody>\n",
       "    <tr>\n",
       "      <td>2020-01-19</td>\n",
       "      <td>FOX</td>\n",
       "      <td>9-1-1 Lone Star</td>\n",
       "      <td>Pilot</td>\n",
       "      <td>1</td>\n",
       "      <td>1</td>\n",
       "      <td>7001</td>\n",
       "      <td>33.9</td>\n",
       "      <td>1</td>\n",
       "    </tr>\n",
       "    <tr>\n",
       "      <td>2020-01-20</td>\n",
       "      <td>FOX</td>\n",
       "      <td>9-1-1 Lone Star</td>\n",
       "      <td>Yee Haw</td>\n",
       "      <td>1</td>\n",
       "      <td>2</td>\n",
       "      <td>1928</td>\n",
       "      <td>13.3</td>\n",
       "      <td>1</td>\n",
       "    </tr>\n",
       "    <tr>\n",
       "      <td>2020-01-27</td>\n",
       "      <td>FOX</td>\n",
       "      <td>9-1-1 Lone Star</td>\n",
       "      <td>Texas Proud</td>\n",
       "      <td>1</td>\n",
       "      <td>3</td>\n",
       "      <td>1166</td>\n",
       "      <td>45.2</td>\n",
       "      <td>1</td>\n",
       "    </tr>\n",
       "    <tr>\n",
       "      <td>2020-02-03</td>\n",
       "      <td>FOX</td>\n",
       "      <td>9-1-1 Lone Star</td>\n",
       "      <td>Act Of God</td>\n",
       "      <td>1</td>\n",
       "      <td>4</td>\n",
       "      <td>1151</td>\n",
       "      <td>41.4</td>\n",
       "      <td>2</td>\n",
       "    </tr>\n",
       "    <tr>\n",
       "      <td>2020-02-10</td>\n",
       "      <td>FOX</td>\n",
       "      <td>9-1-1 Lone Star</td>\n",
       "      <td>Studs</td>\n",
       "      <td>1</td>\n",
       "      <td>5</td>\n",
       "      <td>1678</td>\n",
       "      <td>53.5</td>\n",
       "      <td>2</td>\n",
       "    </tr>\n",
       "  </tbody>\n",
       "</table>\n",
       "</div>"
      ],
      "text/plain": [
       "           Network    Program Title Airing Title  Season #  Episode #  \\\n",
       "Date Aired                                                              \n",
       "2020-01-19     FOX  9-1-1 Lone Star        Pilot         1          1   \n",
       "2020-01-20     FOX  9-1-1 Lone Star      Yee Haw         1          2   \n",
       "2020-01-27     FOX  9-1-1 Lone Star  Texas Proud         1          3   \n",
       "2020-02-03     FOX  9-1-1 Lone Star   Act Of God         1          4   \n",
       "2020-02-10     FOX  9-1-1 Lone Star        Studs         1          5   \n",
       "\n",
       "            Emotional Reactions  Reaction Rate  Aired_Month  \n",
       "Date Aired                                                   \n",
       "2020-01-19                 7001           33.9            1  \n",
       "2020-01-20                 1928           13.3            1  \n",
       "2020-01-27                 1166           45.2            1  \n",
       "2020-02-03                 1151           41.4            2  \n",
       "2020-02-10                 1678           53.5            2  "
      ]
     },
     "execution_count": 41,
     "metadata": {},
     "output_type": "execute_result"
    }
   ],
   "source": [
    "t5t.head()"
   ]
  },
  {
   "cell_type": "code",
   "execution_count": 42,
   "metadata": {},
   "outputs": [
    {
     "data": {
      "text/html": [
       "<div>\n",
       "<style scoped>\n",
       "    .dataframe tbody tr th:only-of-type {\n",
       "        vertical-align: middle;\n",
       "    }\n",
       "\n",
       "    .dataframe tbody tr th {\n",
       "        vertical-align: top;\n",
       "    }\n",
       "\n",
       "    .dataframe thead th {\n",
       "        text-align: right;\n",
       "    }\n",
       "</style>\n",
       "<table border=\"1\" class=\"dataframe\">\n",
       "  <thead>\n",
       "    <tr style=\"text-align: right;\">\n",
       "      <th></th>\n",
       "      <th>Season #</th>\n",
       "      <th>Episode #</th>\n",
       "      <th>Emotional Reactions</th>\n",
       "      <th>Reaction Rate</th>\n",
       "      <th>Aired_Month</th>\n",
       "    </tr>\n",
       "    <tr>\n",
       "      <th>Program Title</th>\n",
       "      <th></th>\n",
       "      <th></th>\n",
       "      <th></th>\n",
       "      <th></th>\n",
       "      <th></th>\n",
       "    </tr>\n",
       "  </thead>\n",
       "  <tbody>\n",
       "    <tr>\n",
       "      <td>9-1-1 Lone Star</td>\n",
       "      <td>9</td>\n",
       "      <td>45</td>\n",
       "      <td>21260</td>\n",
       "      <td>346.7</td>\n",
       "      <td>17</td>\n",
       "    </tr>\n",
       "    <tr>\n",
       "      <td>For Life</td>\n",
       "      <td>5</td>\n",
       "      <td>15</td>\n",
       "      <td>8270</td>\n",
       "      <td>249.6</td>\n",
       "      <td>12</td>\n",
       "    </tr>\n",
       "    <tr>\n",
       "      <td>Katy Keene</td>\n",
       "      <td>7</td>\n",
       "      <td>28</td>\n",
       "      <td>9833</td>\n",
       "      <td>264.7</td>\n",
       "      <td>17</td>\n",
       "    </tr>\n",
       "    <tr>\n",
       "      <td>The Outsider</td>\n",
       "      <td>10</td>\n",
       "      <td>55</td>\n",
       "      <td>10004</td>\n",
       "      <td>453.0</td>\n",
       "      <td>18</td>\n",
       "    </tr>\n",
       "    <tr>\n",
       "      <td>Zoey's Extraordinary Playlist</td>\n",
       "      <td>6</td>\n",
       "      <td>21</td>\n",
       "      <td>7476</td>\n",
       "      <td>285.2</td>\n",
       "      <td>14</td>\n",
       "    </tr>\n",
       "  </tbody>\n",
       "</table>\n",
       "</div>"
      ],
      "text/plain": [
       "                               Season #  Episode #  Emotional Reactions  \\\n",
       "Program Title                                                             \n",
       "9-1-1 Lone Star                       9         45                21260   \n",
       "For Life                              5         15                 8270   \n",
       "Katy Keene                            7         28                 9833   \n",
       "The Outsider                         10         55                10004   \n",
       "Zoey's Extraordinary Playlist         6         21                 7476   \n",
       "\n",
       "                               Reaction Rate  Aired_Month  \n",
       "Program Title                                              \n",
       "9-1-1 Lone Star                        346.7           17  \n",
       "For Life                               249.6           12  \n",
       "Katy Keene                             264.7           17  \n",
       "The Outsider                           453.0           18  \n",
       "Zoey's Extraordinary Playlist          285.2           14  "
      ]
     },
     "execution_count": 42,
     "metadata": {},
     "output_type": "execute_result"
    }
   ],
   "source": [
    "t5t.groupby('Program Title').sum()"
   ]
  },
  {
   "cell_type": "code",
   "execution_count": 44,
   "metadata": {},
   "outputs": [
    {
     "data": {
      "text/html": [
       "<div>\n",
       "<style scoped>\n",
       "    .dataframe tbody tr th:only-of-type {\n",
       "        vertical-align: middle;\n",
       "    }\n",
       "\n",
       "    .dataframe tbody tr th {\n",
       "        vertical-align: top;\n",
       "    }\n",
       "\n",
       "    .dataframe thead th {\n",
       "        text-align: right;\n",
       "    }\n",
       "</style>\n",
       "<table border=\"1\" class=\"dataframe\">\n",
       "  <thead>\n",
       "    <tr style=\"text-align: right;\">\n",
       "      <th></th>\n",
       "      <th></th>\n",
       "      <th>Emotional Reactions</th>\n",
       "      <th>Reaction Rate</th>\n",
       "    </tr>\n",
       "    <tr>\n",
       "      <th>Program Title</th>\n",
       "      <th>Aired_Month</th>\n",
       "      <th></th>\n",
       "      <th></th>\n",
       "    </tr>\n",
       "  </thead>\n",
       "  <tbody>\n",
       "    <tr>\n",
       "      <td rowspan=\"3\" valign=\"top\">9-1-1 Lone Star</td>\n",
       "      <td>1</td>\n",
       "      <td>3365.00</td>\n",
       "      <td>30.800000</td>\n",
       "    </tr>\n",
       "    <tr>\n",
       "      <td>2</td>\n",
       "      <td>1307.50</td>\n",
       "      <td>43.850000</td>\n",
       "    </tr>\n",
       "    <tr>\n",
       "      <td>3</td>\n",
       "      <td>2967.50</td>\n",
       "      <td>39.450000</td>\n",
       "    </tr>\n",
       "    <tr>\n",
       "      <td rowspan=\"2\" valign=\"top\">For Life</td>\n",
       "      <td>2</td>\n",
       "      <td>2019.00</td>\n",
       "      <td>46.366667</td>\n",
       "    </tr>\n",
       "    <tr>\n",
       "      <td>3</td>\n",
       "      <td>1106.50</td>\n",
       "      <td>55.250000</td>\n",
       "    </tr>\n",
       "    <tr>\n",
       "      <td rowspan=\"2\" valign=\"top\">Katy Keene</td>\n",
       "      <td>2</td>\n",
       "      <td>1739.75</td>\n",
       "      <td>38.175000</td>\n",
       "    </tr>\n",
       "    <tr>\n",
       "      <td>3</td>\n",
       "      <td>958.00</td>\n",
       "      <td>37.333333</td>\n",
       "    </tr>\n",
       "    <tr>\n",
       "      <td rowspan=\"3\" valign=\"top\">The Outsider</td>\n",
       "      <td>1</td>\n",
       "      <td>1210.00</td>\n",
       "      <td>47.125000</td>\n",
       "    </tr>\n",
       "    <tr>\n",
       "      <td>2</td>\n",
       "      <td>933.25</td>\n",
       "      <td>46.550000</td>\n",
       "    </tr>\n",
       "    <tr>\n",
       "      <td>3</td>\n",
       "      <td>715.50</td>\n",
       "      <td>39.150000</td>\n",
       "    </tr>\n",
       "  </tbody>\n",
       "</table>\n",
       "</div>"
      ],
      "text/plain": [
       "                             Emotional Reactions  Reaction Rate\n",
       "Program Title   Aired_Month                                    \n",
       "9-1-1 Lone Star 1                        3365.00      30.800000\n",
       "                2                        1307.50      43.850000\n",
       "                3                        2967.50      39.450000\n",
       "For Life        2                        2019.00      46.366667\n",
       "                3                        1106.50      55.250000\n",
       "Katy Keene      2                        1739.75      38.175000\n",
       "                3                         958.00      37.333333\n",
       "The Outsider    1                        1210.00      47.125000\n",
       "                2                         933.25      46.550000\n",
       "                3                         715.50      39.150000"
      ]
     },
     "execution_count": 44,
     "metadata": {},
     "output_type": "execute_result"
    }
   ],
   "source": [
    "t5t_title = t5t.groupby(['Program Title','Aired_Month']).mean()[['Emotional Reactions','Reaction Rate']]\n",
    "t5t_title.head(10)"
   ]
  },
  {
   "cell_type": "code",
   "execution_count": 31,
   "metadata": {},
   "outputs": [],
   "source": [
    "# Finish TimeSeries "
   ]
  },
  {
   "cell_type": "code",
   "execution_count": 46,
   "metadata": {},
   "outputs": [
    {
     "data": {
      "text/html": [
       "<div>\n",
       "<style scoped>\n",
       "    .dataframe tbody tr th:only-of-type {\n",
       "        vertical-align: middle;\n",
       "    }\n",
       "\n",
       "    .dataframe tbody tr th {\n",
       "        vertical-align: top;\n",
       "    }\n",
       "\n",
       "    .dataframe thead th {\n",
       "        text-align: right;\n",
       "    }\n",
       "</style>\n",
       "<table border=\"1\" class=\"dataframe\">\n",
       "  <thead>\n",
       "    <tr style=\"text-align: right;\">\n",
       "      <th></th>\n",
       "      <th></th>\n",
       "      <th>Emotional Reactions</th>\n",
       "      <th>Reaction Rate</th>\n",
       "    </tr>\n",
       "    <tr>\n",
       "      <th>Network</th>\n",
       "      <th>Program Title</th>\n",
       "      <th></th>\n",
       "      <th></th>\n",
       "    </tr>\n",
       "  </thead>\n",
       "  <tbody>\n",
       "    <tr>\n",
       "      <td>ABC</td>\n",
       "      <td>For Life</td>\n",
       "      <td>1654.000000</td>\n",
       "      <td>49.920000</td>\n",
       "    </tr>\n",
       "    <tr>\n",
       "      <td>CW</td>\n",
       "      <td>Katy Keene</td>\n",
       "      <td>1404.714286</td>\n",
       "      <td>37.814286</td>\n",
       "    </tr>\n",
       "    <tr>\n",
       "      <td>FOX</td>\n",
       "      <td>9-1-1 Lone Star</td>\n",
       "      <td>2362.222222</td>\n",
       "      <td>38.522222</td>\n",
       "    </tr>\n",
       "    <tr>\n",
       "      <td>HBO</td>\n",
       "      <td>The Outsider</td>\n",
       "      <td>1000.400000</td>\n",
       "      <td>45.300000</td>\n",
       "    </tr>\n",
       "    <tr>\n",
       "      <td>NBC</td>\n",
       "      <td>Zoey's Extraordinary Playlist</td>\n",
       "      <td>1246.000000</td>\n",
       "      <td>47.533333</td>\n",
       "    </tr>\n",
       "  </tbody>\n",
       "</table>\n",
       "</div>"
      ],
      "text/plain": [
       "                                       Emotional Reactions  Reaction Rate\n",
       "Network Program Title                                                    \n",
       "ABC     For Life                               1654.000000      49.920000\n",
       "CW      Katy Keene                             1404.714286      37.814286\n",
       "FOX     9-1-1 Lone Star                        2362.222222      38.522222\n",
       "HBO     The Outsider                           1000.400000      45.300000\n",
       "NBC     Zoey's Extraordinary Playlist          1246.000000      47.533333"
      ]
     },
     "execution_count": 46,
     "metadata": {},
     "output_type": "execute_result"
    }
   ],
   "source": [
    "TOP5_ER_mean = TOP5.groupby(['Network','Program Title'])[['Emotional Reactions','Reaction Rate']].mean()\n",
    "TOP5_ER_mean"
   ]
  },
  {
   "cell_type": "code",
   "execution_count": 47,
   "metadata": {},
   "outputs": [],
   "source": [
    "FOX = TOP5[TOP5.Network == 'FOX']\n",
    "HBO = TOP5[TOP5.Network == 'HBO']\n",
    "CW = TOP5[TOP5.Network == 'CW']\n",
    "NBC = TOP5[TOP5.Network == 'NBC']\n",
    "ABC = TOP5[TOP5.Network == 'ABC']"
   ]
  },
  {
   "cell_type": "code",
   "execution_count": 48,
   "metadata": {},
   "outputs": [
    {
     "data": {
      "text/html": [
       "<div>\n",
       "<style scoped>\n",
       "    .dataframe tbody tr th:only-of-type {\n",
       "        vertical-align: middle;\n",
       "    }\n",
       "\n",
       "    .dataframe tbody tr th {\n",
       "        vertical-align: top;\n",
       "    }\n",
       "\n",
       "    .dataframe thead th {\n",
       "        text-align: right;\n",
       "    }\n",
       "</style>\n",
       "<table border=\"1\" class=\"dataframe\">\n",
       "  <thead>\n",
       "    <tr style=\"text-align: right;\">\n",
       "      <th></th>\n",
       "      <th>Network</th>\n",
       "      <th>Program Title</th>\n",
       "      <th>Airing Title</th>\n",
       "      <th>Season #</th>\n",
       "      <th>Episode #</th>\n",
       "      <th>Date Aired</th>\n",
       "      <th>Emotional Reactions</th>\n",
       "      <th>Reaction Rate</th>\n",
       "      <th>Aired_Month</th>\n",
       "    </tr>\n",
       "  </thead>\n",
       "  <tbody>\n",
       "    <tr>\n",
       "      <td>0</td>\n",
       "      <td>FOX</td>\n",
       "      <td>9-1-1 Lone Star</td>\n",
       "      <td>Pilot</td>\n",
       "      <td>1</td>\n",
       "      <td>1</td>\n",
       "      <td>2020-01-19</td>\n",
       "      <td>7001</td>\n",
       "      <td>33.9</td>\n",
       "      <td>1</td>\n",
       "    </tr>\n",
       "    <tr>\n",
       "      <td>1</td>\n",
       "      <td>FOX</td>\n",
       "      <td>9-1-1 Lone Star</td>\n",
       "      <td>Yee Haw</td>\n",
       "      <td>1</td>\n",
       "      <td>2</td>\n",
       "      <td>2020-01-20</td>\n",
       "      <td>1928</td>\n",
       "      <td>13.3</td>\n",
       "      <td>1</td>\n",
       "    </tr>\n",
       "    <tr>\n",
       "      <td>2</td>\n",
       "      <td>FOX</td>\n",
       "      <td>9-1-1 Lone Star</td>\n",
       "      <td>Texas Proud</td>\n",
       "      <td>1</td>\n",
       "      <td>3</td>\n",
       "      <td>2020-01-27</td>\n",
       "      <td>1166</td>\n",
       "      <td>45.2</td>\n",
       "      <td>1</td>\n",
       "    </tr>\n",
       "    <tr>\n",
       "      <td>3</td>\n",
       "      <td>FOX</td>\n",
       "      <td>9-1-1 Lone Star</td>\n",
       "      <td>Act Of God</td>\n",
       "      <td>1</td>\n",
       "      <td>4</td>\n",
       "      <td>2020-02-03</td>\n",
       "      <td>1151</td>\n",
       "      <td>41.4</td>\n",
       "      <td>2</td>\n",
       "    </tr>\n",
       "    <tr>\n",
       "      <td>4</td>\n",
       "      <td>FOX</td>\n",
       "      <td>9-1-1 Lone Star</td>\n",
       "      <td>Studs</td>\n",
       "      <td>1</td>\n",
       "      <td>5</td>\n",
       "      <td>2020-02-10</td>\n",
       "      <td>1678</td>\n",
       "      <td>53.5</td>\n",
       "      <td>2</td>\n",
       "    </tr>\n",
       "    <tr>\n",
       "      <td>5</td>\n",
       "      <td>FOX</td>\n",
       "      <td>9-1-1 Lone Star</td>\n",
       "      <td>Friends Like These</td>\n",
       "      <td>1</td>\n",
       "      <td>6</td>\n",
       "      <td>2020-02-17</td>\n",
       "      <td>1113</td>\n",
       "      <td>39.8</td>\n",
       "      <td>2</td>\n",
       "    </tr>\n",
       "    <tr>\n",
       "      <td>6</td>\n",
       "      <td>FOX</td>\n",
       "      <td>9-1-1 Lone Star</td>\n",
       "      <td>Bum Steer</td>\n",
       "      <td>1</td>\n",
       "      <td>7</td>\n",
       "      <td>2020-02-24</td>\n",
       "      <td>1288</td>\n",
       "      <td>40.7</td>\n",
       "      <td>2</td>\n",
       "    </tr>\n",
       "    <tr>\n",
       "      <td>7</td>\n",
       "      <td>FOX</td>\n",
       "      <td>9-1-1 Lone Star</td>\n",
       "      <td>Monster Inside</td>\n",
       "      <td>1</td>\n",
       "      <td>8</td>\n",
       "      <td>2020-03-02</td>\n",
       "      <td>1918</td>\n",
       "      <td>33.6</td>\n",
       "      <td>3</td>\n",
       "    </tr>\n",
       "    <tr>\n",
       "      <td>8</td>\n",
       "      <td>FOX</td>\n",
       "      <td>9-1-1 Lone Star</td>\n",
       "      <td>Awakening; Austin, We Have A Problem</td>\n",
       "      <td>1</td>\n",
       "      <td>9</td>\n",
       "      <td>2020-03-09</td>\n",
       "      <td>4017</td>\n",
       "      <td>45.3</td>\n",
       "      <td>3</td>\n",
       "    </tr>\n",
       "  </tbody>\n",
       "</table>\n",
       "</div>"
      ],
      "text/plain": [
       "  Network    Program Title                          Airing Title  Season #  \\\n",
       "0     FOX  9-1-1 Lone Star                                 Pilot         1   \n",
       "1     FOX  9-1-1 Lone Star                               Yee Haw         1   \n",
       "2     FOX  9-1-1 Lone Star                           Texas Proud         1   \n",
       "3     FOX  9-1-1 Lone Star                            Act Of God         1   \n",
       "4     FOX  9-1-1 Lone Star                                 Studs         1   \n",
       "5     FOX  9-1-1 Lone Star                    Friends Like These         1   \n",
       "6     FOX  9-1-1 Lone Star                             Bum Steer         1   \n",
       "7     FOX  9-1-1 Lone Star                        Monster Inside         1   \n",
       "8     FOX  9-1-1 Lone Star  Awakening; Austin, We Have A Problem         1   \n",
       "\n",
       "   Episode # Date Aired  Emotional Reactions  Reaction Rate  Aired_Month  \n",
       "0          1 2020-01-19                 7001           33.9            1  \n",
       "1          2 2020-01-20                 1928           13.3            1  \n",
       "2          3 2020-01-27                 1166           45.2            1  \n",
       "3          4 2020-02-03                 1151           41.4            2  \n",
       "4          5 2020-02-10                 1678           53.5            2  \n",
       "5          6 2020-02-17                 1113           39.8            2  \n",
       "6          7 2020-02-24                 1288           40.7            2  \n",
       "7          8 2020-03-02                 1918           33.6            3  \n",
       "8          9 2020-03-09                 4017           45.3            3  "
      ]
     },
     "execution_count": 48,
     "metadata": {},
     "output_type": "execute_result"
    }
   ],
   "source": [
    "FOX"
   ]
  },
  {
   "cell_type": "code",
   "execution_count": 49,
   "metadata": {},
   "outputs": [],
   "source": [
    "# plotly \n",
    "import chart_studio"
   ]
  },
  {
   "cell_type": "code",
   "execution_count": 50,
   "metadata": {},
   "outputs": [
    {
     "data": {
      "text/html": [
       "        <script type=\"text/javascript\">\n",
       "        window.PlotlyConfig = {MathJaxConfig: 'local'};\n",
       "        if (window.MathJax) {MathJax.Hub.Config({SVG: {font: \"STIX-Web\"}});}\n",
       "        if (typeof require !== 'undefined') {\n",
       "        require.undef(\"plotly\");\n",
       "        requirejs.config({\n",
       "            paths: {\n",
       "                'plotly': ['https://cdn.plot.ly/plotly-latest.min']\n",
       "            }\n",
       "        });\n",
       "        require(['plotly'], function(Plotly) {\n",
       "            window._Plotly = Plotly;\n",
       "        });\n",
       "        }\n",
       "        </script>\n",
       "        "
      ]
     },
     "metadata": {},
     "output_type": "display_data"
    }
   ],
   "source": [
    "import cufflinks as cf\n",
    "cf.go_offline()\n",
    "cf.set_config_file(offline=False, world_readable=True)"
   ]
  },
  {
   "cell_type": "code",
   "execution_count": 43,
   "metadata": {},
   "outputs": [],
   "source": [
    "x = np.array(list(FOX['Emotional Reactions']))\n",
    "y = np.array(list(FOX['Reaction Rate']))"
   ]
  },
  {
   "cell_type": "code",
   "execution_count": 51,
   "metadata": {},
   "outputs": [
    {
     "data": {
      "application/vnd.plotly.v1+json": {
       "config": {
        "linkText": "Export to plot.ly",
        "plotlyServerURL": "https://plot.ly",
        "showLink": true
       },
       "data": [
        {
         "line": {
          "color": "rgba(255, 153, 51, 1.0)",
          "dash": "solid",
          "shape": "linear",
          "width": 1.3
         },
         "mode": "lines",
         "name": "Emotional Reactions",
         "text": "",
         "type": "scatter",
         "x": [
          0,
          1,
          2,
          3,
          4,
          5,
          6,
          7,
          8
         ],
         "y": [
          7001,
          1928,
          1166,
          1151,
          1678,
          1113,
          1288,
          1918,
          4017
         ]
        }
       ],
       "layout": {
        "legend": {
         "bgcolor": "#F5F6F9",
         "font": {
          "color": "#4D5663"
         }
        },
        "paper_bgcolor": "#F5F6F9",
        "plot_bgcolor": "#F5F6F9",
        "template": {
         "data": {
          "bar": [
           {
            "error_x": {
             "color": "#2a3f5f"
            },
            "error_y": {
             "color": "#2a3f5f"
            },
            "marker": {
             "line": {
              "color": "#E5ECF6",
              "width": 0.5
             }
            },
            "type": "bar"
           }
          ],
          "barpolar": [
           {
            "marker": {
             "line": {
              "color": "#E5ECF6",
              "width": 0.5
             }
            },
            "type": "barpolar"
           }
          ],
          "carpet": [
           {
            "aaxis": {
             "endlinecolor": "#2a3f5f",
             "gridcolor": "white",
             "linecolor": "white",
             "minorgridcolor": "white",
             "startlinecolor": "#2a3f5f"
            },
            "baxis": {
             "endlinecolor": "#2a3f5f",
             "gridcolor": "white",
             "linecolor": "white",
             "minorgridcolor": "white",
             "startlinecolor": "#2a3f5f"
            },
            "type": "carpet"
           }
          ],
          "choropleth": [
           {
            "colorbar": {
             "outlinewidth": 0,
             "ticks": ""
            },
            "type": "choropleth"
           }
          ],
          "contour": [
           {
            "colorbar": {
             "outlinewidth": 0,
             "ticks": ""
            },
            "colorscale": [
             [
              0,
              "#0d0887"
             ],
             [
              0.1111111111111111,
              "#46039f"
             ],
             [
              0.2222222222222222,
              "#7201a8"
             ],
             [
              0.3333333333333333,
              "#9c179e"
             ],
             [
              0.4444444444444444,
              "#bd3786"
             ],
             [
              0.5555555555555556,
              "#d8576b"
             ],
             [
              0.6666666666666666,
              "#ed7953"
             ],
             [
              0.7777777777777778,
              "#fb9f3a"
             ],
             [
              0.8888888888888888,
              "#fdca26"
             ],
             [
              1,
              "#f0f921"
             ]
            ],
            "type": "contour"
           }
          ],
          "contourcarpet": [
           {
            "colorbar": {
             "outlinewidth": 0,
             "ticks": ""
            },
            "type": "contourcarpet"
           }
          ],
          "heatmap": [
           {
            "colorbar": {
             "outlinewidth": 0,
             "ticks": ""
            },
            "colorscale": [
             [
              0,
              "#0d0887"
             ],
             [
              0.1111111111111111,
              "#46039f"
             ],
             [
              0.2222222222222222,
              "#7201a8"
             ],
             [
              0.3333333333333333,
              "#9c179e"
             ],
             [
              0.4444444444444444,
              "#bd3786"
             ],
             [
              0.5555555555555556,
              "#d8576b"
             ],
             [
              0.6666666666666666,
              "#ed7953"
             ],
             [
              0.7777777777777778,
              "#fb9f3a"
             ],
             [
              0.8888888888888888,
              "#fdca26"
             ],
             [
              1,
              "#f0f921"
             ]
            ],
            "type": "heatmap"
           }
          ],
          "heatmapgl": [
           {
            "colorbar": {
             "outlinewidth": 0,
             "ticks": ""
            },
            "colorscale": [
             [
              0,
              "#0d0887"
             ],
             [
              0.1111111111111111,
              "#46039f"
             ],
             [
              0.2222222222222222,
              "#7201a8"
             ],
             [
              0.3333333333333333,
              "#9c179e"
             ],
             [
              0.4444444444444444,
              "#bd3786"
             ],
             [
              0.5555555555555556,
              "#d8576b"
             ],
             [
              0.6666666666666666,
              "#ed7953"
             ],
             [
              0.7777777777777778,
              "#fb9f3a"
             ],
             [
              0.8888888888888888,
              "#fdca26"
             ],
             [
              1,
              "#f0f921"
             ]
            ],
            "type": "heatmapgl"
           }
          ],
          "histogram": [
           {
            "marker": {
             "colorbar": {
              "outlinewidth": 0,
              "ticks": ""
             }
            },
            "type": "histogram"
           }
          ],
          "histogram2d": [
           {
            "colorbar": {
             "outlinewidth": 0,
             "ticks": ""
            },
            "colorscale": [
             [
              0,
              "#0d0887"
             ],
             [
              0.1111111111111111,
              "#46039f"
             ],
             [
              0.2222222222222222,
              "#7201a8"
             ],
             [
              0.3333333333333333,
              "#9c179e"
             ],
             [
              0.4444444444444444,
              "#bd3786"
             ],
             [
              0.5555555555555556,
              "#d8576b"
             ],
             [
              0.6666666666666666,
              "#ed7953"
             ],
             [
              0.7777777777777778,
              "#fb9f3a"
             ],
             [
              0.8888888888888888,
              "#fdca26"
             ],
             [
              1,
              "#f0f921"
             ]
            ],
            "type": "histogram2d"
           }
          ],
          "histogram2dcontour": [
           {
            "colorbar": {
             "outlinewidth": 0,
             "ticks": ""
            },
            "colorscale": [
             [
              0,
              "#0d0887"
             ],
             [
              0.1111111111111111,
              "#46039f"
             ],
             [
              0.2222222222222222,
              "#7201a8"
             ],
             [
              0.3333333333333333,
              "#9c179e"
             ],
             [
              0.4444444444444444,
              "#bd3786"
             ],
             [
              0.5555555555555556,
              "#d8576b"
             ],
             [
              0.6666666666666666,
              "#ed7953"
             ],
             [
              0.7777777777777778,
              "#fb9f3a"
             ],
             [
              0.8888888888888888,
              "#fdca26"
             ],
             [
              1,
              "#f0f921"
             ]
            ],
            "type": "histogram2dcontour"
           }
          ],
          "mesh3d": [
           {
            "colorbar": {
             "outlinewidth": 0,
             "ticks": ""
            },
            "type": "mesh3d"
           }
          ],
          "parcoords": [
           {
            "line": {
             "colorbar": {
              "outlinewidth": 0,
              "ticks": ""
             }
            },
            "type": "parcoords"
           }
          ],
          "pie": [
           {
            "automargin": true,
            "type": "pie"
           }
          ],
          "scatter": [
           {
            "marker": {
             "colorbar": {
              "outlinewidth": 0,
              "ticks": ""
             }
            },
            "type": "scatter"
           }
          ],
          "scatter3d": [
           {
            "line": {
             "colorbar": {
              "outlinewidth": 0,
              "ticks": ""
             }
            },
            "marker": {
             "colorbar": {
              "outlinewidth": 0,
              "ticks": ""
             }
            },
            "type": "scatter3d"
           }
          ],
          "scattercarpet": [
           {
            "marker": {
             "colorbar": {
              "outlinewidth": 0,
              "ticks": ""
             }
            },
            "type": "scattercarpet"
           }
          ],
          "scattergeo": [
           {
            "marker": {
             "colorbar": {
              "outlinewidth": 0,
              "ticks": ""
             }
            },
            "type": "scattergeo"
           }
          ],
          "scattergl": [
           {
            "marker": {
             "colorbar": {
              "outlinewidth": 0,
              "ticks": ""
             }
            },
            "type": "scattergl"
           }
          ],
          "scattermapbox": [
           {
            "marker": {
             "colorbar": {
              "outlinewidth": 0,
              "ticks": ""
             }
            },
            "type": "scattermapbox"
           }
          ],
          "scatterpolar": [
           {
            "marker": {
             "colorbar": {
              "outlinewidth": 0,
              "ticks": ""
             }
            },
            "type": "scatterpolar"
           }
          ],
          "scatterpolargl": [
           {
            "marker": {
             "colorbar": {
              "outlinewidth": 0,
              "ticks": ""
             }
            },
            "type": "scatterpolargl"
           }
          ],
          "scatterternary": [
           {
            "marker": {
             "colorbar": {
              "outlinewidth": 0,
              "ticks": ""
             }
            },
            "type": "scatterternary"
           }
          ],
          "surface": [
           {
            "colorbar": {
             "outlinewidth": 0,
             "ticks": ""
            },
            "colorscale": [
             [
              0,
              "#0d0887"
             ],
             [
              0.1111111111111111,
              "#46039f"
             ],
             [
              0.2222222222222222,
              "#7201a8"
             ],
             [
              0.3333333333333333,
              "#9c179e"
             ],
             [
              0.4444444444444444,
              "#bd3786"
             ],
             [
              0.5555555555555556,
              "#d8576b"
             ],
             [
              0.6666666666666666,
              "#ed7953"
             ],
             [
              0.7777777777777778,
              "#fb9f3a"
             ],
             [
              0.8888888888888888,
              "#fdca26"
             ],
             [
              1,
              "#f0f921"
             ]
            ],
            "type": "surface"
           }
          ],
          "table": [
           {
            "cells": {
             "fill": {
              "color": "#EBF0F8"
             },
             "line": {
              "color": "white"
             }
            },
            "header": {
             "fill": {
              "color": "#C8D4E3"
             },
             "line": {
              "color": "white"
             }
            },
            "type": "table"
           }
          ]
         },
         "layout": {
          "annotationdefaults": {
           "arrowcolor": "#2a3f5f",
           "arrowhead": 0,
           "arrowwidth": 1
          },
          "coloraxis": {
           "colorbar": {
            "outlinewidth": 0,
            "ticks": ""
           }
          },
          "colorscale": {
           "diverging": [
            [
             0,
             "#8e0152"
            ],
            [
             0.1,
             "#c51b7d"
            ],
            [
             0.2,
             "#de77ae"
            ],
            [
             0.3,
             "#f1b6da"
            ],
            [
             0.4,
             "#fde0ef"
            ],
            [
             0.5,
             "#f7f7f7"
            ],
            [
             0.6,
             "#e6f5d0"
            ],
            [
             0.7,
             "#b8e186"
            ],
            [
             0.8,
             "#7fbc41"
            ],
            [
             0.9,
             "#4d9221"
            ],
            [
             1,
             "#276419"
            ]
           ],
           "sequential": [
            [
             0,
             "#0d0887"
            ],
            [
             0.1111111111111111,
             "#46039f"
            ],
            [
             0.2222222222222222,
             "#7201a8"
            ],
            [
             0.3333333333333333,
             "#9c179e"
            ],
            [
             0.4444444444444444,
             "#bd3786"
            ],
            [
             0.5555555555555556,
             "#d8576b"
            ],
            [
             0.6666666666666666,
             "#ed7953"
            ],
            [
             0.7777777777777778,
             "#fb9f3a"
            ],
            [
             0.8888888888888888,
             "#fdca26"
            ],
            [
             1,
             "#f0f921"
            ]
           ],
           "sequentialminus": [
            [
             0,
             "#0d0887"
            ],
            [
             0.1111111111111111,
             "#46039f"
            ],
            [
             0.2222222222222222,
             "#7201a8"
            ],
            [
             0.3333333333333333,
             "#9c179e"
            ],
            [
             0.4444444444444444,
             "#bd3786"
            ],
            [
             0.5555555555555556,
             "#d8576b"
            ],
            [
             0.6666666666666666,
             "#ed7953"
            ],
            [
             0.7777777777777778,
             "#fb9f3a"
            ],
            [
             0.8888888888888888,
             "#fdca26"
            ],
            [
             1,
             "#f0f921"
            ]
           ]
          },
          "colorway": [
           "#636efa",
           "#EF553B",
           "#00cc96",
           "#ab63fa",
           "#FFA15A",
           "#19d3f3",
           "#FF6692",
           "#B6E880",
           "#FF97FF",
           "#FECB52"
          ],
          "font": {
           "color": "#2a3f5f"
          },
          "geo": {
           "bgcolor": "white",
           "lakecolor": "white",
           "landcolor": "#E5ECF6",
           "showlakes": true,
           "showland": true,
           "subunitcolor": "white"
          },
          "hoverlabel": {
           "align": "left"
          },
          "hovermode": "closest",
          "mapbox": {
           "style": "light"
          },
          "paper_bgcolor": "white",
          "plot_bgcolor": "#E5ECF6",
          "polar": {
           "angularaxis": {
            "gridcolor": "white",
            "linecolor": "white",
            "ticks": ""
           },
           "bgcolor": "#E5ECF6",
           "radialaxis": {
            "gridcolor": "white",
            "linecolor": "white",
            "ticks": ""
           }
          },
          "scene": {
           "xaxis": {
            "backgroundcolor": "#E5ECF6",
            "gridcolor": "white",
            "gridwidth": 2,
            "linecolor": "white",
            "showbackground": true,
            "ticks": "",
            "zerolinecolor": "white"
           },
           "yaxis": {
            "backgroundcolor": "#E5ECF6",
            "gridcolor": "white",
            "gridwidth": 2,
            "linecolor": "white",
            "showbackground": true,
            "ticks": "",
            "zerolinecolor": "white"
           },
           "zaxis": {
            "backgroundcolor": "#E5ECF6",
            "gridcolor": "white",
            "gridwidth": 2,
            "linecolor": "white",
            "showbackground": true,
            "ticks": "",
            "zerolinecolor": "white"
           }
          },
          "shapedefaults": {
           "line": {
            "color": "#2a3f5f"
           }
          },
          "ternary": {
           "aaxis": {
            "gridcolor": "white",
            "linecolor": "white",
            "ticks": ""
           },
           "baxis": {
            "gridcolor": "white",
            "linecolor": "white",
            "ticks": ""
           },
           "bgcolor": "#E5ECF6",
           "caxis": {
            "gridcolor": "white",
            "linecolor": "white",
            "ticks": ""
           }
          },
          "title": {
           "x": 0.05
          },
          "xaxis": {
           "automargin": true,
           "gridcolor": "white",
           "linecolor": "white",
           "ticks": "",
           "title": {
            "standoff": 15
           },
           "zerolinecolor": "white",
           "zerolinewidth": 2
          },
          "yaxis": {
           "automargin": true,
           "gridcolor": "white",
           "linecolor": "white",
           "ticks": "",
           "title": {
            "standoff": 15
           },
           "zerolinecolor": "white",
           "zerolinewidth": 2
          }
         }
        },
        "title": {
         "font": {
          "color": "#4D5663"
         }
        },
        "xaxis": {
         "gridcolor": "#E1E5ED",
         "showgrid": true,
         "tickfont": {
          "color": "#4D5663"
         },
         "title": {
          "font": {
           "color": "#4D5663"
          },
          "text": ""
         },
         "zerolinecolor": "#E1E5ED"
        },
        "yaxis": {
         "gridcolor": "#E1E5ED",
         "showgrid": true,
         "tickfont": {
          "color": "#4D5663"
         },
         "title": {
          "font": {
           "color": "#4D5663"
          },
          "text": ""
         },
         "zerolinecolor": "#E1E5ED"
        }
       }
      },
      "text/html": [
       "<div>\n",
       "        \n",
       "        \n",
       "            <div id=\"a01877c8-a326-422d-a26c-b946a42463f2\" class=\"plotly-graph-div\" style=\"height:525px; width:100%;\"></div>\n",
       "            <script type=\"text/javascript\">\n",
       "                require([\"plotly\"], function(Plotly) {\n",
       "                    window.PLOTLYENV=window.PLOTLYENV || {};\n",
       "                    window.PLOTLYENV.BASE_URL='https://plot.ly';\n",
       "                    \n",
       "                if (document.getElementById(\"a01877c8-a326-422d-a26c-b946a42463f2\")) {\n",
       "                    Plotly.newPlot(\n",
       "                        'a01877c8-a326-422d-a26c-b946a42463f2',\n",
       "                        [{\"line\": {\"color\": \"rgba(255, 153, 51, 1.0)\", \"dash\": \"solid\", \"shape\": \"linear\", \"width\": 1.3}, \"mode\": \"lines\", \"name\": \"Emotional Reactions\", \"text\": \"\", \"type\": \"scatter\", \"x\": [0, 1, 2, 3, 4, 5, 6, 7, 8], \"y\": [7001, 1928, 1166, 1151, 1678, 1113, 1288, 1918, 4017]}],\n",
       "                        {\"legend\": {\"bgcolor\": \"#F5F6F9\", \"font\": {\"color\": \"#4D5663\"}}, \"paper_bgcolor\": \"#F5F6F9\", \"plot_bgcolor\": \"#F5F6F9\", \"template\": {\"data\": {\"bar\": [{\"error_x\": {\"color\": \"#2a3f5f\"}, \"error_y\": {\"color\": \"#2a3f5f\"}, \"marker\": {\"line\": {\"color\": \"#E5ECF6\", \"width\": 0.5}}, \"type\": \"bar\"}], \"barpolar\": [{\"marker\": {\"line\": {\"color\": \"#E5ECF6\", \"width\": 0.5}}, \"type\": \"barpolar\"}], \"carpet\": [{\"aaxis\": {\"endlinecolor\": \"#2a3f5f\", \"gridcolor\": \"white\", \"linecolor\": \"white\", \"minorgridcolor\": \"white\", \"startlinecolor\": \"#2a3f5f\"}, \"baxis\": {\"endlinecolor\": \"#2a3f5f\", \"gridcolor\": \"white\", \"linecolor\": \"white\", \"minorgridcolor\": \"white\", \"startlinecolor\": \"#2a3f5f\"}, \"type\": \"carpet\"}], \"choropleth\": [{\"colorbar\": {\"outlinewidth\": 0, \"ticks\": \"\"}, \"type\": \"choropleth\"}], \"contour\": [{\"colorbar\": {\"outlinewidth\": 0, \"ticks\": \"\"}, \"colorscale\": [[0.0, \"#0d0887\"], [0.1111111111111111, \"#46039f\"], [0.2222222222222222, \"#7201a8\"], [0.3333333333333333, \"#9c179e\"], [0.4444444444444444, \"#bd3786\"], [0.5555555555555556, \"#d8576b\"], [0.6666666666666666, \"#ed7953\"], [0.7777777777777778, \"#fb9f3a\"], [0.8888888888888888, \"#fdca26\"], [1.0, \"#f0f921\"]], \"type\": \"contour\"}], \"contourcarpet\": [{\"colorbar\": {\"outlinewidth\": 0, \"ticks\": \"\"}, \"type\": \"contourcarpet\"}], \"heatmap\": [{\"colorbar\": {\"outlinewidth\": 0, \"ticks\": \"\"}, \"colorscale\": [[0.0, \"#0d0887\"], [0.1111111111111111, \"#46039f\"], [0.2222222222222222, \"#7201a8\"], [0.3333333333333333, \"#9c179e\"], [0.4444444444444444, \"#bd3786\"], [0.5555555555555556, \"#d8576b\"], [0.6666666666666666, \"#ed7953\"], [0.7777777777777778, \"#fb9f3a\"], [0.8888888888888888, \"#fdca26\"], [1.0, \"#f0f921\"]], \"type\": \"heatmap\"}], \"heatmapgl\": [{\"colorbar\": {\"outlinewidth\": 0, \"ticks\": \"\"}, \"colorscale\": [[0.0, \"#0d0887\"], [0.1111111111111111, \"#46039f\"], [0.2222222222222222, \"#7201a8\"], [0.3333333333333333, \"#9c179e\"], [0.4444444444444444, \"#bd3786\"], [0.5555555555555556, \"#d8576b\"], [0.6666666666666666, \"#ed7953\"], [0.7777777777777778, \"#fb9f3a\"], [0.8888888888888888, \"#fdca26\"], [1.0, \"#f0f921\"]], \"type\": \"heatmapgl\"}], \"histogram\": [{\"marker\": {\"colorbar\": {\"outlinewidth\": 0, \"ticks\": \"\"}}, \"type\": \"histogram\"}], \"histogram2d\": [{\"colorbar\": {\"outlinewidth\": 0, \"ticks\": \"\"}, \"colorscale\": [[0.0, \"#0d0887\"], [0.1111111111111111, \"#46039f\"], [0.2222222222222222, \"#7201a8\"], [0.3333333333333333, \"#9c179e\"], [0.4444444444444444, \"#bd3786\"], [0.5555555555555556, \"#d8576b\"], [0.6666666666666666, \"#ed7953\"], [0.7777777777777778, \"#fb9f3a\"], [0.8888888888888888, \"#fdca26\"], [1.0, \"#f0f921\"]], \"type\": \"histogram2d\"}], \"histogram2dcontour\": [{\"colorbar\": {\"outlinewidth\": 0, \"ticks\": \"\"}, \"colorscale\": [[0.0, \"#0d0887\"], [0.1111111111111111, \"#46039f\"], [0.2222222222222222, \"#7201a8\"], [0.3333333333333333, \"#9c179e\"], [0.4444444444444444, \"#bd3786\"], [0.5555555555555556, \"#d8576b\"], [0.6666666666666666, \"#ed7953\"], [0.7777777777777778, \"#fb9f3a\"], [0.8888888888888888, \"#fdca26\"], [1.0, \"#f0f921\"]], \"type\": \"histogram2dcontour\"}], \"mesh3d\": [{\"colorbar\": {\"outlinewidth\": 0, \"ticks\": \"\"}, \"type\": \"mesh3d\"}], \"parcoords\": [{\"line\": {\"colorbar\": {\"outlinewidth\": 0, \"ticks\": \"\"}}, \"type\": \"parcoords\"}], \"pie\": [{\"automargin\": true, \"type\": \"pie\"}], \"scatter\": [{\"marker\": {\"colorbar\": {\"outlinewidth\": 0, \"ticks\": \"\"}}, \"type\": \"scatter\"}], \"scatter3d\": [{\"line\": {\"colorbar\": {\"outlinewidth\": 0, \"ticks\": \"\"}}, \"marker\": {\"colorbar\": {\"outlinewidth\": 0, \"ticks\": \"\"}}, \"type\": \"scatter3d\"}], \"scattercarpet\": [{\"marker\": {\"colorbar\": {\"outlinewidth\": 0, \"ticks\": \"\"}}, \"type\": \"scattercarpet\"}], \"scattergeo\": [{\"marker\": {\"colorbar\": {\"outlinewidth\": 0, \"ticks\": \"\"}}, \"type\": \"scattergeo\"}], \"scattergl\": [{\"marker\": {\"colorbar\": {\"outlinewidth\": 0, \"ticks\": \"\"}}, \"type\": \"scattergl\"}], \"scattermapbox\": [{\"marker\": {\"colorbar\": {\"outlinewidth\": 0, \"ticks\": \"\"}}, \"type\": \"scattermapbox\"}], \"scatterpolar\": [{\"marker\": {\"colorbar\": {\"outlinewidth\": 0, \"ticks\": \"\"}}, \"type\": \"scatterpolar\"}], \"scatterpolargl\": [{\"marker\": {\"colorbar\": {\"outlinewidth\": 0, \"ticks\": \"\"}}, \"type\": \"scatterpolargl\"}], \"scatterternary\": [{\"marker\": {\"colorbar\": {\"outlinewidth\": 0, \"ticks\": \"\"}}, \"type\": \"scatterternary\"}], \"surface\": [{\"colorbar\": {\"outlinewidth\": 0, \"ticks\": \"\"}, \"colorscale\": [[0.0, \"#0d0887\"], [0.1111111111111111, \"#46039f\"], [0.2222222222222222, \"#7201a8\"], [0.3333333333333333, \"#9c179e\"], [0.4444444444444444, \"#bd3786\"], [0.5555555555555556, \"#d8576b\"], [0.6666666666666666, \"#ed7953\"], [0.7777777777777778, \"#fb9f3a\"], [0.8888888888888888, \"#fdca26\"], [1.0, \"#f0f921\"]], \"type\": \"surface\"}], \"table\": [{\"cells\": {\"fill\": {\"color\": \"#EBF0F8\"}, \"line\": {\"color\": \"white\"}}, \"header\": {\"fill\": {\"color\": \"#C8D4E3\"}, \"line\": {\"color\": \"white\"}}, \"type\": \"table\"}]}, \"layout\": {\"annotationdefaults\": {\"arrowcolor\": \"#2a3f5f\", \"arrowhead\": 0, \"arrowwidth\": 1}, \"coloraxis\": {\"colorbar\": {\"outlinewidth\": 0, \"ticks\": \"\"}}, \"colorscale\": {\"diverging\": [[0, \"#8e0152\"], [0.1, \"#c51b7d\"], [0.2, \"#de77ae\"], [0.3, \"#f1b6da\"], [0.4, \"#fde0ef\"], [0.5, \"#f7f7f7\"], [0.6, \"#e6f5d0\"], [0.7, \"#b8e186\"], [0.8, \"#7fbc41\"], [0.9, \"#4d9221\"], [1, \"#276419\"]], \"sequential\": [[0.0, \"#0d0887\"], [0.1111111111111111, \"#46039f\"], [0.2222222222222222, \"#7201a8\"], [0.3333333333333333, \"#9c179e\"], [0.4444444444444444, \"#bd3786\"], [0.5555555555555556, \"#d8576b\"], [0.6666666666666666, \"#ed7953\"], [0.7777777777777778, \"#fb9f3a\"], [0.8888888888888888, \"#fdca26\"], [1.0, \"#f0f921\"]], \"sequentialminus\": [[0.0, \"#0d0887\"], [0.1111111111111111, \"#46039f\"], [0.2222222222222222, \"#7201a8\"], [0.3333333333333333, \"#9c179e\"], [0.4444444444444444, \"#bd3786\"], [0.5555555555555556, \"#d8576b\"], [0.6666666666666666, \"#ed7953\"], [0.7777777777777778, \"#fb9f3a\"], [0.8888888888888888, \"#fdca26\"], [1.0, \"#f0f921\"]]}, \"colorway\": [\"#636efa\", \"#EF553B\", \"#00cc96\", \"#ab63fa\", \"#FFA15A\", \"#19d3f3\", \"#FF6692\", \"#B6E880\", \"#FF97FF\", \"#FECB52\"], \"font\": {\"color\": \"#2a3f5f\"}, \"geo\": {\"bgcolor\": \"white\", \"lakecolor\": \"white\", \"landcolor\": \"#E5ECF6\", \"showlakes\": true, \"showland\": true, \"subunitcolor\": \"white\"}, \"hoverlabel\": {\"align\": \"left\"}, \"hovermode\": \"closest\", \"mapbox\": {\"style\": \"light\"}, \"paper_bgcolor\": \"white\", \"plot_bgcolor\": \"#E5ECF6\", \"polar\": {\"angularaxis\": {\"gridcolor\": \"white\", \"linecolor\": \"white\", \"ticks\": \"\"}, \"bgcolor\": \"#E5ECF6\", \"radialaxis\": {\"gridcolor\": \"white\", \"linecolor\": \"white\", \"ticks\": \"\"}}, \"scene\": {\"xaxis\": {\"backgroundcolor\": \"#E5ECF6\", \"gridcolor\": \"white\", \"gridwidth\": 2, \"linecolor\": \"white\", \"showbackground\": true, \"ticks\": \"\", \"zerolinecolor\": \"white\"}, \"yaxis\": {\"backgroundcolor\": \"#E5ECF6\", \"gridcolor\": \"white\", \"gridwidth\": 2, \"linecolor\": \"white\", \"showbackground\": true, \"ticks\": \"\", \"zerolinecolor\": \"white\"}, \"zaxis\": {\"backgroundcolor\": \"#E5ECF6\", \"gridcolor\": \"white\", \"gridwidth\": 2, \"linecolor\": \"white\", \"showbackground\": true, \"ticks\": \"\", \"zerolinecolor\": \"white\"}}, \"shapedefaults\": {\"line\": {\"color\": \"#2a3f5f\"}}, \"ternary\": {\"aaxis\": {\"gridcolor\": \"white\", \"linecolor\": \"white\", \"ticks\": \"\"}, \"baxis\": {\"gridcolor\": \"white\", \"linecolor\": \"white\", \"ticks\": \"\"}, \"bgcolor\": \"#E5ECF6\", \"caxis\": {\"gridcolor\": \"white\", \"linecolor\": \"white\", \"ticks\": \"\"}}, \"title\": {\"x\": 0.05}, \"xaxis\": {\"automargin\": true, \"gridcolor\": \"white\", \"linecolor\": \"white\", \"ticks\": \"\", \"title\": {\"standoff\": 15}, \"zerolinecolor\": \"white\", \"zerolinewidth\": 2}, \"yaxis\": {\"automargin\": true, \"gridcolor\": \"white\", \"linecolor\": \"white\", \"ticks\": \"\", \"title\": {\"standoff\": 15}, \"zerolinecolor\": \"white\", \"zerolinewidth\": 2}}}, \"title\": {\"font\": {\"color\": \"#4D5663\"}}, \"xaxis\": {\"gridcolor\": \"#E1E5ED\", \"showgrid\": true, \"tickfont\": {\"color\": \"#4D5663\"}, \"title\": {\"font\": {\"color\": \"#4D5663\"}, \"text\": \"\"}, \"zerolinecolor\": \"#E1E5ED\"}, \"yaxis\": {\"gridcolor\": \"#E1E5ED\", \"showgrid\": true, \"tickfont\": {\"color\": \"#4D5663\"}, \"title\": {\"font\": {\"color\": \"#4D5663\"}, \"text\": \"\"}, \"zerolinecolor\": \"#E1E5ED\"}},\n",
       "                        {\"showLink\": true, \"linkText\": \"Export to plot.ly\", \"plotlyServerURL\": \"https://plot.ly\", \"responsive\": true}\n",
       "                    ).then(function(){\n",
       "                            \n",
       "var gd = document.getElementById('a01877c8-a326-422d-a26c-b946a42463f2');\n",
       "var x = new MutationObserver(function (mutations, observer) {{\n",
       "        var display = window.getComputedStyle(gd).display;\n",
       "        if (!display || display === 'none') {{\n",
       "            console.log([gd, 'removed!']);\n",
       "            Plotly.purge(gd);\n",
       "            observer.disconnect();\n",
       "        }}\n",
       "}});\n",
       "\n",
       "// Listen for the removal of the full notebook cells\n",
       "var notebookContainer = gd.closest('#notebook-container');\n",
       "if (notebookContainer) {{\n",
       "    x.observe(notebookContainer, {childList: true});\n",
       "}}\n",
       "\n",
       "// Listen for the clearing of the current output cell\n",
       "var outputEl = gd.closest('.output');\n",
       "if (outputEl) {{\n",
       "    x.observe(outputEl, {childList: true});\n",
       "}}\n",
       "\n",
       "                        })\n",
       "                };\n",
       "                });\n",
       "            </script>\n",
       "        </div>"
      ]
     },
     "metadata": {},
     "output_type": "display_data"
    }
   ],
   "source": [
    "FOX['Emotional Reactions'].iplot()"
   ]
  },
  {
   "cell_type": "code",
   "execution_count": 55,
   "metadata": {},
   "outputs": [
    {
     "data": {
      "text/html": [
       "<div>\n",
       "<style scoped>\n",
       "    .dataframe tbody tr th:only-of-type {\n",
       "        vertical-align: middle;\n",
       "    }\n",
       "\n",
       "    .dataframe tbody tr th {\n",
       "        vertical-align: top;\n",
       "    }\n",
       "\n",
       "    .dataframe thead th {\n",
       "        text-align: right;\n",
       "    }\n",
       "</style>\n",
       "<table border=\"1\" class=\"dataframe\">\n",
       "  <thead>\n",
       "    <tr style=\"text-align: right;\">\n",
       "      <th></th>\n",
       "      <th></th>\n",
       "      <th></th>\n",
       "      <th>Airing Title</th>\n",
       "      <th>Season #</th>\n",
       "      <th>Episode #</th>\n",
       "      <th>Emotional Reactions</th>\n",
       "      <th>Reaction Rate</th>\n",
       "      <th>Aired_Month</th>\n",
       "    </tr>\n",
       "    <tr>\n",
       "      <th>Date Aired</th>\n",
       "      <th>Network</th>\n",
       "      <th>Program Title</th>\n",
       "      <th></th>\n",
       "      <th></th>\n",
       "      <th></th>\n",
       "      <th></th>\n",
       "      <th></th>\n",
       "      <th></th>\n",
       "    </tr>\n",
       "  </thead>\n",
       "  <tbody>\n",
       "    <tr>\n",
       "      <td>2020-03-15</td>\n",
       "      <td>NBC</td>\n",
       "      <td>Zoey's Extraordinary Playlist</td>\n",
       "      <td>Zoey's Extraordinary Night Out</td>\n",
       "      <td>1</td>\n",
       "      <td>6</td>\n",
       "      <td>1093</td>\n",
       "      <td>40.4</td>\n",
       "      <td>3</td>\n",
       "    </tr>\n",
       "    <tr>\n",
       "      <td>2020-03-08</td>\n",
       "      <td>NBC</td>\n",
       "      <td>Zoey's Extraordinary Playlist</td>\n",
       "      <td>Zoey's Extraordinary Failure</td>\n",
       "      <td>1</td>\n",
       "      <td>5</td>\n",
       "      <td>856</td>\n",
       "      <td>44.3</td>\n",
       "      <td>3</td>\n",
       "    </tr>\n",
       "    <tr>\n",
       "      <td>2020-03-01</td>\n",
       "      <td>NBC</td>\n",
       "      <td>Zoey's Extraordinary Playlist</td>\n",
       "      <td>Zoey's Extraordinary Neighbor</td>\n",
       "      <td>1</td>\n",
       "      <td>4</td>\n",
       "      <td>1129</td>\n",
       "      <td>51.8</td>\n",
       "      <td>3</td>\n",
       "    </tr>\n",
       "    <tr>\n",
       "      <td>2020-02-23</td>\n",
       "      <td>NBC</td>\n",
       "      <td>Zoey's Extraordinary Playlist</td>\n",
       "      <td>Zoey's Extraordinary Boss</td>\n",
       "      <td>1</td>\n",
       "      <td>3</td>\n",
       "      <td>1199</td>\n",
       "      <td>53.2</td>\n",
       "      <td>2</td>\n",
       "    </tr>\n",
       "    <tr>\n",
       "      <td>2020-02-16</td>\n",
       "      <td>NBC</td>\n",
       "      <td>Zoey's Extraordinary Playlist</td>\n",
       "      <td>Zoey's Extraordinary Best Friend</td>\n",
       "      <td>1</td>\n",
       "      <td>2</td>\n",
       "      <td>1778</td>\n",
       "      <td>44.6</td>\n",
       "      <td>2</td>\n",
       "    </tr>\n",
       "    <tr>\n",
       "      <td>2020-01-07</td>\n",
       "      <td>NBC</td>\n",
       "      <td>Zoey's Extraordinary Playlist</td>\n",
       "      <td>Pilot</td>\n",
       "      <td>1</td>\n",
       "      <td>1</td>\n",
       "      <td>1421</td>\n",
       "      <td>50.9</td>\n",
       "      <td>1</td>\n",
       "    </tr>\n",
       "    <tr>\n",
       "      <td>2020-03-08</td>\n",
       "      <td>HBO</td>\n",
       "      <td>The Outsider</td>\n",
       "      <td>Must/Can't</td>\n",
       "      <td>1</td>\n",
       "      <td>10</td>\n",
       "      <td>930</td>\n",
       "      <td>36.0</td>\n",
       "      <td>3</td>\n",
       "    </tr>\n",
       "    <tr>\n",
       "      <td>2020-03-01</td>\n",
       "      <td>HBO</td>\n",
       "      <td>The Outsider</td>\n",
       "      <td>Tigers And Bears</td>\n",
       "      <td>1</td>\n",
       "      <td>9</td>\n",
       "      <td>501</td>\n",
       "      <td>42.3</td>\n",
       "      <td>3</td>\n",
       "    </tr>\n",
       "    <tr>\n",
       "      <td>2020-02-23</td>\n",
       "      <td>HBO</td>\n",
       "      <td>The Outsider</td>\n",
       "      <td>Foxhead</td>\n",
       "      <td>1</td>\n",
       "      <td>8</td>\n",
       "      <td>648</td>\n",
       "      <td>46.2</td>\n",
       "      <td>2</td>\n",
       "    </tr>\n",
       "    <tr>\n",
       "      <td>2020-02-16</td>\n",
       "      <td>HBO</td>\n",
       "      <td>The Outsider</td>\n",
       "      <td>In The Pines, In The Pines</td>\n",
       "      <td>1</td>\n",
       "      <td>7</td>\n",
       "      <td>380</td>\n",
       "      <td>47.2</td>\n",
       "      <td>2</td>\n",
       "    </tr>\n",
       "  </tbody>\n",
       "</table>\n",
       "</div>"
      ],
      "text/plain": [
       "                                                                      Airing Title  \\\n",
       "Date Aired Network Program Title                                                     \n",
       "2020-03-15 NBC     Zoey's Extraordinary Playlist    Zoey's Extraordinary Night Out   \n",
       "2020-03-08 NBC     Zoey's Extraordinary Playlist      Zoey's Extraordinary Failure   \n",
       "2020-03-01 NBC     Zoey's Extraordinary Playlist     Zoey's Extraordinary Neighbor   \n",
       "2020-02-23 NBC     Zoey's Extraordinary Playlist         Zoey's Extraordinary Boss   \n",
       "2020-02-16 NBC     Zoey's Extraordinary Playlist  Zoey's Extraordinary Best Friend   \n",
       "2020-01-07 NBC     Zoey's Extraordinary Playlist                             Pilot   \n",
       "2020-03-08 HBO     The Outsider                                         Must/Can't   \n",
       "2020-03-01 HBO     The Outsider                                   Tigers And Bears   \n",
       "2020-02-23 HBO     The Outsider                                            Foxhead   \n",
       "2020-02-16 HBO     The Outsider                         In The Pines, In The Pines   \n",
       "\n",
       "                                                  Season #  Episode #  \\\n",
       "Date Aired Network Program Title                                        \n",
       "2020-03-15 NBC     Zoey's Extraordinary Playlist         1          6   \n",
       "2020-03-08 NBC     Zoey's Extraordinary Playlist         1          5   \n",
       "2020-03-01 NBC     Zoey's Extraordinary Playlist         1          4   \n",
       "2020-02-23 NBC     Zoey's Extraordinary Playlist         1          3   \n",
       "2020-02-16 NBC     Zoey's Extraordinary Playlist         1          2   \n",
       "2020-01-07 NBC     Zoey's Extraordinary Playlist         1          1   \n",
       "2020-03-08 HBO     The Outsider                          1         10   \n",
       "2020-03-01 HBO     The Outsider                          1          9   \n",
       "2020-02-23 HBO     The Outsider                          1          8   \n",
       "2020-02-16 HBO     The Outsider                          1          7   \n",
       "\n",
       "                                                  Emotional Reactions  \\\n",
       "Date Aired Network Program Title                                        \n",
       "2020-03-15 NBC     Zoey's Extraordinary Playlist                 1093   \n",
       "2020-03-08 NBC     Zoey's Extraordinary Playlist                  856   \n",
       "2020-03-01 NBC     Zoey's Extraordinary Playlist                 1129   \n",
       "2020-02-23 NBC     Zoey's Extraordinary Playlist                 1199   \n",
       "2020-02-16 NBC     Zoey's Extraordinary Playlist                 1778   \n",
       "2020-01-07 NBC     Zoey's Extraordinary Playlist                 1421   \n",
       "2020-03-08 HBO     The Outsider                                   930   \n",
       "2020-03-01 HBO     The Outsider                                   501   \n",
       "2020-02-23 HBO     The Outsider                                   648   \n",
       "2020-02-16 HBO     The Outsider                                   380   \n",
       "\n",
       "                                                  Reaction Rate  Aired_Month  \n",
       "Date Aired Network Program Title                                              \n",
       "2020-03-15 NBC     Zoey's Extraordinary Playlist           40.4            3  \n",
       "2020-03-08 NBC     Zoey's Extraordinary Playlist           44.3            3  \n",
       "2020-03-01 NBC     Zoey's Extraordinary Playlist           51.8            3  \n",
       "2020-02-23 NBC     Zoey's Extraordinary Playlist           53.2            2  \n",
       "2020-02-16 NBC     Zoey's Extraordinary Playlist           44.6            2  \n",
       "2020-01-07 NBC     Zoey's Extraordinary Playlist           50.9            1  \n",
       "2020-03-08 HBO     The Outsider                            36.0            3  \n",
       "2020-03-01 HBO     The Outsider                            42.3            3  \n",
       "2020-02-23 HBO     The Outsider                            46.2            2  \n",
       "2020-02-16 HBO     The Outsider                            47.2            2  "
      ]
     },
     "execution_count": 55,
     "metadata": {},
     "output_type": "execute_result"
    }
   ],
   "source": [
    "t5t_2 = t5t_2.sort_values(by = ['Program Title','Network','Date Aired'],ascending = False)\n",
    "t5t_2.head(10)"
   ]
  },
  {
   "cell_type": "code",
   "execution_count": 56,
   "metadata": {},
   "outputs": [
    {
     "data": {
      "image/png": "[encoded data removed]",
      "text/plain": [
       "<Figure size 936x720 with 1 Axes>"
      ]
     },
     "metadata": {
      "needs_background": "light"
     },
     "output_type": "display_data"
    }
   ],
   "source": [
    "dd = t5t_2['Emotional Reactions'].plot.barh(title = 'Emotional Reactions', color = 'orange')\n",
    "plt.tight_layout()"
   ]
  },
  {
   "cell_type": "code",
   "execution_count": 57,
   "metadata": {},
   "outputs": [
    {
     "data": {
      "text/html": [
       "<div>\n",
       "<style scoped>\n",
       "    .dataframe tbody tr th:only-of-type {\n",
       "        vertical-align: middle;\n",
       "    }\n",
       "\n",
       "    .dataframe tbody tr th {\n",
       "        vertical-align: top;\n",
       "    }\n",
       "\n",
       "    .dataframe thead th {\n",
       "        text-align: right;\n",
       "    }\n",
       "</style>\n",
       "<table border=\"1\" class=\"dataframe\">\n",
       "  <thead>\n",
       "    <tr style=\"text-align: right;\">\n",
       "      <th></th>\n",
       "      <th></th>\n",
       "      <th></th>\n",
       "      <th>Emotional Reactions</th>\n",
       "      <th>Reaction Rate</th>\n",
       "    </tr>\n",
       "    <tr>\n",
       "      <th>Aired_Month</th>\n",
       "      <th>Airing Title</th>\n",
       "      <th>Episode #</th>\n",
       "      <th></th>\n",
       "      <th></th>\n",
       "    </tr>\n",
       "  </thead>\n",
       "  <tbody>\n",
       "    <tr>\n",
       "      <td rowspan=\"7\" valign=\"top\">1</td>\n",
       "      <td>Dark Uncle</td>\n",
       "      <td>3</td>\n",
       "      <td>575.0</td>\n",
       "      <td>39.10</td>\n",
       "    </tr>\n",
       "    <tr>\n",
       "      <td>Fish In A Barrel</td>\n",
       "      <td>1</td>\n",
       "      <td>1997.0</td>\n",
       "      <td>55.20</td>\n",
       "    </tr>\n",
       "    <tr>\n",
       "      <td>Pilot</td>\n",
       "      <td>1</td>\n",
       "      <td>4211.0</td>\n",
       "      <td>42.40</td>\n",
       "    </tr>\n",
       "    <tr>\n",
       "      <td>Que Viene El Coco</td>\n",
       "      <td>4</td>\n",
       "      <td>304.0</td>\n",
       "      <td>38.50</td>\n",
       "    </tr>\n",
       "    <tr>\n",
       "      <td>Roanoke</td>\n",
       "      <td>2</td>\n",
       "      <td>1964.0</td>\n",
       "      <td>55.70</td>\n",
       "    </tr>\n",
       "    <tr>\n",
       "      <td>Texas Proud</td>\n",
       "      <td>3</td>\n",
       "      <td>1166.0</td>\n",
       "      <td>45.20</td>\n",
       "    </tr>\n",
       "    <tr>\n",
       "      <td>Yee Haw</td>\n",
       "      <td>2</td>\n",
       "      <td>1928.0</td>\n",
       "      <td>13.30</td>\n",
       "    </tr>\n",
       "    <tr>\n",
       "      <td rowspan=\"16\" valign=\"top\">2</td>\n",
       "      <td>Act Of God</td>\n",
       "      <td>4</td>\n",
       "      <td>1151.0</td>\n",
       "      <td>41.40</td>\n",
       "    </tr>\n",
       "    <tr>\n",
       "      <td>Brother's Keeper</td>\n",
       "      <td>3</td>\n",
       "      <td>1315.0</td>\n",
       "      <td>57.20</td>\n",
       "    </tr>\n",
       "    <tr>\n",
       "      <td>Bum Steer</td>\n",
       "      <td>7</td>\n",
       "      <td>1288.0</td>\n",
       "      <td>40.70</td>\n",
       "    </tr>\n",
       "    <tr>\n",
       "      <td>Chapter Four: Here Comes The Sun</td>\n",
       "      <td>4</td>\n",
       "      <td>1233.0</td>\n",
       "      <td>36.10</td>\n",
       "    </tr>\n",
       "    <tr>\n",
       "      <td>Chapter Three: What Becomes Of The Broken Hearted</td>\n",
       "      <td>3</td>\n",
       "      <td>1239.0</td>\n",
       "      <td>42.50</td>\n",
       "    </tr>\n",
       "    <tr>\n",
       "      <td>Chapter Two: You Can't Hurry Love</td>\n",
       "      <td>2</td>\n",
       "      <td>1628.0</td>\n",
       "      <td>39.10</td>\n",
       "    </tr>\n",
       "    <tr>\n",
       "      <td>Foxhead</td>\n",
       "      <td>8</td>\n",
       "      <td>648.0</td>\n",
       "      <td>46.20</td>\n",
       "    </tr>\n",
       "    <tr>\n",
       "      <td>Friends Like These</td>\n",
       "      <td>6</td>\n",
       "      <td>1113.0</td>\n",
       "      <td>39.80</td>\n",
       "    </tr>\n",
       "    <tr>\n",
       "      <td>In The Pines, In The Pines</td>\n",
       "      <td>7</td>\n",
       "      <td>380.0</td>\n",
       "      <td>47.20</td>\n",
       "    </tr>\n",
       "    <tr>\n",
       "      <td>Pilot</td>\n",
       "      <td>1</td>\n",
       "      <td>3130.5</td>\n",
       "      <td>35.45</td>\n",
       "    </tr>\n",
       "    <tr>\n",
       "      <td>Promises</td>\n",
       "      <td>2</td>\n",
       "      <td>1340.0</td>\n",
       "      <td>46.00</td>\n",
       "    </tr>\n",
       "    <tr>\n",
       "      <td>Studs</td>\n",
       "      <td>5</td>\n",
       "      <td>1678.0</td>\n",
       "      <td>53.50</td>\n",
       "    </tr>\n",
       "    <tr>\n",
       "      <td>Tear Drinker</td>\n",
       "      <td>5</td>\n",
       "      <td>244.0</td>\n",
       "      <td>54.30</td>\n",
       "    </tr>\n",
       "    <tr>\n",
       "      <td>The One About The Yiddish Vampire</td>\n",
       "      <td>6</td>\n",
       "      <td>2461.0</td>\n",
       "      <td>38.50</td>\n",
       "    </tr>\n",
       "    <tr>\n",
       "      <td>Zoey's Extraordinary Best Friend</td>\n",
       "      <td>2</td>\n",
       "      <td>1778.0</td>\n",
       "      <td>44.60</td>\n",
       "    </tr>\n",
       "    <tr>\n",
       "      <td>Zoey's Extraordinary Boss</td>\n",
       "      <td>3</td>\n",
       "      <td>1199.0</td>\n",
       "      <td>53.20</td>\n",
       "    </tr>\n",
       "    <tr>\n",
       "      <td rowspan=\"12\" valign=\"top\">3</td>\n",
       "      <td>Awakening; Austin, We Have A Problem</td>\n",
       "      <td>9</td>\n",
       "      <td>4017.0</td>\n",
       "      <td>45.30</td>\n",
       "    </tr>\n",
       "    <tr>\n",
       "      <td>Chapter Five: Song For A Winter's Night</td>\n",
       "      <td>5</td>\n",
       "      <td>1142.0</td>\n",
       "      <td>38.50</td>\n",
       "    </tr>\n",
       "    <tr>\n",
       "      <td>Chapter Seven: Kiss Of The Spider Woman</td>\n",
       "      <td>7</td>\n",
       "      <td>714.0</td>\n",
       "      <td>34.10</td>\n",
       "    </tr>\n",
       "    <tr>\n",
       "      <td>Chapter Six: Mama Said</td>\n",
       "      <td>6</td>\n",
       "      <td>1018.0</td>\n",
       "      <td>39.40</td>\n",
       "    </tr>\n",
       "    <tr>\n",
       "      <td>Marie</td>\n",
       "      <td>4</td>\n",
       "      <td>569.0</td>\n",
       "      <td>40.60</td>\n",
       "    </tr>\n",
       "    <tr>\n",
       "      <td>Monster Inside</td>\n",
       "      <td>8</td>\n",
       "      <td>1918.0</td>\n",
       "      <td>33.60</td>\n",
       "    </tr>\n",
       "    <tr>\n",
       "      <td>Must/Can't</td>\n",
       "      <td>10</td>\n",
       "      <td>930.0</td>\n",
       "      <td>36.00</td>\n",
       "    </tr>\n",
       "    <tr>\n",
       "      <td>Tigers And Bears</td>\n",
       "      <td>9</td>\n",
       "      <td>501.0</td>\n",
       "      <td>42.30</td>\n",
       "    </tr>\n",
       "    <tr>\n",
       "      <td>Witness</td>\n",
       "      <td>5</td>\n",
       "      <td>1644.0</td>\n",
       "      <td>69.90</td>\n",
       "    </tr>\n",
       "    <tr>\n",
       "      <td>Zoey's Extraordinary Failure</td>\n",
       "      <td>5</td>\n",
       "      <td>856.0</td>\n",
       "      <td>44.30</td>\n",
       "    </tr>\n",
       "    <tr>\n",
       "      <td>Zoey's Extraordinary Neighbor</td>\n",
       "      <td>4</td>\n",
       "      <td>1129.0</td>\n",
       "      <td>51.80</td>\n",
       "    </tr>\n",
       "    <tr>\n",
       "      <td>Zoey's Extraordinary Night Out</td>\n",
       "      <td>6</td>\n",
       "      <td>1093.0</td>\n",
       "      <td>40.40</td>\n",
       "    </tr>\n",
       "  </tbody>\n",
       "</table>\n",
       "</div>"
      ],
      "text/plain": [
       "                                                                         Emotional Reactions  \\\n",
       "Aired_Month Airing Title                                      Episode #                        \n",
       "1           Dark Uncle                                        3                        575.0   \n",
       "            Fish In A Barrel                                  1                       1997.0   \n",
       "            Pilot                                             1                       4211.0   \n",
       "            Que Viene El Coco                                 4                        304.0   \n",
       "            Roanoke                                           2                       1964.0   \n",
       "            Texas Proud                                       3                       1166.0   \n",
       "            Yee Haw                                           2                       1928.0   \n",
       "2           Act Of God                                        4                       1151.0   \n",
       "            Brother's Keeper                                  3                       1315.0   \n",
       "            Bum Steer                                         7                       1288.0   \n",
       "            Chapter Four: Here Comes The Sun                  4                       1233.0   \n",
       "            Chapter Three: What Becomes Of The Broken Hearted 3                       1239.0   \n",
       "            Chapter Two: You Can't Hurry Love                 2                       1628.0   \n",
       "            Foxhead                                           8                        648.0   \n",
       "            Friends Like These                                6                       1113.0   \n",
       "            In The Pines, In The Pines                        7                        380.0   \n",
       "            Pilot                                             1                       3130.5   \n",
       "            Promises                                          2                       1340.0   \n",
       "            Studs                                             5                       1678.0   \n",
       "            Tear Drinker                                      5                        244.0   \n",
       "            The One About The Yiddish Vampire                 6                       2461.0   \n",
       "            Zoey's Extraordinary Best Friend                  2                       1778.0   \n",
       "            Zoey's Extraordinary Boss                         3                       1199.0   \n",
       "3           Awakening; Austin, We Have A Problem              9                       4017.0   \n",
       "            Chapter Five: Song For A Winter's Night           5                       1142.0   \n",
       "            Chapter Seven: Kiss Of The Spider Woman           7                        714.0   \n",
       "            Chapter Six: Mama Said                            6                       1018.0   \n",
       "            Marie                                             4                        569.0   \n",
       "            Monster Inside                                    8                       1918.0   \n",
       "            Must/Can't                                        10                       930.0   \n",
       "            Tigers And Bears                                  9                        501.0   \n",
       "            Witness                                           5                       1644.0   \n",
       "            Zoey's Extraordinary Failure                      5                        856.0   \n",
       "            Zoey's Extraordinary Neighbor                     4                       1129.0   \n",
       "            Zoey's Extraordinary Night Out                    6                       1093.0   \n",
       "\n",
       "                                                                         Reaction Rate  \n",
       "Aired_Month Airing Title                                      Episode #                 \n",
       "1           Dark Uncle                                        3                  39.10  \n",
       "            Fish In A Barrel                                  1                  55.20  \n",
       "            Pilot                                             1                  42.40  \n",
       "            Que Viene El Coco                                 4                  38.50  \n",
       "            Roanoke                                           2                  55.70  \n",
       "            Texas Proud                                       3                  45.20  \n",
       "            Yee Haw                                           2                  13.30  \n",
       "2           Act Of God                                        4                  41.40  \n",
       "            Brother's Keeper                                  3                  57.20  \n",
       "            Bum Steer                                         7                  40.70  \n",
       "            Chapter Four: Here Comes The Sun                  4                  36.10  \n",
       "            Chapter Three: What Becomes Of The Broken Hearted 3                  42.50  \n",
       "            Chapter Two: You Can't Hurry Love                 2                  39.10  \n",
       "            Foxhead                                           8                  46.20  \n",
       "            Friends Like These                                6                  39.80  \n",
       "            In The Pines, In The Pines                        7                  47.20  \n",
       "            Pilot                                             1                  35.45  \n",
       "            Promises                                          2                  46.00  \n",
       "            Studs                                             5                  53.50  \n",
       "            Tear Drinker                                      5                  54.30  \n",
       "            The One About The Yiddish Vampire                 6                  38.50  \n",
       "            Zoey's Extraordinary Best Friend                  2                  44.60  \n",
       "            Zoey's Extraordinary Boss                         3                  53.20  \n",
       "3           Awakening; Austin, We Have A Problem              9                  45.30  \n",
       "            Chapter Five: Song For A Winter's Night           5                  38.50  \n",
       "            Chapter Seven: Kiss Of The Spider Woman           7                  34.10  \n",
       "            Chapter Six: Mama Said                            6                  39.40  \n",
       "            Marie                                             4                  40.60  \n",
       "            Monster Inside                                    8                  33.60  \n",
       "            Must/Can't                                        10                 36.00  \n",
       "            Tigers And Bears                                  9                  42.30  \n",
       "            Witness                                           5                  69.90  \n",
       "            Zoey's Extraordinary Failure                      5                  44.30  \n",
       "            Zoey's Extraordinary Neighbor                     4                  51.80  \n",
       "            Zoey's Extraordinary Night Out                    6                  40.40  "
      ]
     },
     "execution_count": 57,
     "metadata": {},
     "output_type": "execute_result"
    }
   ],
   "source": [
    "t5t_2mean = t5t_2.groupby(['Aired_Month','Airing Title','Episode #']).mean()[['Emotional Reactions','Reaction Rate']]\n",
    "t5t_2mean"
   ]
  },
  {
   "cell_type": "code",
   "execution_count": 58,
   "metadata": {
    "scrolled": true
   },
   "outputs": [
    {
     "data": {
      "application/vnd.plotly.v1+json": {
       "config": {
        "linkText": "Export to plot.ly",
        "plotlyServerURL": "https://plot.ly",
        "showLink": true
       },
       "data": [
        {
         "marker": {
          "color": "rgba(55, 128, 191, 0.6)",
          "line": {
           "color": "rgba(55, 128, 191, 1.0)",
           "width": 1
          }
         },
         "name": "Reaction Rate",
         "orientation": "h",
         "text": "",
         "type": "bar",
         "x": [
          39.1,
          55.2,
          42.4,
          38.5,
          55.7,
          45.2,
          13.3,
          41.4,
          57.2,
          40.7,
          36.1,
          42.5,
          39.1,
          46.2,
          39.8,
          47.2,
          35.45,
          46,
          53.5,
          54.29999999999999,
          38.5,
          44.6,
          53.2,
          45.3,
          38.5,
          34.1,
          39.4,
          40.6,
          33.6,
          36,
          42.3,
          69.9,
          44.3,
          51.800000000000004,
          40.4
         ],
         "y": [
          "(1,Dark Uncle,3)",
          "(1,Fish In A Barrel,1)",
          "(1,Pilot,1)",
          "(1,Que Viene El Coco,4)",
          "(1,Roanoke,2)",
          "(1,Texas Proud,3)",
          "(1,Yee Haw,2)",
          "(2,Act Of God,4)",
          "(2,Brother's Keeper,3)",
          "(2,Bum Steer,7)",
          "(2,Chapter Four: Here Comes The Sun,4)",
          "(2,Chapter Three: What Becomes Of The Broken Hearted,3)",
          "(2,Chapter Two: You Can't Hurry Love,2)",
          "(2,Foxhead,8)",
          "(2,Friends Like These,6)",
          "(2,In The Pines, In The Pines,7)",
          "(2,Pilot,1)",
          "(2,Promises,2)",
          "(2,Studs,5)",
          "(2,Tear Drinker,5)",
          "(2,The One About The Yiddish Vampire,6)",
          "(2,Zoey's Extraordinary Best Friend,2)",
          "(2,Zoey's Extraordinary Boss,3)",
          "(3,Awakening; Austin, We Have A Problem,9)",
          "(3,Chapter Five: Song For A Winter's Night,5)",
          "(3,Chapter Seven: Kiss Of The Spider Woman,7)",
          "(3,Chapter Six: Mama Said,6)",
          "(3,Marie,4)",
          "(3,Monster Inside,8)",
          "(3,Must/Can't,10)",
          "(3,Tigers And Bears,9)",
          "(3,Witness,5)",
          "(3,Zoey's Extraordinary Failure,5)",
          "(3,Zoey's Extraordinary Neighbor,4)",
          "(3,Zoey's Extraordinary Night Out,6)"
         ]
        }
       ],
       "layout": {
        "legend": {
         "bgcolor": "#F5F6F9",
         "font": {
          "color": "#4D5663"
         }
        },
        "paper_bgcolor": "#F5F6F9",
        "plot_bgcolor": "#F5F6F9",
        "template": {
         "data": {
          "bar": [
           {
            "error_x": {
             "color": "#2a3f5f"
            },
            "error_y": {
             "color": "#2a3f5f"
            },
            "marker": {
             "line": {
              "color": "#E5ECF6",
              "width": 0.5
             }
            },
            "type": "bar"
           }
          ],
          "barpolar": [
           {
            "marker": {
             "line": {
              "color": "#E5ECF6",
              "width": 0.5
             }
            },
            "type": "barpolar"
           }
          ],
          "carpet": [
           {
            "aaxis": {
             "endlinecolor": "#2a3f5f",
             "gridcolor": "white",
             "linecolor": "white",
             "minorgridcolor": "white",
             "startlinecolor": "#2a3f5f"
            },
            "baxis": {
             "endlinecolor": "#2a3f5f",
             "gridcolor": "white",
             "linecolor": "white",
             "minorgridcolor": "white",
             "startlinecolor": "#2a3f5f"
            },
            "type": "carpet"
           }
          ],
          "choropleth": [
           {
            "colorbar": {
             "outlinewidth": 0,
             "ticks": ""
            },
            "type": "choropleth"
           }
          ],
          "contour": [
           {
            "colorbar": {
             "outlinewidth": 0,
             "ticks": ""
            },
            "colorscale": [
             [
              0,
              "#0d0887"
             ],
             [
              0.1111111111111111,
              "#46039f"
             ],
             [
              0.2222222222222222,
              "#7201a8"
             ],
             [
              0.3333333333333333,
              "#9c179e"
             ],
             [
              0.4444444444444444,
              "#bd3786"
             ],
             [
              0.5555555555555556,
              "#d8576b"
             ],
             [
              0.6666666666666666,
              "#ed7953"
             ],
             [
              0.7777777777777778,
              "#fb9f3a"
             ],
             [
              0.8888888888888888,
              "#fdca26"
             ],
             [
              1,
              "#f0f921"
             ]
            ],
            "type": "contour"
           }
          ],
          "contourcarpet": [
           {
            "colorbar": {
             "outlinewidth": 0,
             "ticks": ""
            },
            "type": "contourcarpet"
           }
          ],
          "heatmap": [
           {
            "colorbar": {
             "outlinewidth": 0,
             "ticks": ""
            },
            "colorscale": [
             [
              0,
              "#0d0887"
             ],
             [
              0.1111111111111111,
              "#46039f"
             ],
             [
              0.2222222222222222,
              "#7201a8"
             ],
             [
              0.3333333333333333,
              "#9c179e"
             ],
             [
              0.4444444444444444,
              "#bd3786"
             ],
             [
              0.5555555555555556,
              "#d8576b"
             ],
             [
              0.6666666666666666,
              "#ed7953"
             ],
             [
              0.7777777777777778,
              "#fb9f3a"
             ],
             [
              0.8888888888888888,
              "#fdca26"
             ],
             [
              1,
              "#f0f921"
             ]
            ],
            "type": "heatmap"
           }
          ],
          "heatmapgl": [
           {
            "colorbar": {
             "outlinewidth": 0,
             "ticks": ""
            },
            "colorscale": [
             [
              0,
              "#0d0887"
             ],
             [
              0.1111111111111111,
              "#46039f"
             ],
             [
              0.2222222222222222,
              "#7201a8"
             ],
             [
              0.3333333333333333,
              "#9c179e"
             ],
             [
              0.4444444444444444,
              "#bd3786"
             ],
             [
              0.5555555555555556,
              "#d8576b"
             ],
             [
              0.6666666666666666,
              "#ed7953"
             ],
             [
              0.7777777777777778,
              "#fb9f3a"
             ],
             [
              0.8888888888888888,
              "#fdca26"
             ],
             [
              1,
              "#f0f921"
             ]
            ],
            "type": "heatmapgl"
           }
          ],
          "histogram": [
           {
            "marker": {
             "colorbar": {
              "outlinewidth": 0,
              "ticks": ""
             }
            },
            "type": "histogram"
           }
          ],
          "histogram2d": [
           {
            "colorbar": {
             "outlinewidth": 0,
             "ticks": ""
            },
            "colorscale": [
             [
              0,
              "#0d0887"
             ],
             [
              0.1111111111111111,
              "#46039f"
             ],
             [
              0.2222222222222222,
              "#7201a8"
             ],
             [
              0.3333333333333333,
              "#9c179e"
             ],
             [
              0.4444444444444444,
              "#bd3786"
             ],
             [
              0.5555555555555556,
              "#d8576b"
             ],
             [
              0.6666666666666666,
              "#ed7953"
             ],
             [
              0.7777777777777778,
              "#fb9f3a"
             ],
             [
              0.8888888888888888,
              "#fdca26"
             ],
             [
              1,
              "#f0f921"
             ]
            ],
            "type": "histogram2d"
           }
          ],
          "histogram2dcontour": [
           {
            "colorbar": {
             "outlinewidth": 0,
             "ticks": ""
            },
            "colorscale": [
             [
              0,
              "#0d0887"
             ],
             [
              0.1111111111111111,
              "#46039f"
             ],
             [
              0.2222222222222222,
              "#7201a8"
             ],
             [
              0.3333333333333333,
              "#9c179e"
             ],
             [
              0.4444444444444444,
              "#bd3786"
             ],
             [
              0.5555555555555556,
              "#d8576b"
             ],
             [
              0.6666666666666666,
              "#ed7953"
             ],
             [
              0.7777777777777778,
              "#fb9f3a"
             ],
             [
              0.8888888888888888,
              "#fdca26"
             ],
             [
              1,
              "#f0f921"
             ]
            ],
            "type": "histogram2dcontour"
           }
          ],
          "mesh3d": [
           {
            "colorbar": {
             "outlinewidth": 0,
             "ticks": ""
            },
            "type": "mesh3d"
           }
          ],
          "parcoords": [
           {
            "line": {
             "colorbar": {
              "outlinewidth": 0,
              "ticks": ""
             }
            },
            "type": "parcoords"
           }
          ],
          "pie": [
           {
            "automargin": true,
            "type": "pie"
           }
          ],
          "scatter": [
           {
            "marker": {
             "colorbar": {
              "outlinewidth": 0,
              "ticks": ""
             }
            },
            "type": "scatter"
           }
          ],
          "scatter3d": [
           {
            "line": {
             "colorbar": {
              "outlinewidth": 0,
              "ticks": ""
             }
            },
            "marker": {
             "colorbar": {
              "outlinewidth": 0,
              "ticks": ""
             }
            },
            "type": "scatter3d"
           }
          ],
          "scattercarpet": [
           {
            "marker": {
             "colorbar": {
              "outlinewidth": 0,
              "ticks": ""
             }
            },
            "type": "scattercarpet"
           }
          ],
          "scattergeo": [
           {
            "marker": {
             "colorbar": {
              "outlinewidth": 0,
              "ticks": ""
             }
            },
            "type": "scattergeo"
           }
          ],
          "scattergl": [
           {
            "marker": {
             "colorbar": {
              "outlinewidth": 0,
              "ticks": ""
             }
            },
            "type": "scattergl"
           }
          ],
          "scattermapbox": [
           {
            "marker": {
             "colorbar": {
              "outlinewidth": 0,
              "ticks": ""
             }
            },
            "type": "scattermapbox"
           }
          ],
          "scatterpolar": [
           {
            "marker": {
             "colorbar": {
              "outlinewidth": 0,
              "ticks": ""
             }
            },
            "type": "scatterpolar"
           }
          ],
          "scatterpolargl": [
           {
            "marker": {
             "colorbar": {
              "outlinewidth": 0,
              "ticks": ""
             }
            },
            "type": "scatterpolargl"
           }
          ],
          "scatterternary": [
           {
            "marker": {
             "colorbar": {
              "outlinewidth": 0,
              "ticks": ""
             }
            },
            "type": "scatterternary"
           }
          ],
          "surface": [
           {
            "colorbar": {
             "outlinewidth": 0,
             "ticks": ""
            },
            "colorscale": [
             [
              0,
              "#0d0887"
             ],
             [
              0.1111111111111111,
              "#46039f"
             ],
             [
              0.2222222222222222,
              "#7201a8"
             ],
             [
              0.3333333333333333,
              "#9c179e"
             ],
             [
              0.4444444444444444,
              "#bd3786"
             ],
             [
              0.5555555555555556,
              "#d8576b"
             ],
             [
              0.6666666666666666,
              "#ed7953"
             ],
             [
              0.7777777777777778,
              "#fb9f3a"
             ],
             [
              0.8888888888888888,
              "#fdca26"
             ],
             [
              1,
              "#f0f921"
             ]
            ],
            "type": "surface"
           }
          ],
          "table": [
           {
            "cells": {
             "fill": {
              "color": "#EBF0F8"
             },
             "line": {
              "color": "white"
             }
            },
            "header": {
             "fill": {
              "color": "#C8D4E3"
             },
             "line": {
              "color": "white"
             }
            },
            "type": "table"
           }
          ]
         },
         "layout": {
          "annotationdefaults": {
           "arrowcolor": "#2a3f5f",
           "arrowhead": 0,
           "arrowwidth": 1
          },
          "coloraxis": {
           "colorbar": {
            "outlinewidth": 0,
            "ticks": ""
           }
          },
          "colorscale": {
           "diverging": [
            [
             0,
             "#8e0152"
            ],
            [
             0.1,
             "#c51b7d"
            ],
            [
             0.2,
             "#de77ae"
            ],
            [
             0.3,
             "#f1b6da"
            ],
            [
             0.4,
             "#fde0ef"
            ],
            [
             0.5,
             "#f7f7f7"
            ],
            [
             0.6,
             "#e6f5d0"
            ],
            [
             0.7,
             "#b8e186"
            ],
            [
             0.8,
             "#7fbc41"
            ],
            [
             0.9,
             "#4d9221"
            ],
            [
             1,
             "#276419"
            ]
           ],
           "sequential": [
            [
             0,
             "#0d0887"
            ],
            [
             0.1111111111111111,
             "#46039f"
            ],
            [
             0.2222222222222222,
             "#7201a8"
            ],
            [
             0.3333333333333333,
             "#9c179e"
            ],
            [
             0.4444444444444444,
             "#bd3786"
            ],
            [
             0.5555555555555556,
             "#d8576b"
            ],
            [
             0.6666666666666666,
             "#ed7953"
            ],
            [
             0.7777777777777778,
             "#fb9f3a"
            ],
            [
             0.8888888888888888,
             "#fdca26"
            ],
            [
             1,
             "#f0f921"
            ]
           ],
           "sequentialminus": [
            [
             0,
             "#0d0887"
            ],
            [
             0.1111111111111111,
             "#46039f"
            ],
            [
             0.2222222222222222,
             "#7201a8"
            ],
            [
             0.3333333333333333,
             "#9c179e"
            ],
            [
             0.4444444444444444,
             "#bd3786"
            ],
            [
             0.5555555555555556,
             "#d8576b"
            ],
            [
             0.6666666666666666,
             "#ed7953"
            ],
            [
             0.7777777777777778,
             "#fb9f3a"
            ],
            [
             0.8888888888888888,
             "#fdca26"
            ],
            [
             1,
             "#f0f921"
            ]
           ]
          },
          "colorway": [
           "#636efa",
           "#EF553B",
           "#00cc96",
           "#ab63fa",
           "#FFA15A",
           "#19d3f3",
           "#FF6692",
           "#B6E880",
           "#FF97FF",
           "#FECB52"
          ],
          "font": {
           "color": "#2a3f5f"
          },
          "geo": {
           "bgcolor": "white",
           "lakecolor": "white",
           "landcolor": "#E5ECF6",
           "showlakes": true,
           "showland": true,
           "subunitcolor": "white"
          },
          "hoverlabel": {
           "align": "left"
          },
          "hovermode": "closest",
          "mapbox": {
           "style": "light"
          },
          "paper_bgcolor": "white",
          "plot_bgcolor": "#E5ECF6",
          "polar": {
           "angularaxis": {
            "gridcolor": "white",
            "linecolor": "white",
            "ticks": ""
           },
           "bgcolor": "#E5ECF6",
           "radialaxis": {
            "gridcolor": "white",
            "linecolor": "white",
            "ticks": ""
           }
          },
          "scene": {
           "xaxis": {
            "backgroundcolor": "#E5ECF6",
            "gridcolor": "white",
            "gridwidth": 2,
            "linecolor": "white",
            "showbackground": true,
            "ticks": "",
            "zerolinecolor": "white"
           },
           "yaxis": {
            "backgroundcolor": "#E5ECF6",
            "gridcolor": "white",
            "gridwidth": 2,
            "linecolor": "white",
            "showbackground": true,
            "ticks": "",
            "zerolinecolor": "white"
           },
           "zaxis": {
            "backgroundcolor": "#E5ECF6",
            "gridcolor": "white",
            "gridwidth": 2,
            "linecolor": "white",
            "showbackground": true,
            "ticks": "",
            "zerolinecolor": "white"
           }
          },
          "shapedefaults": {
           "line": {
            "color": "#2a3f5f"
           }
          },
          "ternary": {
           "aaxis": {
            "gridcolor": "white",
            "linecolor": "white",
            "ticks": ""
           },
           "baxis": {
            "gridcolor": "white",
            "linecolor": "white",
            "ticks": ""
           },
           "bgcolor": "#E5ECF6",
           "caxis": {
            "gridcolor": "white",
            "linecolor": "white",
            "ticks": ""
           }
          },
          "title": {
           "x": 0.05
          },
          "xaxis": {
           "automargin": true,
           "gridcolor": "white",
           "linecolor": "white",
           "ticks": "",
           "title": {
            "standoff": 15
           },
           "zerolinecolor": "white",
           "zerolinewidth": 2
          },
          "yaxis": {
           "automargin": true,
           "gridcolor": "white",
           "linecolor": "white",
           "ticks": "",
           "title": {
            "standoff": 15
           },
           "zerolinecolor": "white",
           "zerolinewidth": 2
          }
         }
        },
        "title": {
         "font": {
          "color": "#4D5663"
         }
        },
        "xaxis": {
         "gridcolor": "#E1E5ED",
         "showgrid": true,
         "tickfont": {
          "color": "#4D5663"
         },
         "title": {
          "font": {
           "color": "#4D5663"
          },
          "text": ""
         },
         "zerolinecolor": "#E1E5ED"
        },
        "yaxis": {
         "gridcolor": "#E1E5ED",
         "showgrid": true,
         "tickfont": {
          "color": "#4D5663"
         },
         "title": {
          "font": {
           "color": "#4D5663"
          },
          "text": ""
         },
         "zerolinecolor": "#E1E5ED"
        }
       }
      },
      "text/html": [
       "<div>\n",
       "        \n",
       "        \n",
       "            <div id=\"1fca5c06-f986-423c-87f6-bcd45e169771\" class=\"plotly-graph-div\" style=\"height:525px; width:100%;\"></div>\n",
       "            <script type=\"text/javascript\">\n",
       "                require([\"plotly\"], function(Plotly) {\n",
       "                    window.PLOTLYENV=window.PLOTLYENV || {};\n",
       "                    window.PLOTLYENV.BASE_URL='https://plot.ly';\n",
       "                    \n",
       "                if (document.getElementById(\"1fca5c06-f986-423c-87f6-bcd45e169771\")) {\n",
       "                    Plotly.newPlot(\n",
       "                        '1fca5c06-f986-423c-87f6-bcd45e169771',\n",
       "                        [{\"marker\": {\"color\": \"rgba(55, 128, 191, 0.6)\", \"line\": {\"color\": \"rgba(55, 128, 191, 1.0)\", \"width\": 1}}, \"name\": \"Reaction Rate\", \"orientation\": \"h\", \"text\": \"\", \"type\": \"bar\", \"x\": [39.1, 55.2, 42.4, 38.5, 55.7, 45.2, 13.3, 41.4, 57.2, 40.7, 36.1, 42.5, 39.1, 46.2, 39.8, 47.2, 35.45, 46.0, 53.5, 54.29999999999999, 38.5, 44.6, 53.2, 45.3, 38.5, 34.1, 39.4, 40.6, 33.6, 36.0, 42.3, 69.9, 44.3, 51.800000000000004, 40.4], \"y\": [\"(1,Dark Uncle,3)\", \"(1,Fish In A Barrel,1)\", \"(1,Pilot,1)\", \"(1,Que Viene El Coco,4)\", \"(1,Roanoke,2)\", \"(1,Texas Proud,3)\", \"(1,Yee Haw,2)\", \"(2,Act Of God,4)\", \"(2,Brother's Keeper,3)\", \"(2,Bum Steer,7)\", \"(2,Chapter Four: Here Comes The Sun,4)\", \"(2,Chapter Three: What Becomes Of The Broken Hearted,3)\", \"(2,Chapter Two: You Can't Hurry Love,2)\", \"(2,Foxhead,8)\", \"(2,Friends Like These,6)\", \"(2,In The Pines, In The Pines,7)\", \"(2,Pilot,1)\", \"(2,Promises,2)\", \"(2,Studs,5)\", \"(2,Tear Drinker,5)\", \"(2,The One About The Yiddish Vampire,6)\", \"(2,Zoey's Extraordinary Best Friend,2)\", \"(2,Zoey's Extraordinary Boss,3)\", \"(3,Awakening; Austin, We Have A Problem,9)\", \"(3,Chapter Five: Song For A Winter's Night,5)\", \"(3,Chapter Seven: Kiss Of The Spider Woman,7)\", \"(3,Chapter Six: Mama Said,6)\", \"(3,Marie,4)\", \"(3,Monster Inside,8)\", \"(3,Must/Can't,10)\", \"(3,Tigers And Bears,9)\", \"(3,Witness,5)\", \"(3,Zoey's Extraordinary Failure,5)\", \"(3,Zoey's Extraordinary Neighbor,4)\", \"(3,Zoey's Extraordinary Night Out,6)\"]}],\n",
       "                        {\"legend\": {\"bgcolor\": \"#F5F6F9\", \"font\": {\"color\": \"#4D5663\"}}, \"paper_bgcolor\": \"#F5F6F9\", \"plot_bgcolor\": \"#F5F6F9\", \"template\": {\"data\": {\"bar\": [{\"error_x\": {\"color\": \"#2a3f5f\"}, \"error_y\": {\"color\": \"#2a3f5f\"}, \"marker\": {\"line\": {\"color\": \"#E5ECF6\", \"width\": 0.5}}, \"type\": \"bar\"}], \"barpolar\": [{\"marker\": {\"line\": {\"color\": \"#E5ECF6\", \"width\": 0.5}}, \"type\": \"barpolar\"}], \"carpet\": [{\"aaxis\": {\"endlinecolor\": \"#2a3f5f\", \"gridcolor\": \"white\", \"linecolor\": \"white\", \"minorgridcolor\": \"white\", \"startlinecolor\": \"#2a3f5f\"}, \"baxis\": {\"endlinecolor\": \"#2a3f5f\", \"gridcolor\": \"white\", \"linecolor\": \"white\", \"minorgridcolor\": \"white\", \"startlinecolor\": \"#2a3f5f\"}, \"type\": \"carpet\"}], \"choropleth\": [{\"colorbar\": {\"outlinewidth\": 0, \"ticks\": \"\"}, \"type\": \"choropleth\"}], \"contour\": [{\"colorbar\": {\"outlinewidth\": 0, \"ticks\": \"\"}, \"colorscale\": [[0.0, \"#0d0887\"], [0.1111111111111111, \"#46039f\"], [0.2222222222222222, \"#7201a8\"], [0.3333333333333333, \"#9c179e\"], [0.4444444444444444, \"#bd3786\"], [0.5555555555555556, \"#d8576b\"], [0.6666666666666666, \"#ed7953\"], [0.7777777777777778, \"#fb9f3a\"], [0.8888888888888888, \"#fdca26\"], [1.0, \"#f0f921\"]], \"type\": \"contour\"}], \"contourcarpet\": [{\"colorbar\": {\"outlinewidth\": 0, \"ticks\": \"\"}, \"type\": \"contourcarpet\"}], \"heatmap\": [{\"colorbar\": {\"outlinewidth\": 0, \"ticks\": \"\"}, \"colorscale\": [[0.0, \"#0d0887\"], [0.1111111111111111, \"#46039f\"], [0.2222222222222222, \"#7201a8\"], [0.3333333333333333, \"#9c179e\"], [0.4444444444444444, \"#bd3786\"], [0.5555555555555556, \"#d8576b\"], [0.6666666666666666, \"#ed7953\"], [0.7777777777777778, \"#fb9f3a\"], [0.8888888888888888, \"#fdca26\"], [1.0, \"#f0f921\"]], \"type\": \"heatmap\"}], \"heatmapgl\": [{\"colorbar\": {\"outlinewidth\": 0, \"ticks\": \"\"}, \"colorscale\": [[0.0, \"#0d0887\"], [0.1111111111111111, \"#46039f\"], [0.2222222222222222, \"#7201a8\"], [0.3333333333333333, \"#9c179e\"], [0.4444444444444444, \"#bd3786\"], [0.5555555555555556, \"#d8576b\"], [0.6666666666666666, \"#ed7953\"], [0.7777777777777778, \"#fb9f3a\"], [0.8888888888888888, \"#fdca26\"], [1.0, \"#f0f921\"]], \"type\": \"heatmapgl\"}], \"histogram\": [{\"marker\": {\"colorbar\": {\"outlinewidth\": 0, \"ticks\": \"\"}}, \"type\": \"histogram\"}], \"histogram2d\": [{\"colorbar\": {\"outlinewidth\": 0, \"ticks\": \"\"}, \"colorscale\": [[0.0, \"#0d0887\"], [0.1111111111111111, \"#46039f\"], [0.2222222222222222, \"#7201a8\"], [0.3333333333333333, \"#9c179e\"], [0.4444444444444444, \"#bd3786\"], [0.5555555555555556, \"#d8576b\"], [0.6666666666666666, \"#ed7953\"], [0.7777777777777778, \"#fb9f3a\"], [0.8888888888888888, \"#fdca26\"], [1.0, \"#f0f921\"]], \"type\": \"histogram2d\"}], \"histogram2dcontour\": [{\"colorbar\": {\"outlinewidth\": 0, \"ticks\": \"\"}, \"colorscale\": [[0.0, \"#0d0887\"], [0.1111111111111111, \"#46039f\"], [0.2222222222222222, \"#7201a8\"], [0.3333333333333333, \"#9c179e\"], [0.4444444444444444, \"#bd3786\"], [0.5555555555555556, \"#d8576b\"], [0.6666666666666666, \"#ed7953\"], [0.7777777777777778, \"#fb9f3a\"], [0.8888888888888888, \"#fdca26\"], [1.0, \"#f0f921\"]], \"type\": \"histogram2dcontour\"}], \"mesh3d\": [{\"colorbar\": {\"outlinewidth\": 0, \"ticks\": \"\"}, \"type\": \"mesh3d\"}], \"parcoords\": [{\"line\": {\"colorbar\": {\"outlinewidth\": 0, \"ticks\": \"\"}}, \"type\": \"parcoords\"}], \"pie\": [{\"automargin\": true, \"type\": \"pie\"}], \"scatter\": [{\"marker\": {\"colorbar\": {\"outlinewidth\": 0, \"ticks\": \"\"}}, \"type\": \"scatter\"}], \"scatter3d\": [{\"line\": {\"colorbar\": {\"outlinewidth\": 0, \"ticks\": \"\"}}, \"marker\": {\"colorbar\": {\"outlinewidth\": 0, \"ticks\": \"\"}}, \"type\": \"scatter3d\"}], \"scattercarpet\": [{\"marker\": {\"colorbar\": {\"outlinewidth\": 0, \"ticks\": \"\"}}, \"type\": \"scattercarpet\"}], \"scattergeo\": [{\"marker\": {\"colorbar\": {\"outlinewidth\": 0, \"ticks\": \"\"}}, \"type\": \"scattergeo\"}], \"scattergl\": [{\"marker\": {\"colorbar\": {\"outlinewidth\": 0, \"ticks\": \"\"}}, \"type\": \"scattergl\"}], \"scattermapbox\": [{\"marker\": {\"colorbar\": {\"outlinewidth\": 0, \"ticks\": \"\"}}, \"type\": \"scattermapbox\"}], \"scatterpolar\": [{\"marker\": {\"colorbar\": {\"outlinewidth\": 0, \"ticks\": \"\"}}, \"type\": \"scatterpolar\"}], \"scatterpolargl\": [{\"marker\": {\"colorbar\": {\"outlinewidth\": 0, \"ticks\": \"\"}}, \"type\": \"scatterpolargl\"}], \"scatterternary\": [{\"marker\": {\"colorbar\": {\"outlinewidth\": 0, \"ticks\": \"\"}}, \"type\": \"scatterternary\"}], \"surface\": [{\"colorbar\": {\"outlinewidth\": 0, \"ticks\": \"\"}, \"colorscale\": [[0.0, \"#0d0887\"], [0.1111111111111111, \"#46039f\"], [0.2222222222222222, \"#7201a8\"], [0.3333333333333333, \"#9c179e\"], [0.4444444444444444, \"#bd3786\"], [0.5555555555555556, \"#d8576b\"], [0.6666666666666666, \"#ed7953\"], [0.7777777777777778, \"#fb9f3a\"], [0.8888888888888888, \"#fdca26\"], [1.0, \"#f0f921\"]], \"type\": \"surface\"}], \"table\": [{\"cells\": {\"fill\": {\"color\": \"#EBF0F8\"}, \"line\": {\"color\": \"white\"}}, \"header\": {\"fill\": {\"color\": \"#C8D4E3\"}, \"line\": {\"color\": \"white\"}}, \"type\": \"table\"}]}, \"layout\": {\"annotationdefaults\": {\"arrowcolor\": \"#2a3f5f\", \"arrowhead\": 0, \"arrowwidth\": 1}, \"coloraxis\": {\"colorbar\": {\"outlinewidth\": 0, \"ticks\": \"\"}}, \"colorscale\": {\"diverging\": [[0, \"#8e0152\"], [0.1, \"#c51b7d\"], [0.2, \"#de77ae\"], [0.3, \"#f1b6da\"], [0.4, \"#fde0ef\"], [0.5, \"#f7f7f7\"], [0.6, \"#e6f5d0\"], [0.7, \"#b8e186\"], [0.8, \"#7fbc41\"], [0.9, \"#4d9221\"], [1, \"#276419\"]], \"sequential\": [[0.0, \"#0d0887\"], [0.1111111111111111, \"#46039f\"], [0.2222222222222222, \"#7201a8\"], [0.3333333333333333, \"#9c179e\"], [0.4444444444444444, \"#bd3786\"], [0.5555555555555556, \"#d8576b\"], [0.6666666666666666, \"#ed7953\"], [0.7777777777777778, \"#fb9f3a\"], [0.8888888888888888, \"#fdca26\"], [1.0, \"#f0f921\"]], \"sequentialminus\": [[0.0, \"#0d0887\"], [0.1111111111111111, \"#46039f\"], [0.2222222222222222, \"#7201a8\"], [0.3333333333333333, \"#9c179e\"], [0.4444444444444444, \"#bd3786\"], [0.5555555555555556, \"#d8576b\"], [0.6666666666666666, \"#ed7953\"], [0.7777777777777778, \"#fb9f3a\"], [0.8888888888888888, \"#fdca26\"], [1.0, \"#f0f921\"]]}, \"colorway\": [\"#636efa\", \"#EF553B\", \"#00cc96\", \"#ab63fa\", \"#FFA15A\", \"#19d3f3\", \"#FF6692\", \"#B6E880\", \"#FF97FF\", \"#FECB52\"], \"font\": {\"color\": \"#2a3f5f\"}, \"geo\": {\"bgcolor\": \"white\", \"lakecolor\": \"white\", \"landcolor\": \"#E5ECF6\", \"showlakes\": true, \"showland\": true, \"subunitcolor\": \"white\"}, \"hoverlabel\": {\"align\": \"left\"}, \"hovermode\": \"closest\", \"mapbox\": {\"style\": \"light\"}, \"paper_bgcolor\": \"white\", \"plot_bgcolor\": \"#E5ECF6\", \"polar\": {\"angularaxis\": {\"gridcolor\": \"white\", \"linecolor\": \"white\", \"ticks\": \"\"}, \"bgcolor\": \"#E5ECF6\", \"radialaxis\": {\"gridcolor\": \"white\", \"linecolor\": \"white\", \"ticks\": \"\"}}, \"scene\": {\"xaxis\": {\"backgroundcolor\": \"#E5ECF6\", \"gridcolor\": \"white\", \"gridwidth\": 2, \"linecolor\": \"white\", \"showbackground\": true, \"ticks\": \"\", \"zerolinecolor\": \"white\"}, \"yaxis\": {\"backgroundcolor\": \"#E5ECF6\", \"gridcolor\": \"white\", \"gridwidth\": 2, \"linecolor\": \"white\", \"showbackground\": true, \"ticks\": \"\", \"zerolinecolor\": \"white\"}, \"zaxis\": {\"backgroundcolor\": \"#E5ECF6\", \"gridcolor\": \"white\", \"gridwidth\": 2, \"linecolor\": \"white\", \"showbackground\": true, \"ticks\": \"\", \"zerolinecolor\": \"white\"}}, \"shapedefaults\": {\"line\": {\"color\": \"#2a3f5f\"}}, \"ternary\": {\"aaxis\": {\"gridcolor\": \"white\", \"linecolor\": \"white\", \"ticks\": \"\"}, \"baxis\": {\"gridcolor\": \"white\", \"linecolor\": \"white\", \"ticks\": \"\"}, \"bgcolor\": \"#E5ECF6\", \"caxis\": {\"gridcolor\": \"white\", \"linecolor\": \"white\", \"ticks\": \"\"}}, \"title\": {\"x\": 0.05}, \"xaxis\": {\"automargin\": true, \"gridcolor\": \"white\", \"linecolor\": \"white\", \"ticks\": \"\", \"title\": {\"standoff\": 15}, \"zerolinecolor\": \"white\", \"zerolinewidth\": 2}, \"yaxis\": {\"automargin\": true, \"gridcolor\": \"white\", \"linecolor\": \"white\", \"ticks\": \"\", \"title\": {\"standoff\": 15}, \"zerolinecolor\": \"white\", \"zerolinewidth\": 2}}}, \"title\": {\"font\": {\"color\": \"#4D5663\"}}, \"xaxis\": {\"gridcolor\": \"#E1E5ED\", \"showgrid\": true, \"tickfont\": {\"color\": \"#4D5663\"}, \"title\": {\"font\": {\"color\": \"#4D5663\"}, \"text\": \"\"}, \"zerolinecolor\": \"#E1E5ED\"}, \"yaxis\": {\"gridcolor\": \"#E1E5ED\", \"showgrid\": true, \"tickfont\": {\"color\": \"#4D5663\"}, \"title\": {\"font\": {\"color\": \"#4D5663\"}, \"text\": \"\"}, \"zerolinecolor\": \"#E1E5ED\"}},\n",
       "                        {\"showLink\": true, \"linkText\": \"Export to plot.ly\", \"plotlyServerURL\": \"https://plot.ly\", \"responsive\": true}\n",
       "                    ).then(function(){\n",
       "                            \n",
       "var gd = document.getElementById('1fca5c06-f986-423c-87f6-bcd45e169771');\n",
       "var x = new MutationObserver(function (mutations, observer) {{\n",
       "        var display = window.getComputedStyle(gd).display;\n",
       "        if (!display || display === 'none') {{\n",
       "            console.log([gd, 'removed!']);\n",
       "            Plotly.purge(gd);\n",
       "            observer.disconnect();\n",
       "        }}\n",
       "}});\n",
       "\n",
       "// Listen for the removal of the full notebook cells\n",
       "var notebookContainer = gd.closest('#notebook-container');\n",
       "if (notebookContainer) {{\n",
       "    x.observe(notebookContainer, {childList: true});\n",
       "}}\n",
       "\n",
       "// Listen for the clearing of the current output cell\n",
       "var outputEl = gd.closest('.output');\n",
       "if (outputEl) {{\n",
       "    x.observe(outputEl, {childList: true});\n",
       "}}\n",
       "\n",
       "                        })\n",
       "                };\n",
       "                });\n",
       "            </script>\n",
       "        </div>"
      ]
     },
     "metadata": {},
     "output_type": "display_data"
    }
   ],
   "source": [
    "t5t_2mean['Reaction Rate'].iplot(kind='barh', color = 'blue')"
   ]
  },
  {
   "cell_type": "code",
   "execution_count": 59,
   "metadata": {},
   "outputs": [
    {
     "data": {
      "application/vnd.plotly.v1+json": {
       "config": {
        "linkText": "Export to plot.ly",
        "plotlyServerURL": "https://plot.ly",
        "showLink": true
       },
       "data": [
        {
         "marker": {
          "color": "rgba(255, 153, 51, 0.6)",
          "line": {
           "color": "rgba(255, 153, 51, 1.0)",
           "width": 1
          }
         },
         "name": "Emotional Reactions",
         "orientation": "h",
         "text": "",
         "type": "bar",
         "x": [
          575,
          1997,
          4211,
          304,
          1964,
          1166,
          1928,
          1151,
          1315,
          1288,
          1233,
          1239,
          1628,
          648,
          1113,
          380,
          3130.5,
          1340,
          1678,
          244,
          2461,
          1778,
          1199,
          4017,
          1142,
          714,
          1018,
          569,
          1918,
          930,
          501,
          1644,
          856,
          1129,
          1093
         ],
         "y": [
          "(1,Dark Uncle,3)",
          "(1,Fish In A Barrel,1)",
          "(1,Pilot,1)",
          "(1,Que Viene El Coco,4)",
          "(1,Roanoke,2)",
          "(1,Texas Proud,3)",
          "(1,Yee Haw,2)",
          "(2,Act Of God,4)",
          "(2,Brother's Keeper,3)",
          "(2,Bum Steer,7)",
          "(2,Chapter Four: Here Comes The Sun,4)",
          "(2,Chapter Three: What Becomes Of The Broken Hearted,3)",
          "(2,Chapter Two: You Can't Hurry Love,2)",
          "(2,Foxhead,8)",
          "(2,Friends Like These,6)",
          "(2,In The Pines, In The Pines,7)",
          "(2,Pilot,1)",
          "(2,Promises,2)",
          "(2,Studs,5)",
          "(2,Tear Drinker,5)",
          "(2,The One About The Yiddish Vampire,6)",
          "(2,Zoey's Extraordinary Best Friend,2)",
          "(2,Zoey's Extraordinary Boss,3)",
          "(3,Awakening; Austin, We Have A Problem,9)",
          "(3,Chapter Five: Song For A Winter's Night,5)",
          "(3,Chapter Seven: Kiss Of The Spider Woman,7)",
          "(3,Chapter Six: Mama Said,6)",
          "(3,Marie,4)",
          "(3,Monster Inside,8)",
          "(3,Must/Can't,10)",
          "(3,Tigers And Bears,9)",
          "(3,Witness,5)",
          "(3,Zoey's Extraordinary Failure,5)",
          "(3,Zoey's Extraordinary Neighbor,4)",
          "(3,Zoey's Extraordinary Night Out,6)"
         ]
        }
       ],
       "layout": {
        "legend": {
         "bgcolor": "#F5F6F9",
         "font": {
          "color": "#4D5663"
         }
        },
        "paper_bgcolor": "#F5F6F9",
        "plot_bgcolor": "#F5F6F9",
        "template": {
         "data": {
          "bar": [
           {
            "error_x": {
             "color": "#2a3f5f"
            },
            "error_y": {
             "color": "#2a3f5f"
            },
            "marker": {
             "line": {
              "color": "#E5ECF6",
              "width": 0.5
             }
            },
            "type": "bar"
           }
          ],
          "barpolar": [
           {
            "marker": {
             "line": {
              "color": "#E5ECF6",
              "width": 0.5
             }
            },
            "type": "barpolar"
           }
          ],
          "carpet": [
           {
            "aaxis": {
             "endlinecolor": "#2a3f5f",
             "gridcolor": "white",
             "linecolor": "white",
             "minorgridcolor": "white",
             "startlinecolor": "#2a3f5f"
            },
            "baxis": {
             "endlinecolor": "#2a3f5f",
             "gridcolor": "white",
             "linecolor": "white",
             "minorgridcolor": "white",
             "startlinecolor": "#2a3f5f"
            },
            "type": "carpet"
           }
          ],
          "choropleth": [
           {
            "colorbar": {
             "outlinewidth": 0,
             "ticks": ""
            },
            "type": "choropleth"
           }
          ],
          "contour": [
           {
            "colorbar": {
             "outlinewidth": 0,
             "ticks": ""
            },
            "colorscale": [
             [
              0,
              "#0d0887"
             ],
             [
              0.1111111111111111,
              "#46039f"
             ],
             [
              0.2222222222222222,
              "#7201a8"
             ],
             [
              0.3333333333333333,
              "#9c179e"
             ],
             [
              0.4444444444444444,
              "#bd3786"
             ],
             [
              0.5555555555555556,
              "#d8576b"
             ],
             [
              0.6666666666666666,
              "#ed7953"
             ],
             [
              0.7777777777777778,
              "#fb9f3a"
             ],
             [
              0.8888888888888888,
              "#fdca26"
             ],
             [
              1,
              "#f0f921"
             ]
            ],
            "type": "contour"
           }
          ],
          "contourcarpet": [
           {
            "colorbar": {
             "outlinewidth": 0,
             "ticks": ""
            },
            "type": "contourcarpet"
           }
          ],
          "heatmap": [
           {
            "colorbar": {
             "outlinewidth": 0,
             "ticks": ""
            },
            "colorscale": [
             [
              0,
              "#0d0887"
             ],
             [
              0.1111111111111111,
              "#46039f"
             ],
             [
              0.2222222222222222,
              "#7201a8"
             ],
             [
              0.3333333333333333,
              "#9c179e"
             ],
             [
              0.4444444444444444,
              "#bd3786"
             ],
             [
              0.5555555555555556,
              "#d8576b"
             ],
             [
              0.6666666666666666,
              "#ed7953"
             ],
             [
              0.7777777777777778,
              "#fb9f3a"
             ],
             [
              0.8888888888888888,
              "#fdca26"
             ],
             [
              1,
              "#f0f921"
             ]
            ],
            "type": "heatmap"
           }
          ],
          "heatmapgl": [
           {
            "colorbar": {
             "outlinewidth": 0,
             "ticks": ""
            },
            "colorscale": [
             [
              0,
              "#0d0887"
             ],
             [
              0.1111111111111111,
              "#46039f"
             ],
             [
              0.2222222222222222,
              "#7201a8"
             ],
             [
              0.3333333333333333,
              "#9c179e"
             ],
             [
              0.4444444444444444,
              "#bd3786"
             ],
             [
              0.5555555555555556,
              "#d8576b"
             ],
             [
              0.6666666666666666,
              "#ed7953"
             ],
             [
              0.7777777777777778,
              "#fb9f3a"
             ],
             [
              0.8888888888888888,
              "#fdca26"
             ],
             [
              1,
              "#f0f921"
             ]
            ],
            "type": "heatmapgl"
           }
          ],
          "histogram": [
           {
            "marker": {
             "colorbar": {
              "outlinewidth": 0,
              "ticks": ""
             }
            },
            "type": "histogram"
           }
          ],
          "histogram2d": [
           {
            "colorbar": {
             "outlinewidth": 0,
             "ticks": ""
            },
            "colorscale": [
             [
              0,
              "#0d0887"
             ],
             [
              0.1111111111111111,
              "#46039f"
             ],
             [
              0.2222222222222222,
              "#7201a8"
             ],
             [
              0.3333333333333333,
              "#9c179e"
             ],
             [
              0.4444444444444444,
              "#bd3786"
             ],
             [
              0.5555555555555556,
              "#d8576b"
             ],
             [
              0.6666666666666666,
              "#ed7953"
             ],
             [
              0.7777777777777778,
              "#fb9f3a"
             ],
             [
              0.8888888888888888,
              "#fdca26"
             ],
             [
              1,
              "#f0f921"
             ]
            ],
            "type": "histogram2d"
           }
          ],
          "histogram2dcontour": [
           {
            "colorbar": {
             "outlinewidth": 0,
             "ticks": ""
            },
            "colorscale": [
             [
              0,
              "#0d0887"
             ],
             [
              0.1111111111111111,
              "#46039f"
             ],
             [
              0.2222222222222222,
              "#7201a8"
             ],
             [
              0.3333333333333333,
              "#9c179e"
             ],
             [
              0.4444444444444444,
              "#bd3786"
             ],
             [
              0.5555555555555556,
              "#d8576b"
             ],
             [
              0.6666666666666666,
              "#ed7953"
             ],
             [
              0.7777777777777778,
              "#fb9f3a"
             ],
             [
              0.8888888888888888,
              "#fdca26"
             ],
             [
              1,
              "#f0f921"
             ]
            ],
            "type": "histogram2dcontour"
           }
          ],
          "mesh3d": [
           {
            "colorbar": {
             "outlinewidth": 0,
             "ticks": ""
            },
            "type": "mesh3d"
           }
          ],
          "parcoords": [
           {
            "line": {
             "colorbar": {
              "outlinewidth": 0,
              "ticks": ""
             }
            },
            "type": "parcoords"
           }
          ],
          "pie": [
           {
            "automargin": true,
            "type": "pie"
           }
          ],
          "scatter": [
           {
            "marker": {
             "colorbar": {
              "outlinewidth": 0,
              "ticks": ""
             }
            },
            "type": "scatter"
           }
          ],
          "scatter3d": [
           {
            "line": {
             "colorbar": {
              "outlinewidth": 0,
              "ticks": ""
             }
            },
            "marker": {
             "colorbar": {
              "outlinewidth": 0,
              "ticks": ""
             }
            },
            "type": "scatter3d"
           }
          ],
          "scattercarpet": [
           {
            "marker": {
             "colorbar": {
              "outlinewidth": 0,
              "ticks": ""
             }
            },
            "type": "scattercarpet"
           }
          ],
          "scattergeo": [
           {
            "marker": {
             "colorbar": {
              "outlinewidth": 0,
              "ticks": ""
             }
            },
            "type": "scattergeo"
           }
          ],
          "scattergl": [
           {
            "marker": {
             "colorbar": {
              "outlinewidth": 0,
              "ticks": ""
             }
            },
            "type": "scattergl"
           }
          ],
          "scattermapbox": [
           {
            "marker": {
             "colorbar": {
              "outlinewidth": 0,
              "ticks": ""
             }
            },
            "type": "scattermapbox"
           }
          ],
          "scatterpolar": [
           {
            "marker": {
             "colorbar": {
              "outlinewidth": 0,
              "ticks": ""
             }
            },
            "type": "scatterpolar"
           }
          ],
          "scatterpolargl": [
           {
            "marker": {
             "colorbar": {
              "outlinewidth": 0,
              "ticks": ""
             }
            },
            "type": "scatterpolargl"
           }
          ],
          "scatterternary": [
           {
            "marker": {
             "colorbar": {
              "outlinewidth": 0,
              "ticks": ""
             }
            },
            "type": "scatterternary"
           }
          ],
          "surface": [
           {
            "colorbar": {
             "outlinewidth": 0,
             "ticks": ""
            },
            "colorscale": [
             [
              0,
              "#0d0887"
             ],
             [
              0.1111111111111111,
              "#46039f"
             ],
             [
              0.2222222222222222,
              "#7201a8"
             ],
             [
              0.3333333333333333,
              "#9c179e"
             ],
             [
              0.4444444444444444,
              "#bd3786"
             ],
             [
              0.5555555555555556,
              "#d8576b"
             ],
             [
              0.6666666666666666,
              "#ed7953"
             ],
             [
              0.7777777777777778,
              "#fb9f3a"
             ],
             [
              0.8888888888888888,
              "#fdca26"
             ],
             [
              1,
              "#f0f921"
             ]
            ],
            "type": "surface"
           }
          ],
          "table": [
           {
            "cells": {
             "fill": {
              "color": "#EBF0F8"
             },
             "line": {
              "color": "white"
             }
            },
            "header": {
             "fill": {
              "color": "#C8D4E3"
             },
             "line": {
              "color": "white"
             }
            },
            "type": "table"
           }
          ]
         },
         "layout": {
          "annotationdefaults": {
           "arrowcolor": "#2a3f5f",
           "arrowhead": 0,
           "arrowwidth": 1
          },
          "coloraxis": {
           "colorbar": {
            "outlinewidth": 0,
            "ticks": ""
           }
          },
          "colorscale": {
           "diverging": [
            [
             0,
             "#8e0152"
            ],
            [
             0.1,
             "#c51b7d"
            ],
            [
             0.2,
             "#de77ae"
            ],
            [
             0.3,
             "#f1b6da"
            ],
            [
             0.4,
             "#fde0ef"
            ],
            [
             0.5,
             "#f7f7f7"
            ],
            [
             0.6,
             "#e6f5d0"
            ],
            [
             0.7,
             "#b8e186"
            ],
            [
             0.8,
             "#7fbc41"
            ],
            [
             0.9,
             "#4d9221"
            ],
            [
             1,
             "#276419"
            ]
           ],
           "sequential": [
            [
             0,
             "#0d0887"
            ],
            [
             0.1111111111111111,
             "#46039f"
            ],
            [
             0.2222222222222222,
             "#7201a8"
            ],
            [
             0.3333333333333333,
             "#9c179e"
            ],
            [
             0.4444444444444444,
             "#bd3786"
            ],
            [
             0.5555555555555556,
             "#d8576b"
            ],
            [
             0.6666666666666666,
             "#ed7953"
            ],
            [
             0.7777777777777778,
             "#fb9f3a"
            ],
            [
             0.8888888888888888,
             "#fdca26"
            ],
            [
             1,
             "#f0f921"
            ]
           ],
           "sequentialminus": [
            [
             0,
             "#0d0887"
            ],
            [
             0.1111111111111111,
             "#46039f"
            ],
            [
             0.2222222222222222,
             "#7201a8"
            ],
            [
             0.3333333333333333,
             "#9c179e"
            ],
            [
             0.4444444444444444,
             "#bd3786"
            ],
            [
             0.5555555555555556,
             "#d8576b"
            ],
            [
             0.6666666666666666,
             "#ed7953"
            ],
            [
             0.7777777777777778,
             "#fb9f3a"
            ],
            [
             0.8888888888888888,
             "#fdca26"
            ],
            [
             1,
             "#f0f921"
            ]
           ]
          },
          "colorway": [
           "#636efa",
           "#EF553B",
           "#00cc96",
           "#ab63fa",
           "#FFA15A",
           "#19d3f3",
           "#FF6692",
           "#B6E880",
           "#FF97FF",
           "#FECB52"
          ],
          "font": {
           "color": "#2a3f5f"
          },
          "geo": {
           "bgcolor": "white",
           "lakecolor": "white",
           "landcolor": "#E5ECF6",
           "showlakes": true,
           "showland": true,
           "subunitcolor": "white"
          },
          "hoverlabel": {
           "align": "left"
          },
          "hovermode": "closest",
          "mapbox": {
           "style": "light"
          },
          "paper_bgcolor": "white",
          "plot_bgcolor": "#E5ECF6",
          "polar": {
           "angularaxis": {
            "gridcolor": "white",
            "linecolor": "white",
            "ticks": ""
           },
           "bgcolor": "#E5ECF6",
           "radialaxis": {
            "gridcolor": "white",
            "linecolor": "white",
            "ticks": ""
           }
          },
          "scene": {
           "xaxis": {
            "backgroundcolor": "#E5ECF6",
            "gridcolor": "white",
            "gridwidth": 2,
            "linecolor": "white",
            "showbackground": true,
            "ticks": "",
            "zerolinecolor": "white"
           },
           "yaxis": {
            "backgroundcolor": "#E5ECF6",
            "gridcolor": "white",
            "gridwidth": 2,
            "linecolor": "white",
            "showbackground": true,
            "ticks": "",
            "zerolinecolor": "white"
           },
           "zaxis": {
            "backgroundcolor": "#E5ECF6",
            "gridcolor": "white",
            "gridwidth": 2,
            "linecolor": "white",
            "showbackground": true,
            "ticks": "",
            "zerolinecolor": "white"
           }
          },
          "shapedefaults": {
           "line": {
            "color": "#2a3f5f"
           }
          },
          "ternary": {
           "aaxis": {
            "gridcolor": "white",
            "linecolor": "white",
            "ticks": ""
           },
           "baxis": {
            "gridcolor": "white",
            "linecolor": "white",
            "ticks": ""
           },
           "bgcolor": "#E5ECF6",
           "caxis": {
            "gridcolor": "white",
            "linecolor": "white",
            "ticks": ""
           }
          },
          "title": {
           "x": 0.05
          },
          "xaxis": {
           "automargin": true,
           "gridcolor": "white",
           "linecolor": "white",
           "ticks": "",
           "title": {
            "standoff": 15
           },
           "zerolinecolor": "white",
           "zerolinewidth": 2
          },
          "yaxis": {
           "automargin": true,
           "gridcolor": "white",
           "linecolor": "white",
           "ticks": "",
           "title": {
            "standoff": 15
           },
           "zerolinecolor": "white",
           "zerolinewidth": 2
          }
         }
        },
        "title": {
         "font": {
          "color": "#4D5663"
         }
        },
        "xaxis": {
         "gridcolor": "#E1E5ED",
         "showgrid": true,
         "tickfont": {
          "color": "#4D5663"
         },
         "title": {
          "font": {
           "color": "#4D5663"
          },
          "text": ""
         },
         "zerolinecolor": "#E1E5ED"
        },
        "yaxis": {
         "gridcolor": "#E1E5ED",
         "showgrid": true,
         "tickfont": {
          "color": "#4D5663"
         },
         "title": {
          "font": {
           "color": "#4D5663"
          },
          "text": ""
         },
         "zerolinecolor": "#E1E5ED"
        }
       }
      },
      "text/html": [
       "<div>\n",
       "        \n",
       "        \n",
       "            <div id=\"6bd152e5-801e-4f16-8282-99c8dac606c3\" class=\"plotly-graph-div\" style=\"height:525px; width:100%;\"></div>\n",
       "            <script type=\"text/javascript\">\n",
       "                require([\"plotly\"], function(Plotly) {\n",
       "                    window.PLOTLYENV=window.PLOTLYENV || {};\n",
       "                    window.PLOTLYENV.BASE_URL='https://plot.ly';\n",
       "                    \n",
       "                if (document.getElementById(\"6bd152e5-801e-4f16-8282-99c8dac606c3\")) {\n",
       "                    Plotly.newPlot(\n",
       "                        '6bd152e5-801e-4f16-8282-99c8dac606c3',\n",
       "                        [{\"marker\": {\"color\": \"rgba(255, 153, 51, 0.6)\", \"line\": {\"color\": \"rgba(255, 153, 51, 1.0)\", \"width\": 1}}, \"name\": \"Emotional Reactions\", \"orientation\": \"h\", \"text\": \"\", \"type\": \"bar\", \"x\": [575.0, 1997.0, 4211.0, 304.0, 1964.0, 1166.0, 1928.0, 1151.0, 1315.0, 1288.0, 1233.0, 1239.0, 1628.0, 648.0, 1113.0, 380.0, 3130.5, 1340.0, 1678.0, 244.0, 2461.0, 1778.0, 1199.0, 4017.0, 1142.0, 714.0, 1018.0, 569.0, 1918.0, 930.0, 501.0, 1644.0, 856.0, 1129.0, 1093.0], \"y\": [\"(1,Dark Uncle,3)\", \"(1,Fish In A Barrel,1)\", \"(1,Pilot,1)\", \"(1,Que Viene El Coco,4)\", \"(1,Roanoke,2)\", \"(1,Texas Proud,3)\", \"(1,Yee Haw,2)\", \"(2,Act Of God,4)\", \"(2,Brother's Keeper,3)\", \"(2,Bum Steer,7)\", \"(2,Chapter Four: Here Comes The Sun,4)\", \"(2,Chapter Three: What Becomes Of The Broken Hearted,3)\", \"(2,Chapter Two: You Can't Hurry Love,2)\", \"(2,Foxhead,8)\", \"(2,Friends Like These,6)\", \"(2,In The Pines, In The Pines,7)\", \"(2,Pilot,1)\", \"(2,Promises,2)\", \"(2,Studs,5)\", \"(2,Tear Drinker,5)\", \"(2,The One About The Yiddish Vampire,6)\", \"(2,Zoey's Extraordinary Best Friend,2)\", \"(2,Zoey's Extraordinary Boss,3)\", \"(3,Awakening; Austin, We Have A Problem,9)\", \"(3,Chapter Five: Song For A Winter's Night,5)\", \"(3,Chapter Seven: Kiss Of The Spider Woman,7)\", \"(3,Chapter Six: Mama Said,6)\", \"(3,Marie,4)\", \"(3,Monster Inside,8)\", \"(3,Must/Can't,10)\", \"(3,Tigers And Bears,9)\", \"(3,Witness,5)\", \"(3,Zoey's Extraordinary Failure,5)\", \"(3,Zoey's Extraordinary Neighbor,4)\", \"(3,Zoey's Extraordinary Night Out,6)\"]}],\n",
       "                        {\"legend\": {\"bgcolor\": \"#F5F6F9\", \"font\": {\"color\": \"#4D5663\"}}, \"paper_bgcolor\": \"#F5F6F9\", \"plot_bgcolor\": \"#F5F6F9\", \"template\": {\"data\": {\"bar\": [{\"error_x\": {\"color\": \"#2a3f5f\"}, \"error_y\": {\"color\": \"#2a3f5f\"}, \"marker\": {\"line\": {\"color\": \"#E5ECF6\", \"width\": 0.5}}, \"type\": \"bar\"}], \"barpolar\": [{\"marker\": {\"line\": {\"color\": \"#E5ECF6\", \"width\": 0.5}}, \"type\": \"barpolar\"}], \"carpet\": [{\"aaxis\": {\"endlinecolor\": \"#2a3f5f\", \"gridcolor\": \"white\", \"linecolor\": \"white\", \"minorgridcolor\": \"white\", \"startlinecolor\": \"#2a3f5f\"}, \"baxis\": {\"endlinecolor\": \"#2a3f5f\", \"gridcolor\": \"white\", \"linecolor\": \"white\", \"minorgridcolor\": \"white\", \"startlinecolor\": \"#2a3f5f\"}, \"type\": \"carpet\"}], \"choropleth\": [{\"colorbar\": {\"outlinewidth\": 0, \"ticks\": \"\"}, \"type\": \"choropleth\"}], \"contour\": [{\"colorbar\": {\"outlinewidth\": 0, \"ticks\": \"\"}, \"colorscale\": [[0.0, \"#0d0887\"], [0.1111111111111111, \"#46039f\"], [0.2222222222222222, \"#7201a8\"], [0.3333333333333333, \"#9c179e\"], [0.4444444444444444, \"#bd3786\"], [0.5555555555555556, \"#d8576b\"], [0.6666666666666666, \"#ed7953\"], [0.7777777777777778, \"#fb9f3a\"], [0.8888888888888888, \"#fdca26\"], [1.0, \"#f0f921\"]], \"type\": \"contour\"}], \"contourcarpet\": [{\"colorbar\": {\"outlinewidth\": 0, \"ticks\": \"\"}, \"type\": \"contourcarpet\"}], \"heatmap\": [{\"colorbar\": {\"outlinewidth\": 0, \"ticks\": \"\"}, \"colorscale\": [[0.0, \"#0d0887\"], [0.1111111111111111, \"#46039f\"], [0.2222222222222222, \"#7201a8\"], [0.3333333333333333, \"#9c179e\"], [0.4444444444444444, \"#bd3786\"], [0.5555555555555556, \"#d8576b\"], [0.6666666666666666, \"#ed7953\"], [0.7777777777777778, \"#fb9f3a\"], [0.8888888888888888, \"#fdca26\"], [1.0, \"#f0f921\"]], \"type\": \"heatmap\"}], \"heatmapgl\": [{\"colorbar\": {\"outlinewidth\": 0, \"ticks\": \"\"}, \"colorscale\": [[0.0, \"#0d0887\"], [0.1111111111111111, \"#46039f\"], [0.2222222222222222, \"#7201a8\"], [0.3333333333333333, \"#9c179e\"], [0.4444444444444444, \"#bd3786\"], [0.5555555555555556, \"#d8576b\"], [0.6666666666666666, \"#ed7953\"], [0.7777777777777778, \"#fb9f3a\"], [0.8888888888888888, \"#fdca26\"], [1.0, \"#f0f921\"]], \"type\": \"heatmapgl\"}], \"histogram\": [{\"marker\": {\"colorbar\": {\"outlinewidth\": 0, \"ticks\": \"\"}}, \"type\": \"histogram\"}], \"histogram2d\": [{\"colorbar\": {\"outlinewidth\": 0, \"ticks\": \"\"}, \"colorscale\": [[0.0, \"#0d0887\"], [0.1111111111111111, \"#46039f\"], [0.2222222222222222, \"#7201a8\"], [0.3333333333333333, \"#9c179e\"], [0.4444444444444444, \"#bd3786\"], [0.5555555555555556, \"#d8576b\"], [0.6666666666666666, \"#ed7953\"], [0.7777777777777778, \"#fb9f3a\"], [0.8888888888888888, \"#fdca26\"], [1.0, \"#f0f921\"]], \"type\": \"histogram2d\"}], \"histogram2dcontour\": [{\"colorbar\": {\"outlinewidth\": 0, \"ticks\": \"\"}, \"colorscale\": [[0.0, \"#0d0887\"], [0.1111111111111111, \"#46039f\"], [0.2222222222222222, \"#7201a8\"], [0.3333333333333333, \"#9c179e\"], [0.4444444444444444, \"#bd3786\"], [0.5555555555555556, \"#d8576b\"], [0.6666666666666666, \"#ed7953\"], [0.7777777777777778, \"#fb9f3a\"], [0.8888888888888888, \"#fdca26\"], [1.0, \"#f0f921\"]], \"type\": \"histogram2dcontour\"}], \"mesh3d\": [{\"colorbar\": {\"outlinewidth\": 0, \"ticks\": \"\"}, \"type\": \"mesh3d\"}], \"parcoords\": [{\"line\": {\"colorbar\": {\"outlinewidth\": 0, \"ticks\": \"\"}}, \"type\": \"parcoords\"}], \"pie\": [{\"automargin\": true, \"type\": \"pie\"}], \"scatter\": [{\"marker\": {\"colorbar\": {\"outlinewidth\": 0, \"ticks\": \"\"}}, \"type\": \"scatter\"}], \"scatter3d\": [{\"line\": {\"colorbar\": {\"outlinewidth\": 0, \"ticks\": \"\"}}, \"marker\": {\"colorbar\": {\"outlinewidth\": 0, \"ticks\": \"\"}}, \"type\": \"scatter3d\"}], \"scattercarpet\": [{\"marker\": {\"colorbar\": {\"outlinewidth\": 0, \"ticks\": \"\"}}, \"type\": \"scattercarpet\"}], \"scattergeo\": [{\"marker\": {\"colorbar\": {\"outlinewidth\": 0, \"ticks\": \"\"}}, \"type\": \"scattergeo\"}], \"scattergl\": [{\"marker\": {\"colorbar\": {\"outlinewidth\": 0, \"ticks\": \"\"}}, \"type\": \"scattergl\"}], \"scattermapbox\": [{\"marker\": {\"colorbar\": {\"outlinewidth\": 0, \"ticks\": \"\"}}, \"type\": \"scattermapbox\"}], \"scatterpolar\": [{\"marker\": {\"colorbar\": {\"outlinewidth\": 0, \"ticks\": \"\"}}, \"type\": \"scatterpolar\"}], \"scatterpolargl\": [{\"marker\": {\"colorbar\": {\"outlinewidth\": 0, \"ticks\": \"\"}}, \"type\": \"scatterpolargl\"}], \"scatterternary\": [{\"marker\": {\"colorbar\": {\"outlinewidth\": 0, \"ticks\": \"\"}}, \"type\": \"scatterternary\"}], \"surface\": [{\"colorbar\": {\"outlinewidth\": 0, \"ticks\": \"\"}, \"colorscale\": [[0.0, \"#0d0887\"], [0.1111111111111111, \"#46039f\"], [0.2222222222222222, \"#7201a8\"], [0.3333333333333333, \"#9c179e\"], [0.4444444444444444, \"#bd3786\"], [0.5555555555555556, \"#d8576b\"], [0.6666666666666666, \"#ed7953\"], [0.7777777777777778, \"#fb9f3a\"], [0.8888888888888888, \"#fdca26\"], [1.0, \"#f0f921\"]], \"type\": \"surface\"}], \"table\": [{\"cells\": {\"fill\": {\"color\": \"#EBF0F8\"}, \"line\": {\"color\": \"white\"}}, \"header\": {\"fill\": {\"color\": \"#C8D4E3\"}, \"line\": {\"color\": \"white\"}}, \"type\": \"table\"}]}, \"layout\": {\"annotationdefaults\": {\"arrowcolor\": \"#2a3f5f\", \"arrowhead\": 0, \"arrowwidth\": 1}, \"coloraxis\": {\"colorbar\": {\"outlinewidth\": 0, \"ticks\": \"\"}}, \"colorscale\": {\"diverging\": [[0, \"#8e0152\"], [0.1, \"#c51b7d\"], [0.2, \"#de77ae\"], [0.3, \"#f1b6da\"], [0.4, \"#fde0ef\"], [0.5, \"#f7f7f7\"], [0.6, \"#e6f5d0\"], [0.7, \"#b8e186\"], [0.8, \"#7fbc41\"], [0.9, \"#4d9221\"], [1, \"#276419\"]], \"sequential\": [[0.0, \"#0d0887\"], [0.1111111111111111, \"#46039f\"], [0.2222222222222222, \"#7201a8\"], [0.3333333333333333, \"#9c179e\"], [0.4444444444444444, \"#bd3786\"], [0.5555555555555556, \"#d8576b\"], [0.6666666666666666, \"#ed7953\"], [0.7777777777777778, \"#fb9f3a\"], [0.8888888888888888, \"#fdca26\"], [1.0, \"#f0f921\"]], \"sequentialminus\": [[0.0, \"#0d0887\"], [0.1111111111111111, \"#46039f\"], [0.2222222222222222, \"#7201a8\"], [0.3333333333333333, \"#9c179e\"], [0.4444444444444444, \"#bd3786\"], [0.5555555555555556, \"#d8576b\"], [0.6666666666666666, \"#ed7953\"], [0.7777777777777778, \"#fb9f3a\"], [0.8888888888888888, \"#fdca26\"], [1.0, \"#f0f921\"]]}, \"colorway\": [\"#636efa\", \"#EF553B\", \"#00cc96\", \"#ab63fa\", \"#FFA15A\", \"#19d3f3\", \"#FF6692\", \"#B6E880\", \"#FF97FF\", \"#FECB52\"], \"font\": {\"color\": \"#2a3f5f\"}, \"geo\": {\"bgcolor\": \"white\", \"lakecolor\": \"white\", \"landcolor\": \"#E5ECF6\", \"showlakes\": true, \"showland\": true, \"subunitcolor\": \"white\"}, \"hoverlabel\": {\"align\": \"left\"}, \"hovermode\": \"closest\", \"mapbox\": {\"style\": \"light\"}, \"paper_bgcolor\": \"white\", \"plot_bgcolor\": \"#E5ECF6\", \"polar\": {\"angularaxis\": {\"gridcolor\": \"white\", \"linecolor\": \"white\", \"ticks\": \"\"}, \"bgcolor\": \"#E5ECF6\", \"radialaxis\": {\"gridcolor\": \"white\", \"linecolor\": \"white\", \"ticks\": \"\"}}, \"scene\": {\"xaxis\": {\"backgroundcolor\": \"#E5ECF6\", \"gridcolor\": \"white\", \"gridwidth\": 2, \"linecolor\": \"white\", \"showbackground\": true, \"ticks\": \"\", \"zerolinecolor\": \"white\"}, \"yaxis\": {\"backgroundcolor\": \"#E5ECF6\", \"gridcolor\": \"white\", \"gridwidth\": 2, \"linecolor\": \"white\", \"showbackground\": true, \"ticks\": \"\", \"zerolinecolor\": \"white\"}, \"zaxis\": {\"backgroundcolor\": \"#E5ECF6\", \"gridcolor\": \"white\", \"gridwidth\": 2, \"linecolor\": \"white\", \"showbackground\": true, \"ticks\": \"\", \"zerolinecolor\": \"white\"}}, \"shapedefaults\": {\"line\": {\"color\": \"#2a3f5f\"}}, \"ternary\": {\"aaxis\": {\"gridcolor\": \"white\", \"linecolor\": \"white\", \"ticks\": \"\"}, \"baxis\": {\"gridcolor\": \"white\", \"linecolor\": \"white\", \"ticks\": \"\"}, \"bgcolor\": \"#E5ECF6\", \"caxis\": {\"gridcolor\": \"white\", \"linecolor\": \"white\", \"ticks\": \"\"}}, \"title\": {\"x\": 0.05}, \"xaxis\": {\"automargin\": true, \"gridcolor\": \"white\", \"linecolor\": \"white\", \"ticks\": \"\", \"title\": {\"standoff\": 15}, \"zerolinecolor\": \"white\", \"zerolinewidth\": 2}, \"yaxis\": {\"automargin\": true, \"gridcolor\": \"white\", \"linecolor\": \"white\", \"ticks\": \"\", \"title\": {\"standoff\": 15}, \"zerolinecolor\": \"white\", \"zerolinewidth\": 2}}}, \"title\": {\"font\": {\"color\": \"#4D5663\"}}, \"xaxis\": {\"gridcolor\": \"#E1E5ED\", \"showgrid\": true, \"tickfont\": {\"color\": \"#4D5663\"}, \"title\": {\"font\": {\"color\": \"#4D5663\"}, \"text\": \"\"}, \"zerolinecolor\": \"#E1E5ED\"}, \"yaxis\": {\"gridcolor\": \"#E1E5ED\", \"showgrid\": true, \"tickfont\": {\"color\": \"#4D5663\"}, \"title\": {\"font\": {\"color\": \"#4D5663\"}, \"text\": \"\"}, \"zerolinecolor\": \"#E1E5ED\"}},\n",
       "                        {\"showLink\": true, \"linkText\": \"Export to plot.ly\", \"plotlyServerURL\": \"https://plot.ly\", \"responsive\": true}\n",
       "                    ).then(function(){\n",
       "                            \n",
       "var gd = document.getElementById('6bd152e5-801e-4f16-8282-99c8dac606c3');\n",
       "var x = new MutationObserver(function (mutations, observer) {{\n",
       "        var display = window.getComputedStyle(gd).display;\n",
       "        if (!display || display === 'none') {{\n",
       "            console.log([gd, 'removed!']);\n",
       "            Plotly.purge(gd);\n",
       "            observer.disconnect();\n",
       "        }}\n",
       "}});\n",
       "\n",
       "// Listen for the removal of the full notebook cells\n",
       "var notebookContainer = gd.closest('#notebook-container');\n",
       "if (notebookContainer) {{\n",
       "    x.observe(notebookContainer, {childList: true});\n",
       "}}\n",
       "\n",
       "// Listen for the clearing of the current output cell\n",
       "var outputEl = gd.closest('.output');\n",
       "if (outputEl) {{\n",
       "    x.observe(outputEl, {childList: true});\n",
       "}}\n",
       "\n",
       "                        })\n",
       "                };\n",
       "                });\n",
       "            </script>\n",
       "        </div>"
      ]
     },
     "metadata": {},
     "output_type": "display_data"
    }
   ],
   "source": [
    "t5t_2mean['Emotional Reactions'].iplot(kind='barh')"
   ]
  },
  {
   "cell_type": "code",
   "execution_count": 132,
   "metadata": {},
   "outputs": [
    {
     "data": {
      "application/vnd.plotly.v1+json": {
       "config": {
        "linkText": "Export to plot.ly",
        "plotlyServerURL": "https://plot.ly",
        "showLink": true
       },
       "data": [
        {
         "marker": {
          "color": "rgba(255, 153, 51, 0.6)",
          "line": {
           "color": "rgba(255, 153, 51, 1.0)",
           "width": 1
          }
         },
         "name": "Reaction Rate",
         "orientation": "h",
         "text": "",
         "type": "bar",
         "x": [
          0.391,
          0.552,
          0.424,
          0.385,
          0.557,
          0.452,
          0.133,
          0.414,
          0.5720000000000001,
          0.40700000000000003,
          0.361,
          0.425,
          0.391,
          0.462,
          0.39799999999999996,
          0.47200000000000003,
          0.3545,
          0.46,
          0.535,
          0.5429999999999999,
          0.385,
          0.446,
          0.532,
          0.45299999999999996,
          0.385,
          0.341,
          0.39399999999999996,
          0.406,
          0.336,
          0.36,
          0.423,
          0.6990000000000001,
          0.44299999999999995,
          0.518,
          0.40399999999999997
         ],
         "y": [
          "(1,Dark Uncle,3)",
          "(1,Fish In A Barrel,1)",
          "(1,Pilot,1)",
          "(1,Que Viene El Coco,4)",
          "(1,Roanoke,2)",
          "(1,Texas Proud,3)",
          "(1,Yee Haw,2)",
          "(2,Act Of God,4)",
          "(2,Brother's Keeper,3)",
          "(2,Bum Steer,7)",
          "(2,Chapter Four: Here Comes The Sun,4)",
          "(2,Chapter Three: What Becomes Of The Broken Hearted,3)",
          "(2,Chapter Two: You Can't Hurry Love,2)",
          "(2,Foxhead,8)",
          "(2,Friends Like These,6)",
          "(2,In The Pines, In The Pines,7)",
          "(2,Pilot,1)",
          "(2,Promises,2)",
          "(2,Studs,5)",
          "(2,Tear Drinker,5)",
          "(2,The One About The Yiddish Vampire,6)",
          "(2,Zoey's Extraordinary Best Friend,2)",
          "(2,Zoey's Extraordinary Boss,3)",
          "(3,Awakening; Austin, We Have A Problem,9)",
          "(3,Chapter Five: Song For A Winter's Night,5)",
          "(3,Chapter Seven: Kiss Of The Spider Woman,7)",
          "(3,Chapter Six: Mama Said,6)",
          "(3,Marie,4)",
          "(3,Monster Inside,8)",
          "(3,Must/Can't,10)",
          "(3,Tigers And Bears,9)",
          "(3,Witness,5)",
          "(3,Zoey's Extraordinary Failure,5)",
          "(3,Zoey's Extraordinary Neighbor,4)",
          "(3,Zoey's Extraordinary Night Out,6)"
         ]
        },
        {
         "marker": {
          "color": "rgba(55, 128, 191, 0.6)",
          "line": {
           "color": "rgba(55, 128, 191, 1.0)",
           "width": 1
          }
         },
         "name": "Emotional Reactions",
         "orientation": "h",
         "text": "",
         "type": "bar",
         "x": [
          575,
          1997,
          4211,
          304,
          1964,
          1166,
          1928,
          1151,
          1315,
          1288,
          1233,
          1239,
          1628,
          648,
          1113,
          380,
          3130.5,
          1340,
          1678,
          244,
          2461,
          1778,
          1199,
          4017,
          1142,
          714,
          1018,
          569,
          1918,
          930,
          501,
          1644,
          856,
          1129,
          1093
         ],
         "y": [
          "(1,Dark Uncle,3)",
          "(1,Fish In A Barrel,1)",
          "(1,Pilot,1)",
          "(1,Que Viene El Coco,4)",
          "(1,Roanoke,2)",
          "(1,Texas Proud,3)",
          "(1,Yee Haw,2)",
          "(2,Act Of God,4)",
          "(2,Brother's Keeper,3)",
          "(2,Bum Steer,7)",
          "(2,Chapter Four: Here Comes The Sun,4)",
          "(2,Chapter Three: What Becomes Of The Broken Hearted,3)",
          "(2,Chapter Two: You Can't Hurry Love,2)",
          "(2,Foxhead,8)",
          "(2,Friends Like These,6)",
          "(2,In The Pines, In The Pines,7)",
          "(2,Pilot,1)",
          "(2,Promises,2)",
          "(2,Studs,5)",
          "(2,Tear Drinker,5)",
          "(2,The One About The Yiddish Vampire,6)",
          "(2,Zoey's Extraordinary Best Friend,2)",
          "(2,Zoey's Extraordinary Boss,3)",
          "(3,Awakening; Austin, We Have A Problem,9)",
          "(3,Chapter Five: Song For A Winter's Night,5)",
          "(3,Chapter Seven: Kiss Of The Spider Woman,7)",
          "(3,Chapter Six: Mama Said,6)",
          "(3,Marie,4)",
          "(3,Monster Inside,8)",
          "(3,Must/Can't,10)",
          "(3,Tigers And Bears,9)",
          "(3,Witness,5)",
          "(3,Zoey's Extraordinary Failure,5)",
          "(3,Zoey's Extraordinary Neighbor,4)",
          "(3,Zoey's Extraordinary Night Out,6)"
         ]
        }
       ],
       "layout": {
        "legend": {
         "bgcolor": "#F5F6F9",
         "font": {
          "color": "#4D5663"
         }
        },
        "paper_bgcolor": "#F5F6F9",
        "plot_bgcolor": "#F5F6F9",
        "template": {
         "data": {
          "bar": [
           {
            "error_x": {
             "color": "#2a3f5f"
            },
            "error_y": {
             "color": "#2a3f5f"
            },
            "marker": {
             "line": {
              "color": "#E5ECF6",
              "width": 0.5
             }
            },
            "type": "bar"
           }
          ],
          "barpolar": [
           {
            "marker": {
             "line": {
              "color": "#E5ECF6",
              "width": 0.5
             }
            },
            "type": "barpolar"
           }
          ],
          "carpet": [
           {
            "aaxis": {
             "endlinecolor": "#2a3f5f",
             "gridcolor": "white",
             "linecolor": "white",
             "minorgridcolor": "white",
             "startlinecolor": "#2a3f5f"
            },
            "baxis": {
             "endlinecolor": "#2a3f5f",
             "gridcolor": "white",
             "linecolor": "white",
             "minorgridcolor": "white",
             "startlinecolor": "#2a3f5f"
            },
            "type": "carpet"
           }
          ],
          "choropleth": [
           {
            "colorbar": {
             "outlinewidth": 0,
             "ticks": ""
            },
            "type": "choropleth"
           }
          ],
          "contour": [
           {
            "colorbar": {
             "outlinewidth": 0,
             "ticks": ""
            },
            "colorscale": [
             [
              0,
              "#0d0887"
             ],
             [
              0.1111111111111111,
              "#46039f"
             ],
             [
              0.2222222222222222,
              "#7201a8"
             ],
             [
              0.3333333333333333,
              "#9c179e"
             ],
             [
              0.4444444444444444,
              "#bd3786"
             ],
             [
              0.5555555555555556,
              "#d8576b"
             ],
             [
              0.6666666666666666,
              "#ed7953"
             ],
             [
              0.7777777777777778,
              "#fb9f3a"
             ],
             [
              0.8888888888888888,
              "#fdca26"
             ],
             [
              1,
              "#f0f921"
             ]
            ],
            "type": "contour"
           }
          ],
          "contourcarpet": [
           {
            "colorbar": {
             "outlinewidth": 0,
             "ticks": ""
            },
            "type": "contourcarpet"
           }
          ],
          "heatmap": [
           {
            "colorbar": {
             "outlinewidth": 0,
             "ticks": ""
            },
            "colorscale": [
             [
              0,
              "#0d0887"
             ],
             [
              0.1111111111111111,
              "#46039f"
             ],
             [
              0.2222222222222222,
              "#7201a8"
             ],
             [
              0.3333333333333333,
              "#9c179e"
             ],
             [
              0.4444444444444444,
              "#bd3786"
             ],
             [
              0.5555555555555556,
              "#d8576b"
             ],
             [
              0.6666666666666666,
              "#ed7953"
             ],
             [
              0.7777777777777778,
              "#fb9f3a"
             ],
             [
              0.8888888888888888,
              "#fdca26"
             ],
             [
              1,
              "#f0f921"
             ]
            ],
            "type": "heatmap"
           }
          ],
          "heatmapgl": [
           {
            "colorbar": {
             "outlinewidth": 0,
             "ticks": ""
            },
            "colorscale": [
             [
              0,
              "#0d0887"
             ],
             [
              0.1111111111111111,
              "#46039f"
             ],
             [
              0.2222222222222222,
              "#7201a8"
             ],
             [
              0.3333333333333333,
              "#9c179e"
             ],
             [
              0.4444444444444444,
              "#bd3786"
             ],
             [
              0.5555555555555556,
              "#d8576b"
             ],
             [
              0.6666666666666666,
              "#ed7953"
             ],
             [
              0.7777777777777778,
              "#fb9f3a"
             ],
             [
              0.8888888888888888,
              "#fdca26"
             ],
             [
              1,
              "#f0f921"
             ]
            ],
            "type": "heatmapgl"
           }
          ],
          "histogram": [
           {
            "marker": {
             "colorbar": {
              "outlinewidth": 0,
              "ticks": ""
             }
            },
            "type": "histogram"
           }
          ],
          "histogram2d": [
           {
            "colorbar": {
             "outlinewidth": 0,
             "ticks": ""
            },
            "colorscale": [
             [
              0,
              "#0d0887"
             ],
             [
              0.1111111111111111,
              "#46039f"
             ],
             [
              0.2222222222222222,
              "#7201a8"
             ],
             [
              0.3333333333333333,
              "#9c179e"
             ],
             [
              0.4444444444444444,
              "#bd3786"
             ],
             [
              0.5555555555555556,
              "#d8576b"
             ],
             [
              0.6666666666666666,
              "#ed7953"
             ],
             [
              0.7777777777777778,
              "#fb9f3a"
             ],
             [
              0.8888888888888888,
              "#fdca26"
             ],
             [
              1,
              "#f0f921"
             ]
            ],
            "type": "histogram2d"
           }
          ],
          "histogram2dcontour": [
           {
            "colorbar": {
             "outlinewidth": 0,
             "ticks": ""
            },
            "colorscale": [
             [
              0,
              "#0d0887"
             ],
             [
              0.1111111111111111,
              "#46039f"
             ],
             [
              0.2222222222222222,
              "#7201a8"
             ],
             [
              0.3333333333333333,
              "#9c179e"
             ],
             [
              0.4444444444444444,
              "#bd3786"
             ],
             [
              0.5555555555555556,
              "#d8576b"
             ],
             [
              0.6666666666666666,
              "#ed7953"
             ],
             [
              0.7777777777777778,
              "#fb9f3a"
             ],
             [
              0.8888888888888888,
              "#fdca26"
             ],
             [
              1,
              "#f0f921"
             ]
            ],
            "type": "histogram2dcontour"
           }
          ],
          "mesh3d": [
           {
            "colorbar": {
             "outlinewidth": 0,
             "ticks": ""
            },
            "type": "mesh3d"
           }
          ],
          "parcoords": [
           {
            "line": {
             "colorbar": {
              "outlinewidth": 0,
              "ticks": ""
             }
            },
            "type": "parcoords"
           }
          ],
          "pie": [
           {
            "automargin": true,
            "type": "pie"
           }
          ],
          "scatter": [
           {
            "marker": {
             "colorbar": {
              "outlinewidth": 0,
              "ticks": ""
             }
            },
            "type": "scatter"
           }
          ],
          "scatter3d": [
           {
            "line": {
             "colorbar": {
              "outlinewidth": 0,
              "ticks": ""
             }
            },
            "marker": {
             "colorbar": {
              "outlinewidth": 0,
              "ticks": ""
             }
            },
            "type": "scatter3d"
           }
          ],
          "scattercarpet": [
           {
            "marker": {
             "colorbar": {
              "outlinewidth": 0,
              "ticks": ""
             }
            },
            "type": "scattercarpet"
           }
          ],
          "scattergeo": [
           {
            "marker": {
             "colorbar": {
              "outlinewidth": 0,
              "ticks": ""
             }
            },
            "type": "scattergeo"
           }
          ],
          "scattergl": [
           {
            "marker": {
             "colorbar": {
              "outlinewidth": 0,
              "ticks": ""
             }
            },
            "type": "scattergl"
           }
          ],
          "scattermapbox": [
           {
            "marker": {
             "colorbar": {
              "outlinewidth": 0,
              "ticks": ""
             }
            },
            "type": "scattermapbox"
           }
          ],
          "scatterpolar": [
           {
            "marker": {
             "colorbar": {
              "outlinewidth": 0,
              "ticks": ""
             }
            },
            "type": "scatterpolar"
           }
          ],
          "scatterpolargl": [
           {
            "marker": {
             "colorbar": {
              "outlinewidth": 0,
              "ticks": ""
             }
            },
            "type": "scatterpolargl"
           }
          ],
          "scatterternary": [
           {
            "marker": {
             "colorbar": {
              "outlinewidth": 0,
              "ticks": ""
             }
            },
            "type": "scatterternary"
           }
          ],
          "surface": [
           {
            "colorbar": {
             "outlinewidth": 0,
             "ticks": ""
            },
            "colorscale": [
             [
              0,
              "#0d0887"
             ],
             [
              0.1111111111111111,
              "#46039f"
             ],
             [
              0.2222222222222222,
              "#7201a8"
             ],
             [
              0.3333333333333333,
              "#9c179e"
             ],
             [
              0.4444444444444444,
              "#bd3786"
             ],
             [
              0.5555555555555556,
              "#d8576b"
             ],
             [
              0.6666666666666666,
              "#ed7953"
             ],
             [
              0.7777777777777778,
              "#fb9f3a"
             ],
             [
              0.8888888888888888,
              "#fdca26"
             ],
             [
              1,
              "#f0f921"
             ]
            ],
            "type": "surface"
           }
          ],
          "table": [
           {
            "cells": {
             "fill": {
              "color": "#EBF0F8"
             },
             "line": {
              "color": "white"
             }
            },
            "header": {
             "fill": {
              "color": "#C8D4E3"
             },
             "line": {
              "color": "white"
             }
            },
            "type": "table"
           }
          ]
         },
         "layout": {
          "annotationdefaults": {
           "arrowcolor": "#2a3f5f",
           "arrowhead": 0,
           "arrowwidth": 1
          },
          "coloraxis": {
           "colorbar": {
            "outlinewidth": 0,
            "ticks": ""
           }
          },
          "colorscale": {
           "diverging": [
            [
             0,
             "#8e0152"
            ],
            [
             0.1,
             "#c51b7d"
            ],
            [
             0.2,
             "#de77ae"
            ],
            [
             0.3,
             "#f1b6da"
            ],
            [
             0.4,
             "#fde0ef"
            ],
            [
             0.5,
             "#f7f7f7"
            ],
            [
             0.6,
             "#e6f5d0"
            ],
            [
             0.7,
             "#b8e186"
            ],
            [
             0.8,
             "#7fbc41"
            ],
            [
             0.9,
             "#4d9221"
            ],
            [
             1,
             "#276419"
            ]
           ],
           "sequential": [
            [
             0,
             "#0d0887"
            ],
            [
             0.1111111111111111,
             "#46039f"
            ],
            [
             0.2222222222222222,
             "#7201a8"
            ],
            [
             0.3333333333333333,
             "#9c179e"
            ],
            [
             0.4444444444444444,
             "#bd3786"
            ],
            [
             0.5555555555555556,
             "#d8576b"
            ],
            [
             0.6666666666666666,
             "#ed7953"
            ],
            [
             0.7777777777777778,
             "#fb9f3a"
            ],
            [
             0.8888888888888888,
             "#fdca26"
            ],
            [
             1,
             "#f0f921"
            ]
           ],
           "sequentialminus": [
            [
             0,
             "#0d0887"
            ],
            [
             0.1111111111111111,
             "#46039f"
            ],
            [
             0.2222222222222222,
             "#7201a8"
            ],
            [
             0.3333333333333333,
             "#9c179e"
            ],
            [
             0.4444444444444444,
             "#bd3786"
            ],
            [
             0.5555555555555556,
             "#d8576b"
            ],
            [
             0.6666666666666666,
             "#ed7953"
            ],
            [
             0.7777777777777778,
             "#fb9f3a"
            ],
            [
             0.8888888888888888,
             "#fdca26"
            ],
            [
             1,
             "#f0f921"
            ]
           ]
          },
          "colorway": [
           "#636efa",
           "#EF553B",
           "#00cc96",
           "#ab63fa",
           "#FFA15A",
           "#19d3f3",
           "#FF6692",
           "#B6E880",
           "#FF97FF",
           "#FECB52"
          ],
          "font": {
           "color": "#2a3f5f"
          },
          "geo": {
           "bgcolor": "white",
           "lakecolor": "white",
           "landcolor": "#E5ECF6",
           "showlakes": true,
           "showland": true,
           "subunitcolor": "white"
          },
          "hoverlabel": {
           "align": "left"
          },
          "hovermode": "closest",
          "mapbox": {
           "style": "light"
          },
          "paper_bgcolor": "white",
          "plot_bgcolor": "#E5ECF6",
          "polar": {
           "angularaxis": {
            "gridcolor": "white",
            "linecolor": "white",
            "ticks": ""
           },
           "bgcolor": "#E5ECF6",
           "radialaxis": {
            "gridcolor": "white",
            "linecolor": "white",
            "ticks": ""
           }
          },
          "scene": {
           "xaxis": {
            "backgroundcolor": "#E5ECF6",
            "gridcolor": "white",
            "gridwidth": 2,
            "linecolor": "white",
            "showbackground": true,
            "ticks": "",
            "zerolinecolor": "white"
           },
           "yaxis": {
            "backgroundcolor": "#E5ECF6",
            "gridcolor": "white",
            "gridwidth": 2,
            "linecolor": "white",
            "showbackground": true,
            "ticks": "",
            "zerolinecolor": "white"
           },
           "zaxis": {
            "backgroundcolor": "#E5ECF6",
            "gridcolor": "white",
            "gridwidth": 2,
            "linecolor": "white",
            "showbackground": true,
            "ticks": "",
            "zerolinecolor": "white"
           }
          },
          "shapedefaults": {
           "line": {
            "color": "#2a3f5f"
           }
          },
          "ternary": {
           "aaxis": {
            "gridcolor": "white",
            "linecolor": "white",
            "ticks": ""
           },
           "baxis": {
            "gridcolor": "white",
            "linecolor": "white",
            "ticks": ""
           },
           "bgcolor": "#E5ECF6",
           "caxis": {
            "gridcolor": "white",
            "linecolor": "white",
            "ticks": ""
           }
          },
          "title": {
           "x": 0.05
          },
          "xaxis": {
           "automargin": true,
           "gridcolor": "white",
           "linecolor": "white",
           "ticks": "",
           "title": {
            "standoff": 15
           },
           "zerolinecolor": "white",
           "zerolinewidth": 2
          },
          "yaxis": {
           "automargin": true,
           "gridcolor": "white",
           "linecolor": "white",
           "ticks": "",
           "title": {
            "standoff": 15
           },
           "zerolinecolor": "white",
           "zerolinewidth": 2
          }
         }
        },
        "title": {
         "font": {
          "color": "#4D5663"
         }
        },
        "xaxis": {
         "gridcolor": "#E1E5ED",
         "showgrid": true,
         "tickfont": {
          "color": "#4D5663"
         },
         "title": {
          "font": {
           "color": "#4D5663"
          },
          "text": ""
         },
         "zerolinecolor": "#E1E5ED"
        },
        "yaxis": {
         "gridcolor": "#E1E5ED",
         "showgrid": true,
         "tickfont": {
          "color": "#4D5663"
         },
         "title": {
          "font": {
           "color": "#4D5663"
          },
          "text": ""
         },
         "zerolinecolor": "#E1E5ED"
        }
       }
      },
      "text/html": [
       "<div>\n",
       "        \n",
       "        \n",
       "            <div id=\"6054c536-dcbe-4121-92da-bbc09aca41f6\" class=\"plotly-graph-div\" style=\"height:525px; width:100%;\"></div>\n",
       "            <script type=\"text/javascript\">\n",
       "                require([\"plotly\"], function(Plotly) {\n",
       "                    window.PLOTLYENV=window.PLOTLYENV || {};\n",
       "                    window.PLOTLYENV.BASE_URL='https://plot.ly';\n",
       "                    \n",
       "                if (document.getElementById(\"6054c536-dcbe-4121-92da-bbc09aca41f6\")) {\n",
       "                    Plotly.newPlot(\n",
       "                        '6054c536-dcbe-4121-92da-bbc09aca41f6',\n",
       "                        [{\"marker\": {\"color\": \"rgba(255, 153, 51, 0.6)\", \"line\": {\"color\": \"rgba(255, 153, 51, 1.0)\", \"width\": 1}}, \"name\": \"Reaction Rate\", \"orientation\": \"h\", \"text\": \"\", \"type\": \"bar\", \"x\": [0.391, 0.552, 0.424, 0.385, 0.557, 0.452, 0.133, 0.414, 0.5720000000000001, 0.40700000000000003, 0.361, 0.425, 0.391, 0.462, 0.39799999999999996, 0.47200000000000003, 0.3545, 0.46, 0.535, 0.5429999999999999, 0.385, 0.446, 0.532, 0.45299999999999996, 0.385, 0.341, 0.39399999999999996, 0.406, 0.336, 0.36, 0.423, 0.6990000000000001, 0.44299999999999995, 0.518, 0.40399999999999997], \"y\": [\"(1,Dark Uncle,3)\", \"(1,Fish In A Barrel,1)\", \"(1,Pilot,1)\", \"(1,Que Viene El Coco,4)\", \"(1,Roanoke,2)\", \"(1,Texas Proud,3)\", \"(1,Yee Haw,2)\", \"(2,Act Of God,4)\", \"(2,Brother's Keeper,3)\", \"(2,Bum Steer,7)\", \"(2,Chapter Four: Here Comes The Sun,4)\", \"(2,Chapter Three: What Becomes Of The Broken Hearted,3)\", \"(2,Chapter Two: You Can't Hurry Love,2)\", \"(2,Foxhead,8)\", \"(2,Friends Like These,6)\", \"(2,In The Pines, In The Pines,7)\", \"(2,Pilot,1)\", \"(2,Promises,2)\", \"(2,Studs,5)\", \"(2,Tear Drinker,5)\", \"(2,The One About The Yiddish Vampire,6)\", \"(2,Zoey's Extraordinary Best Friend,2)\", \"(2,Zoey's Extraordinary Boss,3)\", \"(3,Awakening; Austin, We Have A Problem,9)\", \"(3,Chapter Five: Song For A Winter's Night,5)\", \"(3,Chapter Seven: Kiss Of The Spider Woman,7)\", \"(3,Chapter Six: Mama Said,6)\", \"(3,Marie,4)\", \"(3,Monster Inside,8)\", \"(3,Must/Can't,10)\", \"(3,Tigers And Bears,9)\", \"(3,Witness,5)\", \"(3,Zoey's Extraordinary Failure,5)\", \"(3,Zoey's Extraordinary Neighbor,4)\", \"(3,Zoey's Extraordinary Night Out,6)\"]}, {\"marker\": {\"color\": \"rgba(55, 128, 191, 0.6)\", \"line\": {\"color\": \"rgba(55, 128, 191, 1.0)\", \"width\": 1}}, \"name\": \"Emotional Reactions\", \"orientation\": \"h\", \"text\": \"\", \"type\": \"bar\", \"x\": [575.0, 1997.0, 4211.0, 304.0, 1964.0, 1166.0, 1928.0, 1151.0, 1315.0, 1288.0, 1233.0, 1239.0, 1628.0, 648.0, 1113.0, 380.0, 3130.5, 1340.0, 1678.0, 244.0, 2461.0, 1778.0, 1199.0, 4017.0, 1142.0, 714.0, 1018.0, 569.0, 1918.0, 930.0, 501.0, 1644.0, 856.0, 1129.0, 1093.0], \"y\": [\"(1,Dark Uncle,3)\", \"(1,Fish In A Barrel,1)\", \"(1,Pilot,1)\", \"(1,Que Viene El Coco,4)\", \"(1,Roanoke,2)\", \"(1,Texas Proud,3)\", \"(1,Yee Haw,2)\", \"(2,Act Of God,4)\", \"(2,Brother's Keeper,3)\", \"(2,Bum Steer,7)\", \"(2,Chapter Four: Here Comes The Sun,4)\", \"(2,Chapter Three: What Becomes Of The Broken Hearted,3)\", \"(2,Chapter Two: You Can't Hurry Love,2)\", \"(2,Foxhead,8)\", \"(2,Friends Like These,6)\", \"(2,In The Pines, In The Pines,7)\", \"(2,Pilot,1)\", \"(2,Promises,2)\", \"(2,Studs,5)\", \"(2,Tear Drinker,5)\", \"(2,The One About The Yiddish Vampire,6)\", \"(2,Zoey's Extraordinary Best Friend,2)\", \"(2,Zoey's Extraordinary Boss,3)\", \"(3,Awakening; Austin, We Have A Problem,9)\", \"(3,Chapter Five: Song For A Winter's Night,5)\", \"(3,Chapter Seven: Kiss Of The Spider Woman,7)\", \"(3,Chapter Six: Mama Said,6)\", \"(3,Marie,4)\", \"(3,Monster Inside,8)\", \"(3,Must/Can't,10)\", \"(3,Tigers And Bears,9)\", \"(3,Witness,5)\", \"(3,Zoey's Extraordinary Failure,5)\", \"(3,Zoey's Extraordinary Neighbor,4)\", \"(3,Zoey's Extraordinary Night Out,6)\"]}],\n",
       "                        {\"legend\": {\"bgcolor\": \"#F5F6F9\", \"font\": {\"color\": \"#4D5663\"}}, \"paper_bgcolor\": \"#F5F6F9\", \"plot_bgcolor\": \"#F5F6F9\", \"template\": {\"data\": {\"bar\": [{\"error_x\": {\"color\": \"#2a3f5f\"}, \"error_y\": {\"color\": \"#2a3f5f\"}, \"marker\": {\"line\": {\"color\": \"#E5ECF6\", \"width\": 0.5}}, \"type\": \"bar\"}], \"barpolar\": [{\"marker\": {\"line\": {\"color\": \"#E5ECF6\", \"width\": 0.5}}, \"type\": \"barpolar\"}], \"carpet\": [{\"aaxis\": {\"endlinecolor\": \"#2a3f5f\", \"gridcolor\": \"white\", \"linecolor\": \"white\", \"minorgridcolor\": \"white\", \"startlinecolor\": \"#2a3f5f\"}, \"baxis\": {\"endlinecolor\": \"#2a3f5f\", \"gridcolor\": \"white\", \"linecolor\": \"white\", \"minorgridcolor\": \"white\", \"startlinecolor\": \"#2a3f5f\"}, \"type\": \"carpet\"}], \"choropleth\": [{\"colorbar\": {\"outlinewidth\": 0, \"ticks\": \"\"}, \"type\": \"choropleth\"}], \"contour\": [{\"colorbar\": {\"outlinewidth\": 0, \"ticks\": \"\"}, \"colorscale\": [[0.0, \"#0d0887\"], [0.1111111111111111, \"#46039f\"], [0.2222222222222222, \"#7201a8\"], [0.3333333333333333, \"#9c179e\"], [0.4444444444444444, \"#bd3786\"], [0.5555555555555556, \"#d8576b\"], [0.6666666666666666, \"#ed7953\"], [0.7777777777777778, \"#fb9f3a\"], [0.8888888888888888, \"#fdca26\"], [1.0, \"#f0f921\"]], \"type\": \"contour\"}], \"contourcarpet\": [{\"colorbar\": {\"outlinewidth\": 0, \"ticks\": \"\"}, \"type\": \"contourcarpet\"}], \"heatmap\": [{\"colorbar\": {\"outlinewidth\": 0, \"ticks\": \"\"}, \"colorscale\": [[0.0, \"#0d0887\"], [0.1111111111111111, \"#46039f\"], [0.2222222222222222, \"#7201a8\"], [0.3333333333333333, \"#9c179e\"], [0.4444444444444444, \"#bd3786\"], [0.5555555555555556, \"#d8576b\"], [0.6666666666666666, \"#ed7953\"], [0.7777777777777778, \"#fb9f3a\"], [0.8888888888888888, \"#fdca26\"], [1.0, \"#f0f921\"]], \"type\": \"heatmap\"}], \"heatmapgl\": [{\"colorbar\": {\"outlinewidth\": 0, \"ticks\": \"\"}, \"colorscale\": [[0.0, \"#0d0887\"], [0.1111111111111111, \"#46039f\"], [0.2222222222222222, \"#7201a8\"], [0.3333333333333333, \"#9c179e\"], [0.4444444444444444, \"#bd3786\"], [0.5555555555555556, \"#d8576b\"], [0.6666666666666666, \"#ed7953\"], [0.7777777777777778, \"#fb9f3a\"], [0.8888888888888888, \"#fdca26\"], [1.0, \"#f0f921\"]], \"type\": \"heatmapgl\"}], \"histogram\": [{\"marker\": {\"colorbar\": {\"outlinewidth\": 0, \"ticks\": \"\"}}, \"type\": \"histogram\"}], \"histogram2d\": [{\"colorbar\": {\"outlinewidth\": 0, \"ticks\": \"\"}, \"colorscale\": [[0.0, \"#0d0887\"], [0.1111111111111111, \"#46039f\"], [0.2222222222222222, \"#7201a8\"], [0.3333333333333333, \"#9c179e\"], [0.4444444444444444, \"#bd3786\"], [0.5555555555555556, \"#d8576b\"], [0.6666666666666666, \"#ed7953\"], [0.7777777777777778, \"#fb9f3a\"], [0.8888888888888888, \"#fdca26\"], [1.0, \"#f0f921\"]], \"type\": \"histogram2d\"}], \"histogram2dcontour\": [{\"colorbar\": {\"outlinewidth\": 0, \"ticks\": \"\"}, \"colorscale\": [[0.0, \"#0d0887\"], [0.1111111111111111, \"#46039f\"], [0.2222222222222222, \"#7201a8\"], [0.3333333333333333, \"#9c179e\"], [0.4444444444444444, \"#bd3786\"], [0.5555555555555556, \"#d8576b\"], [0.6666666666666666, \"#ed7953\"], [0.7777777777777778, \"#fb9f3a\"], [0.8888888888888888, \"#fdca26\"], [1.0, \"#f0f921\"]], \"type\": \"histogram2dcontour\"}], \"mesh3d\": [{\"colorbar\": {\"outlinewidth\": 0, \"ticks\": \"\"}, \"type\": \"mesh3d\"}], \"parcoords\": [{\"line\": {\"colorbar\": {\"outlinewidth\": 0, \"ticks\": \"\"}}, \"type\": \"parcoords\"}], \"pie\": [{\"automargin\": true, \"type\": \"pie\"}], \"scatter\": [{\"marker\": {\"colorbar\": {\"outlinewidth\": 0, \"ticks\": \"\"}}, \"type\": \"scatter\"}], \"scatter3d\": [{\"line\": {\"colorbar\": {\"outlinewidth\": 0, \"ticks\": \"\"}}, \"marker\": {\"colorbar\": {\"outlinewidth\": 0, \"ticks\": \"\"}}, \"type\": \"scatter3d\"}], \"scattercarpet\": [{\"marker\": {\"colorbar\": {\"outlinewidth\": 0, \"ticks\": \"\"}}, \"type\": \"scattercarpet\"}], \"scattergeo\": [{\"marker\": {\"colorbar\": {\"outlinewidth\": 0, \"ticks\": \"\"}}, \"type\": \"scattergeo\"}], \"scattergl\": [{\"marker\": {\"colorbar\": {\"outlinewidth\": 0, \"ticks\": \"\"}}, \"type\": \"scattergl\"}], \"scattermapbox\": [{\"marker\": {\"colorbar\": {\"outlinewidth\": 0, \"ticks\": \"\"}}, \"type\": \"scattermapbox\"}], \"scatterpolar\": [{\"marker\": {\"colorbar\": {\"outlinewidth\": 0, \"ticks\": \"\"}}, \"type\": \"scatterpolar\"}], \"scatterpolargl\": [{\"marker\": {\"colorbar\": {\"outlinewidth\": 0, \"ticks\": \"\"}}, \"type\": \"scatterpolargl\"}], \"scatterternary\": [{\"marker\": {\"colorbar\": {\"outlinewidth\": 0, \"ticks\": \"\"}}, \"type\": \"scatterternary\"}], \"surface\": [{\"colorbar\": {\"outlinewidth\": 0, \"ticks\": \"\"}, \"colorscale\": [[0.0, \"#0d0887\"], [0.1111111111111111, \"#46039f\"], [0.2222222222222222, \"#7201a8\"], [0.3333333333333333, \"#9c179e\"], [0.4444444444444444, \"#bd3786\"], [0.5555555555555556, \"#d8576b\"], [0.6666666666666666, \"#ed7953\"], [0.7777777777777778, \"#fb9f3a\"], [0.8888888888888888, \"#fdca26\"], [1.0, \"#f0f921\"]], \"type\": \"surface\"}], \"table\": [{\"cells\": {\"fill\": {\"color\": \"#EBF0F8\"}, \"line\": {\"color\": \"white\"}}, \"header\": {\"fill\": {\"color\": \"#C8D4E3\"}, \"line\": {\"color\": \"white\"}}, \"type\": \"table\"}]}, \"layout\": {\"annotationdefaults\": {\"arrowcolor\": \"#2a3f5f\", \"arrowhead\": 0, \"arrowwidth\": 1}, \"coloraxis\": {\"colorbar\": {\"outlinewidth\": 0, \"ticks\": \"\"}}, \"colorscale\": {\"diverging\": [[0, \"#8e0152\"], [0.1, \"#c51b7d\"], [0.2, \"#de77ae\"], [0.3, \"#f1b6da\"], [0.4, \"#fde0ef\"], [0.5, \"#f7f7f7\"], [0.6, \"#e6f5d0\"], [0.7, \"#b8e186\"], [0.8, \"#7fbc41\"], [0.9, \"#4d9221\"], [1, \"#276419\"]], \"sequential\": [[0.0, \"#0d0887\"], [0.1111111111111111, \"#46039f\"], [0.2222222222222222, \"#7201a8\"], [0.3333333333333333, \"#9c179e\"], [0.4444444444444444, \"#bd3786\"], [0.5555555555555556, \"#d8576b\"], [0.6666666666666666, \"#ed7953\"], [0.7777777777777778, \"#fb9f3a\"], [0.8888888888888888, \"#fdca26\"], [1.0, \"#f0f921\"]], \"sequentialminus\": [[0.0, \"#0d0887\"], [0.1111111111111111, \"#46039f\"], [0.2222222222222222, \"#7201a8\"], [0.3333333333333333, \"#9c179e\"], [0.4444444444444444, \"#bd3786\"], [0.5555555555555556, \"#d8576b\"], [0.6666666666666666, \"#ed7953\"], [0.7777777777777778, \"#fb9f3a\"], [0.8888888888888888, \"#fdca26\"], [1.0, \"#f0f921\"]]}, \"colorway\": [\"#636efa\", \"#EF553B\", \"#00cc96\", \"#ab63fa\", \"#FFA15A\", \"#19d3f3\", \"#FF6692\", \"#B6E880\", \"#FF97FF\", \"#FECB52\"], \"font\": {\"color\": \"#2a3f5f\"}, \"geo\": {\"bgcolor\": \"white\", \"lakecolor\": \"white\", \"landcolor\": \"#E5ECF6\", \"showlakes\": true, \"showland\": true, \"subunitcolor\": \"white\"}, \"hoverlabel\": {\"align\": \"left\"}, \"hovermode\": \"closest\", \"mapbox\": {\"style\": \"light\"}, \"paper_bgcolor\": \"white\", \"plot_bgcolor\": \"#E5ECF6\", \"polar\": {\"angularaxis\": {\"gridcolor\": \"white\", \"linecolor\": \"white\", \"ticks\": \"\"}, \"bgcolor\": \"#E5ECF6\", \"radialaxis\": {\"gridcolor\": \"white\", \"linecolor\": \"white\", \"ticks\": \"\"}}, \"scene\": {\"xaxis\": {\"backgroundcolor\": \"#E5ECF6\", \"gridcolor\": \"white\", \"gridwidth\": 2, \"linecolor\": \"white\", \"showbackground\": true, \"ticks\": \"\", \"zerolinecolor\": \"white\"}, \"yaxis\": {\"backgroundcolor\": \"#E5ECF6\", \"gridcolor\": \"white\", \"gridwidth\": 2, \"linecolor\": \"white\", \"showbackground\": true, \"ticks\": \"\", \"zerolinecolor\": \"white\"}, \"zaxis\": {\"backgroundcolor\": \"#E5ECF6\", \"gridcolor\": \"white\", \"gridwidth\": 2, \"linecolor\": \"white\", \"showbackground\": true, \"ticks\": \"\", \"zerolinecolor\": \"white\"}}, \"shapedefaults\": {\"line\": {\"color\": \"#2a3f5f\"}}, \"ternary\": {\"aaxis\": {\"gridcolor\": \"white\", \"linecolor\": \"white\", \"ticks\": \"\"}, \"baxis\": {\"gridcolor\": \"white\", \"linecolor\": \"white\", \"ticks\": \"\"}, \"bgcolor\": \"#E5ECF6\", \"caxis\": {\"gridcolor\": \"white\", \"linecolor\": \"white\", \"ticks\": \"\"}}, \"title\": {\"x\": 0.05}, \"xaxis\": {\"automargin\": true, \"gridcolor\": \"white\", \"linecolor\": \"white\", \"ticks\": \"\", \"title\": {\"standoff\": 15}, \"zerolinecolor\": \"white\", \"zerolinewidth\": 2}, \"yaxis\": {\"automargin\": true, \"gridcolor\": \"white\", \"linecolor\": \"white\", \"ticks\": \"\", \"title\": {\"standoff\": 15}, \"zerolinecolor\": \"white\", \"zerolinewidth\": 2}}}, \"title\": {\"font\": {\"color\": \"#4D5663\"}}, \"xaxis\": {\"gridcolor\": \"#E1E5ED\", \"showgrid\": true, \"tickfont\": {\"color\": \"#4D5663\"}, \"title\": {\"font\": {\"color\": \"#4D5663\"}, \"text\": \"\"}, \"zerolinecolor\": \"#E1E5ED\"}, \"yaxis\": {\"gridcolor\": \"#E1E5ED\", \"showgrid\": true, \"tickfont\": {\"color\": \"#4D5663\"}, \"title\": {\"font\": {\"color\": \"#4D5663\"}, \"text\": \"\"}, \"zerolinecolor\": \"#E1E5ED\"}},\n",
       "                        {\"showLink\": true, \"linkText\": \"Export to plot.ly\", \"plotlyServerURL\": \"https://plot.ly\", \"responsive\": true}\n",
       "                    ).then(function(){\n",
       "                            \n",
       "var gd = document.getElementById('6054c536-dcbe-4121-92da-bbc09aca41f6');\n",
       "var x = new MutationObserver(function (mutations, observer) {{\n",
       "        var display = window.getComputedStyle(gd).display;\n",
       "        if (!display || display === 'none') {{\n",
       "            console.log([gd, 'removed!']);\n",
       "            Plotly.purge(gd);\n",
       "            observer.disconnect();\n",
       "        }}\n",
       "}});\n",
       "\n",
       "// Listen for the removal of the full notebook cells\n",
       "var notebookContainer = gd.closest('#notebook-container');\n",
       "if (notebookContainer) {{\n",
       "    x.observe(notebookContainer, {childList: true});\n",
       "}}\n",
       "\n",
       "// Listen for the clearing of the current output cell\n",
       "var outputEl = gd.closest('.output');\n",
       "if (outputEl) {{\n",
       "    x.observe(outputEl, {childList: true});\n",
       "}}\n",
       "\n",
       "                        })\n",
       "                };\n",
       "                });\n",
       "            </script>\n",
       "        </div>"
      ]
     },
     "metadata": {},
     "output_type": "display_data"
    }
   ],
   "source": [
    "t5t_2mean[['Reaction Rate','Emotional Reactions']].iplot(kind='barh')"
   ]
  },
  {
   "cell_type": "code",
   "execution_count": 99,
   "metadata": {},
   "outputs": [
    {
     "data": {
      "application/vnd.plotly.v1+json": {
       "config": {
        "linkText": "Export to plot.ly",
        "plotlyServerURL": "https://plot.ly",
        "showLink": true
       },
       "data": [
        {
         "marker": {
          "color": "rgba(255, 153, 51, 0.6)",
          "line": {
           "color": "rgba(255, 153, 51, 1.0)",
           "width": 1
          }
         },
         "name": "Emotional Reactions",
         "orientation": "h",
         "text": "",
         "type": "bar",
         "x": [
          7001,
          1928,
          1166,
          1151,
          1678,
          1113,
          1288,
          1918,
          4017,
          1997,
          1964,
          575,
          304,
          244,
          2461,
          380,
          648,
          501,
          930,
          2859,
          1628,
          1239,
          1233,
          1142,
          1018,
          714,
          1421,
          1778,
          1199,
          1129,
          856,
          1093,
          3402,
          1340,
          1315,
          569,
          1644
         ],
         "y": [
          "(2020-01-19 00:00:00,FOX,9-1-1 Lone Star)",
          "(2020-01-20 00:00:00,FOX,9-1-1 Lone Star)",
          "(2020-01-27 00:00:00,FOX,9-1-1 Lone Star)",
          "(2020-02-03 00:00:00,FOX,9-1-1 Lone Star)",
          "(2020-02-10 00:00:00,FOX,9-1-1 Lone Star)",
          "(2020-02-17 00:00:00,FOX,9-1-1 Lone Star)",
          "(2020-02-24 00:00:00,FOX,9-1-1 Lone Star)",
          "(2020-03-02 00:00:00,FOX,9-1-1 Lone Star)",
          "(2020-03-09 00:00:00,FOX,9-1-1 Lone Star)",
          "(2020-01-12 00:00:00,HBO,The Outsider)",
          "(2020-01-12 00:00:00,HBO,The Outsider)",
          "(2020-01-19 00:00:00,HBO,The Outsider)",
          "(2020-01-26 00:00:00,HBO,The Outsider)",
          "(2020-02-02 00:00:00,HBO,The Outsider)",
          "(2020-02-09 00:00:00,HBO,The Outsider)",
          "(2020-02-16 00:00:00,HBO,The Outsider)",
          "(2020-02-23 00:00:00,HBO,The Outsider)",
          "(2020-03-01 00:00:00,HBO,The Outsider)",
          "(2020-03-08 00:00:00,HBO,The Outsider)",
          "(2020-02-06 00:00:00,CW,Katy Keene)",
          "(2020-02-13 00:00:00,CW,Katy Keene)",
          "(2020-02-20 00:00:00,CW,Katy Keene)",
          "(2020-02-27 00:00:00,CW,Katy Keene)",
          "(2020-03-05 00:00:00,CW,Katy Keene)",
          "(2020-03-12 00:00:00,CW,Katy Keene)",
          "(2020-03-19 00:00:00,CW,Katy Keene)",
          "(2020-01-07 00:00:00,NBC,Zoey's Extraordinary Playlist)",
          "(2020-02-16 00:00:00,NBC,Zoey's Extraordinary Playlist)",
          "(2020-02-23 00:00:00,NBC,Zoey's Extraordinary Playlist)",
          "(2020-03-01 00:00:00,NBC,Zoey's Extraordinary Playlist)",
          "(2020-03-08 00:00:00,NBC,Zoey's Extraordinary Playlist)",
          "(2020-03-15 00:00:00,NBC,Zoey's Extraordinary Playlist)",
          "(2020-02-11 00:00:00,ABC,For Life)",
          "(2020-02-18 00:00:00,ABC,For Life)",
          "(2020-02-25 00:00:00,ABC,For Life)",
          "(2020-03-10 00:00:00,ABC,For Life)",
          "(2020-03-17 00:00:00,ABC,For Life)"
         ]
        }
       ],
       "layout": {
        "legend": {
         "bgcolor": "#F5F6F9",
         "font": {
          "color": "#4D5663"
         }
        },
        "paper_bgcolor": "#F5F6F9",
        "plot_bgcolor": "#F5F6F9",
        "template": {
         "data": {
          "bar": [
           {
            "error_x": {
             "color": "#2a3f5f"
            },
            "error_y": {
             "color": "#2a3f5f"
            },
            "marker": {
             "line": {
              "color": "#E5ECF6",
              "width": 0.5
             }
            },
            "type": "bar"
           }
          ],
          "barpolar": [
           {
            "marker": {
             "line": {
              "color": "#E5ECF6",
              "width": 0.5
             }
            },
            "type": "barpolar"
           }
          ],
          "carpet": [
           {
            "aaxis": {
             "endlinecolor": "#2a3f5f",
             "gridcolor": "white",
             "linecolor": "white",
             "minorgridcolor": "white",
             "startlinecolor": "#2a3f5f"
            },
            "baxis": {
             "endlinecolor": "#2a3f5f",
             "gridcolor": "white",
             "linecolor": "white",
             "minorgridcolor": "white",
             "startlinecolor": "#2a3f5f"
            },
            "type": "carpet"
           }
          ],
          "choropleth": [
           {
            "colorbar": {
             "outlinewidth": 0,
             "ticks": ""
            },
            "type": "choropleth"
           }
          ],
          "contour": [
           {
            "colorbar": {
             "outlinewidth": 0,
             "ticks": ""
            },
            "colorscale": [
             [
              0,
              "#0d0887"
             ],
             [
              0.1111111111111111,
              "#46039f"
             ],
             [
              0.2222222222222222,
              "#7201a8"
             ],
             [
              0.3333333333333333,
              "#9c179e"
             ],
             [
              0.4444444444444444,
              "#bd3786"
             ],
             [
              0.5555555555555556,
              "#d8576b"
             ],
             [
              0.6666666666666666,
              "#ed7953"
             ],
             [
              0.7777777777777778,
              "#fb9f3a"
             ],
             [
              0.8888888888888888,
              "#fdca26"
             ],
             [
              1,
              "#f0f921"
             ]
            ],
            "type": "contour"
           }
          ],
          "contourcarpet": [
           {
            "colorbar": {
             "outlinewidth": 0,
             "ticks": ""
            },
            "type": "contourcarpet"
           }
          ],
          "heatmap": [
           {
            "colorbar": {
             "outlinewidth": 0,
             "ticks": ""
            },
            "colorscale": [
             [
              0,
              "#0d0887"
             ],
             [
              0.1111111111111111,
              "#46039f"
             ],
             [
              0.2222222222222222,
              "#7201a8"
             ],
             [
              0.3333333333333333,
              "#9c179e"
             ],
             [
              0.4444444444444444,
              "#bd3786"
             ],
             [
              0.5555555555555556,
              "#d8576b"
             ],
             [
              0.6666666666666666,
              "#ed7953"
             ],
             [
              0.7777777777777778,
              "#fb9f3a"
             ],
             [
              0.8888888888888888,
              "#fdca26"
             ],
             [
              1,
              "#f0f921"
             ]
            ],
            "type": "heatmap"
           }
          ],
          "heatmapgl": [
           {
            "colorbar": {
             "outlinewidth": 0,
             "ticks": ""
            },
            "colorscale": [
             [
              0,
              "#0d0887"
             ],
             [
              0.1111111111111111,
              "#46039f"
             ],
             [
              0.2222222222222222,
              "#7201a8"
             ],
             [
              0.3333333333333333,
              "#9c179e"
             ],
             [
              0.4444444444444444,
              "#bd3786"
             ],
             [
              0.5555555555555556,
              "#d8576b"
             ],
             [
              0.6666666666666666,
              "#ed7953"
             ],
             [
              0.7777777777777778,
              "#fb9f3a"
             ],
             [
              0.8888888888888888,
              "#fdca26"
             ],
             [
              1,
              "#f0f921"
             ]
            ],
            "type": "heatmapgl"
           }
          ],
          "histogram": [
           {
            "marker": {
             "colorbar": {
              "outlinewidth": 0,
              "ticks": ""
             }
            },
            "type": "histogram"
           }
          ],
          "histogram2d": [
           {
            "colorbar": {
             "outlinewidth": 0,
             "ticks": ""
            },
            "colorscale": [
             [
              0,
              "#0d0887"
             ],
             [
              0.1111111111111111,
              "#46039f"
             ],
             [
              0.2222222222222222,
              "#7201a8"
             ],
             [
              0.3333333333333333,
              "#9c179e"
             ],
             [
              0.4444444444444444,
              "#bd3786"
             ],
             [
              0.5555555555555556,
              "#d8576b"
             ],
             [
              0.6666666666666666,
              "#ed7953"
             ],
             [
              0.7777777777777778,
              "#fb9f3a"
             ],
             [
              0.8888888888888888,
              "#fdca26"
             ],
             [
              1,
              "#f0f921"
             ]
            ],
            "type": "histogram2d"
           }
          ],
          "histogram2dcontour": [
           {
            "colorbar": {
             "outlinewidth": 0,
             "ticks": ""
            },
            "colorscale": [
             [
              0,
              "#0d0887"
             ],
             [
              0.1111111111111111,
              "#46039f"
             ],
             [
              0.2222222222222222,
              "#7201a8"
             ],
             [
              0.3333333333333333,
              "#9c179e"
             ],
             [
              0.4444444444444444,
              "#bd3786"
             ],
             [
              0.5555555555555556,
              "#d8576b"
             ],
             [
              0.6666666666666666,
              "#ed7953"
             ],
             [
              0.7777777777777778,
              "#fb9f3a"
             ],
             [
              0.8888888888888888,
              "#fdca26"
             ],
             [
              1,
              "#f0f921"
             ]
            ],
            "type": "histogram2dcontour"
           }
          ],
          "mesh3d": [
           {
            "colorbar": {
             "outlinewidth": 0,
             "ticks": ""
            },
            "type": "mesh3d"
           }
          ],
          "parcoords": [
           {
            "line": {
             "colorbar": {
              "outlinewidth": 0,
              "ticks": ""
             }
            },
            "type": "parcoords"
           }
          ],
          "pie": [
           {
            "automargin": true,
            "type": "pie"
           }
          ],
          "scatter": [
           {
            "marker": {
             "colorbar": {
              "outlinewidth": 0,
              "ticks": ""
             }
            },
            "type": "scatter"
           }
          ],
          "scatter3d": [
           {
            "line": {
             "colorbar": {
              "outlinewidth": 0,
              "ticks": ""
             }
            },
            "marker": {
             "colorbar": {
              "outlinewidth": 0,
              "ticks": ""
             }
            },
            "type": "scatter3d"
           }
          ],
          "scattercarpet": [
           {
            "marker": {
             "colorbar": {
              "outlinewidth": 0,
              "ticks": ""
             }
            },
            "type": "scattercarpet"
           }
          ],
          "scattergeo": [
           {
            "marker": {
             "colorbar": {
              "outlinewidth": 0,
              "ticks": ""
             }
            },
            "type": "scattergeo"
           }
          ],
          "scattergl": [
           {
            "marker": {
             "colorbar": {
              "outlinewidth": 0,
              "ticks": ""
             }
            },
            "type": "scattergl"
           }
          ],
          "scattermapbox": [
           {
            "marker": {
             "colorbar": {
              "outlinewidth": 0,
              "ticks": ""
             }
            },
            "type": "scattermapbox"
           }
          ],
          "scatterpolar": [
           {
            "marker": {
             "colorbar": {
              "outlinewidth": 0,
              "ticks": ""
             }
            },
            "type": "scatterpolar"
           }
          ],
          "scatterpolargl": [
           {
            "marker": {
             "colorbar": {
              "outlinewidth": 0,
              "ticks": ""
             }
            },
            "type": "scatterpolargl"
           }
          ],
          "scatterternary": [
           {
            "marker": {
             "colorbar": {
              "outlinewidth": 0,
              "ticks": ""
             }
            },
            "type": "scatterternary"
           }
          ],
          "surface": [
           {
            "colorbar": {
             "outlinewidth": 0,
             "ticks": ""
            },
            "colorscale": [
             [
              0,
              "#0d0887"
             ],
             [
              0.1111111111111111,
              "#46039f"
             ],
             [
              0.2222222222222222,
              "#7201a8"
             ],
             [
              0.3333333333333333,
              "#9c179e"
             ],
             [
              0.4444444444444444,
              "#bd3786"
             ],
             [
              0.5555555555555556,
              "#d8576b"
             ],
             [
              0.6666666666666666,
              "#ed7953"
             ],
             [
              0.7777777777777778,
              "#fb9f3a"
             ],
             [
              0.8888888888888888,
              "#fdca26"
             ],
             [
              1,
              "#f0f921"
             ]
            ],
            "type": "surface"
           }
          ],
          "table": [
           {
            "cells": {
             "fill": {
              "color": "#EBF0F8"
             },
             "line": {
              "color": "white"
             }
            },
            "header": {
             "fill": {
              "color": "#C8D4E3"
             },
             "line": {
              "color": "white"
             }
            },
            "type": "table"
           }
          ]
         },
         "layout": {
          "annotationdefaults": {
           "arrowcolor": "#2a3f5f",
           "arrowhead": 0,
           "arrowwidth": 1
          },
          "coloraxis": {
           "colorbar": {
            "outlinewidth": 0,
            "ticks": ""
           }
          },
          "colorscale": {
           "diverging": [
            [
             0,
             "#8e0152"
            ],
            [
             0.1,
             "#c51b7d"
            ],
            [
             0.2,
             "#de77ae"
            ],
            [
             0.3,
             "#f1b6da"
            ],
            [
             0.4,
             "#fde0ef"
            ],
            [
             0.5,
             "#f7f7f7"
            ],
            [
             0.6,
             "#e6f5d0"
            ],
            [
             0.7,
             "#b8e186"
            ],
            [
             0.8,
             "#7fbc41"
            ],
            [
             0.9,
             "#4d9221"
            ],
            [
             1,
             "#276419"
            ]
           ],
           "sequential": [
            [
             0,
             "#0d0887"
            ],
            [
             0.1111111111111111,
             "#46039f"
            ],
            [
             0.2222222222222222,
             "#7201a8"
            ],
            [
             0.3333333333333333,
             "#9c179e"
            ],
            [
             0.4444444444444444,
             "#bd3786"
            ],
            [
             0.5555555555555556,
             "#d8576b"
            ],
            [
             0.6666666666666666,
             "#ed7953"
            ],
            [
             0.7777777777777778,
             "#fb9f3a"
            ],
            [
             0.8888888888888888,
             "#fdca26"
            ],
            [
             1,
             "#f0f921"
            ]
           ],
           "sequentialminus": [
            [
             0,
             "#0d0887"
            ],
            [
             0.1111111111111111,
             "#46039f"
            ],
            [
             0.2222222222222222,
             "#7201a8"
            ],
            [
             0.3333333333333333,
             "#9c179e"
            ],
            [
             0.4444444444444444,
             "#bd3786"
            ],
            [
             0.5555555555555556,
             "#d8576b"
            ],
            [
             0.6666666666666666,
             "#ed7953"
            ],
            [
             0.7777777777777778,
             "#fb9f3a"
            ],
            [
             0.8888888888888888,
             "#fdca26"
            ],
            [
             1,
             "#f0f921"
            ]
           ]
          },
          "colorway": [
           "#636efa",
           "#EF553B",
           "#00cc96",
           "#ab63fa",
           "#FFA15A",
           "#19d3f3",
           "#FF6692",
           "#B6E880",
           "#FF97FF",
           "#FECB52"
          ],
          "font": {
           "color": "#2a3f5f"
          },
          "geo": {
           "bgcolor": "white",
           "lakecolor": "white",
           "landcolor": "#E5ECF6",
           "showlakes": true,
           "showland": true,
           "subunitcolor": "white"
          },
          "hoverlabel": {
           "align": "left"
          },
          "hovermode": "closest",
          "mapbox": {
           "style": "light"
          },
          "paper_bgcolor": "white",
          "plot_bgcolor": "#E5ECF6",
          "polar": {
           "angularaxis": {
            "gridcolor": "white",
            "linecolor": "white",
            "ticks": ""
           },
           "bgcolor": "#E5ECF6",
           "radialaxis": {
            "gridcolor": "white",
            "linecolor": "white",
            "ticks": ""
           }
          },
          "scene": {
           "xaxis": {
            "backgroundcolor": "#E5ECF6",
            "gridcolor": "white",
            "gridwidth": 2,
            "linecolor": "white",
            "showbackground": true,
            "ticks": "",
            "zerolinecolor": "white"
           },
           "yaxis": {
            "backgroundcolor": "#E5ECF6",
            "gridcolor": "white",
            "gridwidth": 2,
            "linecolor": "white",
            "showbackground": true,
            "ticks": "",
            "zerolinecolor": "white"
           },
           "zaxis": {
            "backgroundcolor": "#E5ECF6",
            "gridcolor": "white",
            "gridwidth": 2,
            "linecolor": "white",
            "showbackground": true,
            "ticks": "",
            "zerolinecolor": "white"
           }
          },
          "shapedefaults": {
           "line": {
            "color": "#2a3f5f"
           }
          },
          "ternary": {
           "aaxis": {
            "gridcolor": "white",
            "linecolor": "white",
            "ticks": ""
           },
           "baxis": {
            "gridcolor": "white",
            "linecolor": "white",
            "ticks": ""
           },
           "bgcolor": "#E5ECF6",
           "caxis": {
            "gridcolor": "white",
            "linecolor": "white",
            "ticks": ""
           }
          },
          "title": {
           "x": 0.05
          },
          "xaxis": {
           "automargin": true,
           "gridcolor": "white",
           "linecolor": "white",
           "ticks": "",
           "title": {
            "standoff": 15
           },
           "zerolinecolor": "white",
           "zerolinewidth": 2
          },
          "yaxis": {
           "automargin": true,
           "gridcolor": "white",
           "linecolor": "white",
           "ticks": "",
           "title": {
            "standoff": 15
           },
           "zerolinecolor": "white",
           "zerolinewidth": 2
          }
         }
        },
        "title": {
         "font": {
          "color": "#4D5663"
         }
        },
        "xaxis": {
         "gridcolor": "#E1E5ED",
         "showgrid": true,
         "tickfont": {
          "color": "#4D5663"
         },
         "title": {
          "font": {
           "color": "#4D5663"
          },
          "text": ""
         },
         "zerolinecolor": "#E1E5ED"
        },
        "yaxis": {
         "gridcolor": "#E1E5ED",
         "showgrid": true,
         "tickfont": {
          "color": "#4D5663"
         },
         "title": {
          "font": {
           "color": "#4D5663"
          },
          "text": ""
         },
         "zerolinecolor": "#E1E5ED"
        }
       }
      },
      "text/html": [
       "<div>\n",
       "        \n",
       "        \n",
       "            <div id=\"005a675d-64f1-406a-9136-f5ad0fe6997e\" class=\"plotly-graph-div\" style=\"height:525px; width:100%;\"></div>\n",
       "            <script type=\"text/javascript\">\n",
       "                require([\"plotly\"], function(Plotly) {\n",
       "                    window.PLOTLYENV=window.PLOTLYENV || {};\n",
       "                    window.PLOTLYENV.BASE_URL='https://plot.ly';\n",
       "                    \n",
       "                if (document.getElementById(\"005a675d-64f1-406a-9136-f5ad0fe6997e\")) {\n",
       "                    Plotly.newPlot(\n",
       "                        '005a675d-64f1-406a-9136-f5ad0fe6997e',\n",
       "                        [{\"marker\": {\"color\": \"rgba(255, 153, 51, 0.6)\", \"line\": {\"color\": \"rgba(255, 153, 51, 1.0)\", \"width\": 1}}, \"name\": \"Emotional Reactions\", \"orientation\": \"h\", \"text\": \"\", \"type\": \"bar\", \"x\": [7001, 1928, 1166, 1151, 1678, 1113, 1288, 1918, 4017, 1997, 1964, 575, 304, 244, 2461, 380, 648, 501, 930, 2859, 1628, 1239, 1233, 1142, 1018, 714, 1421, 1778, 1199, 1129, 856, 1093, 3402, 1340, 1315, 569, 1644], \"y\": [\"(2020-01-19 00:00:00,FOX,9-1-1 Lone Star)\", \"(2020-01-20 00:00:00,FOX,9-1-1 Lone Star)\", \"(2020-01-27 00:00:00,FOX,9-1-1 Lone Star)\", \"(2020-02-03 00:00:00,FOX,9-1-1 Lone Star)\", \"(2020-02-10 00:00:00,FOX,9-1-1 Lone Star)\", \"(2020-02-17 00:00:00,FOX,9-1-1 Lone Star)\", \"(2020-02-24 00:00:00,FOX,9-1-1 Lone Star)\", \"(2020-03-02 00:00:00,FOX,9-1-1 Lone Star)\", \"(2020-03-09 00:00:00,FOX,9-1-1 Lone Star)\", \"(2020-01-12 00:00:00,HBO,The Outsider)\", \"(2020-01-12 00:00:00,HBO,The Outsider)\", \"(2020-01-19 00:00:00,HBO,The Outsider)\", \"(2020-01-26 00:00:00,HBO,The Outsider)\", \"(2020-02-02 00:00:00,HBO,The Outsider)\", \"(2020-02-09 00:00:00,HBO,The Outsider)\", \"(2020-02-16 00:00:00,HBO,The Outsider)\", \"(2020-02-23 00:00:00,HBO,The Outsider)\", \"(2020-03-01 00:00:00,HBO,The Outsider)\", \"(2020-03-08 00:00:00,HBO,The Outsider)\", \"(2020-02-06 00:00:00,CW,Katy Keene)\", \"(2020-02-13 00:00:00,CW,Katy Keene)\", \"(2020-02-20 00:00:00,CW,Katy Keene)\", \"(2020-02-27 00:00:00,CW,Katy Keene)\", \"(2020-03-05 00:00:00,CW,Katy Keene)\", \"(2020-03-12 00:00:00,CW,Katy Keene)\", \"(2020-03-19 00:00:00,CW,Katy Keene)\", \"(2020-01-07 00:00:00,NBC,Zoey's Extraordinary Playlist)\", \"(2020-02-16 00:00:00,NBC,Zoey's Extraordinary Playlist)\", \"(2020-02-23 00:00:00,NBC,Zoey's Extraordinary Playlist)\", \"(2020-03-01 00:00:00,NBC,Zoey's Extraordinary Playlist)\", \"(2020-03-08 00:00:00,NBC,Zoey's Extraordinary Playlist)\", \"(2020-03-15 00:00:00,NBC,Zoey's Extraordinary Playlist)\", \"(2020-02-11 00:00:00,ABC,For Life)\", \"(2020-02-18 00:00:00,ABC,For Life)\", \"(2020-02-25 00:00:00,ABC,For Life)\", \"(2020-03-10 00:00:00,ABC,For Life)\", \"(2020-03-17 00:00:00,ABC,For Life)\"]}],\n",
       "                        {\"legend\": {\"bgcolor\": \"#F5F6F9\", \"font\": {\"color\": \"#4D5663\"}}, \"paper_bgcolor\": \"#F5F6F9\", \"plot_bgcolor\": \"#F5F6F9\", \"template\": {\"data\": {\"bar\": [{\"error_x\": {\"color\": \"#2a3f5f\"}, \"error_y\": {\"color\": \"#2a3f5f\"}, \"marker\": {\"line\": {\"color\": \"#E5ECF6\", \"width\": 0.5}}, \"type\": \"bar\"}], \"barpolar\": [{\"marker\": {\"line\": {\"color\": \"#E5ECF6\", \"width\": 0.5}}, \"type\": \"barpolar\"}], \"carpet\": [{\"aaxis\": {\"endlinecolor\": \"#2a3f5f\", \"gridcolor\": \"white\", \"linecolor\": \"white\", \"minorgridcolor\": \"white\", \"startlinecolor\": \"#2a3f5f\"}, \"baxis\": {\"endlinecolor\": \"#2a3f5f\", \"gridcolor\": \"white\", \"linecolor\": \"white\", \"minorgridcolor\": \"white\", \"startlinecolor\": \"#2a3f5f\"}, \"type\": \"carpet\"}], \"choropleth\": [{\"colorbar\": {\"outlinewidth\": 0, \"ticks\": \"\"}, \"type\": \"choropleth\"}], \"contour\": [{\"colorbar\": {\"outlinewidth\": 0, \"ticks\": \"\"}, \"colorscale\": [[0.0, \"#0d0887\"], [0.1111111111111111, \"#46039f\"], [0.2222222222222222, \"#7201a8\"], [0.3333333333333333, \"#9c179e\"], [0.4444444444444444, \"#bd3786\"], [0.5555555555555556, \"#d8576b\"], [0.6666666666666666, \"#ed7953\"], [0.7777777777777778, \"#fb9f3a\"], [0.8888888888888888, \"#fdca26\"], [1.0, \"#f0f921\"]], \"type\": \"contour\"}], \"contourcarpet\": [{\"colorbar\": {\"outlinewidth\": 0, \"ticks\": \"\"}, \"type\": \"contourcarpet\"}], \"heatmap\": [{\"colorbar\": {\"outlinewidth\": 0, \"ticks\": \"\"}, \"colorscale\": [[0.0, \"#0d0887\"], [0.1111111111111111, \"#46039f\"], [0.2222222222222222, \"#7201a8\"], [0.3333333333333333, \"#9c179e\"], [0.4444444444444444, \"#bd3786\"], [0.5555555555555556, \"#d8576b\"], [0.6666666666666666, \"#ed7953\"], [0.7777777777777778, \"#fb9f3a\"], [0.8888888888888888, \"#fdca26\"], [1.0, \"#f0f921\"]], \"type\": \"heatmap\"}], \"heatmapgl\": [{\"colorbar\": {\"outlinewidth\": 0, \"ticks\": \"\"}, \"colorscale\": [[0.0, \"#0d0887\"], [0.1111111111111111, \"#46039f\"], [0.2222222222222222, \"#7201a8\"], [0.3333333333333333, \"#9c179e\"], [0.4444444444444444, \"#bd3786\"], [0.5555555555555556, \"#d8576b\"], [0.6666666666666666, \"#ed7953\"], [0.7777777777777778, \"#fb9f3a\"], [0.8888888888888888, \"#fdca26\"], [1.0, \"#f0f921\"]], \"type\": \"heatmapgl\"}], \"histogram\": [{\"marker\": {\"colorbar\": {\"outlinewidth\": 0, \"ticks\": \"\"}}, \"type\": \"histogram\"}], \"histogram2d\": [{\"colorbar\": {\"outlinewidth\": 0, \"ticks\": \"\"}, \"colorscale\": [[0.0, \"#0d0887\"], [0.1111111111111111, \"#46039f\"], [0.2222222222222222, \"#7201a8\"], [0.3333333333333333, \"#9c179e\"], [0.4444444444444444, \"#bd3786\"], [0.5555555555555556, \"#d8576b\"], [0.6666666666666666, \"#ed7953\"], [0.7777777777777778, \"#fb9f3a\"], [0.8888888888888888, \"#fdca26\"], [1.0, \"#f0f921\"]], \"type\": \"histogram2d\"}], \"histogram2dcontour\": [{\"colorbar\": {\"outlinewidth\": 0, \"ticks\": \"\"}, \"colorscale\": [[0.0, \"#0d0887\"], [0.1111111111111111, \"#46039f\"], [0.2222222222222222, \"#7201a8\"], [0.3333333333333333, \"#9c179e\"], [0.4444444444444444, \"#bd3786\"], [0.5555555555555556, \"#d8576b\"], [0.6666666666666666, \"#ed7953\"], [0.7777777777777778, \"#fb9f3a\"], [0.8888888888888888, \"#fdca26\"], [1.0, \"#f0f921\"]], \"type\": \"histogram2dcontour\"}], \"mesh3d\": [{\"colorbar\": {\"outlinewidth\": 0, \"ticks\": \"\"}, \"type\": \"mesh3d\"}], \"parcoords\": [{\"line\": {\"colorbar\": {\"outlinewidth\": 0, \"ticks\": \"\"}}, \"type\": \"parcoords\"}], \"pie\": [{\"automargin\": true, \"type\": \"pie\"}], \"scatter\": [{\"marker\": {\"colorbar\": {\"outlinewidth\": 0, \"ticks\": \"\"}}, \"type\": \"scatter\"}], \"scatter3d\": [{\"line\": {\"colorbar\": {\"outlinewidth\": 0, \"ticks\": \"\"}}, \"marker\": {\"colorbar\": {\"outlinewidth\": 0, \"ticks\": \"\"}}, \"type\": \"scatter3d\"}], \"scattercarpet\": [{\"marker\": {\"colorbar\": {\"outlinewidth\": 0, \"ticks\": \"\"}}, \"type\": \"scattercarpet\"}], \"scattergeo\": [{\"marker\": {\"colorbar\": {\"outlinewidth\": 0, \"ticks\": \"\"}}, \"type\": \"scattergeo\"}], \"scattergl\": [{\"marker\": {\"colorbar\": {\"outlinewidth\": 0, \"ticks\": \"\"}}, \"type\": \"scattergl\"}], \"scattermapbox\": [{\"marker\": {\"colorbar\": {\"outlinewidth\": 0, \"ticks\": \"\"}}, \"type\": \"scattermapbox\"}], \"scatterpolar\": [{\"marker\": {\"colorbar\": {\"outlinewidth\": 0, \"ticks\": \"\"}}, \"type\": \"scatterpolar\"}], \"scatterpolargl\": [{\"marker\": {\"colorbar\": {\"outlinewidth\": 0, \"ticks\": \"\"}}, \"type\": \"scatterpolargl\"}], \"scatterternary\": [{\"marker\": {\"colorbar\": {\"outlinewidth\": 0, \"ticks\": \"\"}}, \"type\": \"scatterternary\"}], \"surface\": [{\"colorbar\": {\"outlinewidth\": 0, \"ticks\": \"\"}, \"colorscale\": [[0.0, \"#0d0887\"], [0.1111111111111111, \"#46039f\"], [0.2222222222222222, \"#7201a8\"], [0.3333333333333333, \"#9c179e\"], [0.4444444444444444, \"#bd3786\"], [0.5555555555555556, \"#d8576b\"], [0.6666666666666666, \"#ed7953\"], [0.7777777777777778, \"#fb9f3a\"], [0.8888888888888888, \"#fdca26\"], [1.0, \"#f0f921\"]], \"type\": \"surface\"}], \"table\": [{\"cells\": {\"fill\": {\"color\": \"#EBF0F8\"}, \"line\": {\"color\": \"white\"}}, \"header\": {\"fill\": {\"color\": \"#C8D4E3\"}, \"line\": {\"color\": \"white\"}}, \"type\": \"table\"}]}, \"layout\": {\"annotationdefaults\": {\"arrowcolor\": \"#2a3f5f\", \"arrowhead\": 0, \"arrowwidth\": 1}, \"coloraxis\": {\"colorbar\": {\"outlinewidth\": 0, \"ticks\": \"\"}}, \"colorscale\": {\"diverging\": [[0, \"#8e0152\"], [0.1, \"#c51b7d\"], [0.2, \"#de77ae\"], [0.3, \"#f1b6da\"], [0.4, \"#fde0ef\"], [0.5, \"#f7f7f7\"], [0.6, \"#e6f5d0\"], [0.7, \"#b8e186\"], [0.8, \"#7fbc41\"], [0.9, \"#4d9221\"], [1, \"#276419\"]], \"sequential\": [[0.0, \"#0d0887\"], [0.1111111111111111, \"#46039f\"], [0.2222222222222222, \"#7201a8\"], [0.3333333333333333, \"#9c179e\"], [0.4444444444444444, \"#bd3786\"], [0.5555555555555556, \"#d8576b\"], [0.6666666666666666, \"#ed7953\"], [0.7777777777777778, \"#fb9f3a\"], [0.8888888888888888, \"#fdca26\"], [1.0, \"#f0f921\"]], \"sequentialminus\": [[0.0, \"#0d0887\"], [0.1111111111111111, \"#46039f\"], [0.2222222222222222, \"#7201a8\"], [0.3333333333333333, \"#9c179e\"], [0.4444444444444444, \"#bd3786\"], [0.5555555555555556, \"#d8576b\"], [0.6666666666666666, \"#ed7953\"], [0.7777777777777778, \"#fb9f3a\"], [0.8888888888888888, \"#fdca26\"], [1.0, \"#f0f921\"]]}, \"colorway\": [\"#636efa\", \"#EF553B\", \"#00cc96\", \"#ab63fa\", \"#FFA15A\", \"#19d3f3\", \"#FF6692\", \"#B6E880\", \"#FF97FF\", \"#FECB52\"], \"font\": {\"color\": \"#2a3f5f\"}, \"geo\": {\"bgcolor\": \"white\", \"lakecolor\": \"white\", \"landcolor\": \"#E5ECF6\", \"showlakes\": true, \"showland\": true, \"subunitcolor\": \"white\"}, \"hoverlabel\": {\"align\": \"left\"}, \"hovermode\": \"closest\", \"mapbox\": {\"style\": \"light\"}, \"paper_bgcolor\": \"white\", \"plot_bgcolor\": \"#E5ECF6\", \"polar\": {\"angularaxis\": {\"gridcolor\": \"white\", \"linecolor\": \"white\", \"ticks\": \"\"}, \"bgcolor\": \"#E5ECF6\", \"radialaxis\": {\"gridcolor\": \"white\", \"linecolor\": \"white\", \"ticks\": \"\"}}, \"scene\": {\"xaxis\": {\"backgroundcolor\": \"#E5ECF6\", \"gridcolor\": \"white\", \"gridwidth\": 2, \"linecolor\": \"white\", \"showbackground\": true, \"ticks\": \"\", \"zerolinecolor\": \"white\"}, \"yaxis\": {\"backgroundcolor\": \"#E5ECF6\", \"gridcolor\": \"white\", \"gridwidth\": 2, \"linecolor\": \"white\", \"showbackground\": true, \"ticks\": \"\", \"zerolinecolor\": \"white\"}, \"zaxis\": {\"backgroundcolor\": \"#E5ECF6\", \"gridcolor\": \"white\", \"gridwidth\": 2, \"linecolor\": \"white\", \"showbackground\": true, \"ticks\": \"\", \"zerolinecolor\": \"white\"}}, \"shapedefaults\": {\"line\": {\"color\": \"#2a3f5f\"}}, \"ternary\": {\"aaxis\": {\"gridcolor\": \"white\", \"linecolor\": \"white\", \"ticks\": \"\"}, \"baxis\": {\"gridcolor\": \"white\", \"linecolor\": \"white\", \"ticks\": \"\"}, \"bgcolor\": \"#E5ECF6\", \"caxis\": {\"gridcolor\": \"white\", \"linecolor\": \"white\", \"ticks\": \"\"}}, \"title\": {\"x\": 0.05}, \"xaxis\": {\"automargin\": true, \"gridcolor\": \"white\", \"linecolor\": \"white\", \"ticks\": \"\", \"title\": {\"standoff\": 15}, \"zerolinecolor\": \"white\", \"zerolinewidth\": 2}, \"yaxis\": {\"automargin\": true, \"gridcolor\": \"white\", \"linecolor\": \"white\", \"ticks\": \"\", \"title\": {\"standoff\": 15}, \"zerolinecolor\": \"white\", \"zerolinewidth\": 2}}}, \"title\": {\"font\": {\"color\": \"#4D5663\"}}, \"xaxis\": {\"gridcolor\": \"#E1E5ED\", \"showgrid\": true, \"tickfont\": {\"color\": \"#4D5663\"}, \"title\": {\"font\": {\"color\": \"#4D5663\"}, \"text\": \"\"}, \"zerolinecolor\": \"#E1E5ED\"}, \"yaxis\": {\"gridcolor\": \"#E1E5ED\", \"showgrid\": true, \"tickfont\": {\"color\": \"#4D5663\"}, \"title\": {\"font\": {\"color\": \"#4D5663\"}, \"text\": \"\"}, \"zerolinecolor\": \"#E1E5ED\"}},\n",
       "                        {\"showLink\": true, \"linkText\": \"Export to plot.ly\", \"plotlyServerURL\": \"https://plot.ly\", \"responsive\": true}\n",
       "                    ).then(function(){\n",
       "                            \n",
       "var gd = document.getElementById('005a675d-64f1-406a-9136-f5ad0fe6997e');\n",
       "var x = new MutationObserver(function (mutations, observer) {{\n",
       "        var display = window.getComputedStyle(gd).display;\n",
       "        if (!display || display === 'none') {{\n",
       "            console.log([gd, 'removed!']);\n",
       "            Plotly.purge(gd);\n",
       "            observer.disconnect();\n",
       "        }}\n",
       "}});\n",
       "\n",
       "// Listen for the removal of the full notebook cells\n",
       "var notebookContainer = gd.closest('#notebook-container');\n",
       "if (notebookContainer) {{\n",
       "    x.observe(notebookContainer, {childList: true});\n",
       "}}\n",
       "\n",
       "// Listen for the clearing of the current output cell\n",
       "var outputEl = gd.closest('.output');\n",
       "if (outputEl) {{\n",
       "    x.observe(outputEl, {childList: true});\n",
       "}}\n",
       "\n",
       "                        })\n",
       "                };\n",
       "                });\n",
       "            </script>\n",
       "        </div>"
      ]
     },
     "metadata": {},
     "output_type": "display_data"
    },
    {
     "data": {
      "text/plain": [
       "<Figure size 936x720 with 0 Axes>"
      ]
     },
     "metadata": {},
     "output_type": "display_data"
    }
   ],
   "source": [
    "dd = t5t_2['Emotional Reactions'].iplot(kind='barh')\n",
    "plt.tight_layout()"
   ]
  },
  {
   "cell_type": "code",
   "execution_count": 46,
   "metadata": {
    "scrolled": true
   },
   "outputs": [
    {
     "data": {
      "image/png": "[encoded data removed]",
      "text/plain": [
       "<Figure size 936x720 with 2 Axes>"
      ]
     },
     "metadata": {
      "needs_background": "light"
     },
     "output_type": "display_data"
    }
   ],
   "source": [
    "#fig, axes = plt.subplots(2, 1) \n",
    "#dd = t5t['Emotional Reactions'].plot.bar(title = 'Emotional Reactions',ax = axes[0])\n",
    "#dt = t5t['Reaction Rate'].plot(title = 'Reaction Rate',ax = axes[1])\n",
    "#plt.tight_layout()"
   ]
  }
 ],
 "metadata": {
  "kernelspec": {
   "display_name": "Python 3",
   "language": "python",
   "name": "python3"
  },
  "language_info": {
   "codemirror_mode": {
    "name": "ipython",
    "version": 3
   },
   "file_extension": ".py",
   "mimetype": "text/x-python",
   "name": "python",
   "nbconvert_exporter": "python",
   "pygments_lexer": "ipython3",
   "version": "3.7.4"
  }
 },
 "nbformat": 4,
 "nbformat_minor": 2
}
