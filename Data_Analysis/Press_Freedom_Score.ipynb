{
 "cells": [
  {
   "cell_type": "markdown",
   "metadata": {},
   "source": [
    "The press freedom index released by Reporters Without Borders every year since 2002 represents the degree of freedom of the press in 180 countries. According to Reporters Without Borders, Press freedom has been threathened even now. A lot of journalists in many fields have been killed over the world every year. From this issue, I got a research question - What factors influence most to decide Press Freedom Index?"
   ]
  },
  {
   "cell_type": "markdown",
   "metadata": {},
   "source": [
    "For this project, I got __'Journalists Killed Worldwide Since 1992' dataset__ from https://www.kaggle.com/cpjournalists/journalists-killed-worldwide-since-1992 and __'World Press Freedom' dataset__ from https://ourworldindata.org/grapher/world-press-freedom?time=2019"
   ]
  },
  {
   "cell_type": "code",
   "execution_count": 1,
   "metadata": {
    "scrolled": true
   },
   "outputs": [
    {
     "name": "stderr",
     "output_type": "stream",
     "text": [
      "/opt/anaconda3/lib/python3.7/site-packages/statsmodels/tools/_testing.py:19: FutureWarning: pandas.util.testing is deprecated. Use the functions in the public API at pandas.testing instead.\n",
      "  import pandas.util.testing as tm\n"
     ]
    }
   ],
   "source": [
    "from sklearn.model_selection import train_test_split\n",
    "from sklearn.feature_extraction import DictVectorizer\n",
    "from sklearn.ensemble import RandomForestRegressor\n",
    "from sklearn.metrics import r2_score\n",
    "from sklearn.metrics import mean_squared_error\n",
    "from IPython.display import Image\n",
    "import pandas as pd\n",
    "import matplotlib.pyplot as plt\n",
    "import seaborn as sns\n",
    "import numpy as np"
   ]
  },
  {
   "cell_type": "markdown",
   "metadata": {},
   "source": [
    "# Load Two Dataset"
   ]
  },
  {
   "cell_type": "code",
   "execution_count": 2,
   "metadata": {},
   "outputs": [],
   "source": [
    "df = pd.read_csv('https://raw.githubusercontent.com/sunnypark1026/sunnypark/master/Data_Analysis/datasets/world-press-freedom.csv')\n",
    "df2 = pd.read_csv('https://raw.githubusercontent.com/sunnypark1026/sunnypark/master/Data_Analysis/datasets/cpj.csv')"
   ]
  },
  {
   "cell_type": "code",
   "execution_count": 3,
   "metadata": {},
   "outputs": [],
   "source": [
    "df = pd.DataFrame(df.groupby(['Entity'])['Press Freedom Score'].mean()).reset_index()\n",
    "df['Press Freedom Score'] = df['Press Freedom Score'].astype(int)\n",
    "df.columns = ['Country_killed', 'Press Freedom Score']"
   ]
  },
  {
   "cell_type": "code",
   "execution_count": 4,
   "metadata": {},
   "outputs": [
    {
     "data": {
      "text/html": [
       "<div>\n",
       "<style scoped>\n",
       "    .dataframe tbody tr th:only-of-type {\n",
       "        vertical-align: middle;\n",
       "    }\n",
       "\n",
       "    .dataframe tbody tr th {\n",
       "        vertical-align: top;\n",
       "    }\n",
       "\n",
       "    .dataframe thead th {\n",
       "        text-align: right;\n",
       "    }\n",
       "</style>\n",
       "<table border=\"1\" class=\"dataframe\">\n",
       "  <thead>\n",
       "    <tr style=\"text-align: right;\">\n",
       "      <th></th>\n",
       "      <th>Country_killed</th>\n",
       "      <th>Press Freedom Score</th>\n",
       "    </tr>\n",
       "  </thead>\n",
       "  <tbody>\n",
       "    <tr>\n",
       "      <th>122</th>\n",
       "      <td>Norway</td>\n",
       "      <td>7</td>\n",
       "    </tr>\n",
       "    <tr>\n",
       "      <th>154</th>\n",
       "      <td>Sweden</td>\n",
       "      <td>8</td>\n",
       "    </tr>\n",
       "    <tr>\n",
       "      <th>55</th>\n",
       "      <td>Finland</td>\n",
       "      <td>9</td>\n",
       "    </tr>\n",
       "    <tr>\n",
       "      <th>114</th>\n",
       "      <td>Netherlands</td>\n",
       "      <td>9</td>\n",
       "    </tr>\n",
       "    <tr>\n",
       "      <th>79</th>\n",
       "      <td>Jamaica</td>\n",
       "      <td>11</td>\n",
       "    </tr>\n",
       "  </tbody>\n",
       "</table>\n",
       "</div>"
      ],
      "text/plain": [
       "    Country_killed  Press Freedom Score\n",
       "122         Norway                    7\n",
       "154         Sweden                    8\n",
       "55         Finland                    9\n",
       "114    Netherlands                    9\n",
       "79         Jamaica                   11"
      ]
     },
     "execution_count": 4,
     "metadata": {},
     "output_type": "execute_result"
    }
   ],
   "source": [
    "# low score = good score\n",
    "df.sort_values(by = 'Press Freedom Score').head(5)"
   ]
  },
  {
   "cell_type": "code",
   "execution_count": 5,
   "metadata": {
    "scrolled": true
   },
   "outputs": [
    {
     "data": {
      "text/html": [
       "<div>\n",
       "<style scoped>\n",
       "    .dataframe tbody tr th:only-of-type {\n",
       "        vertical-align: middle;\n",
       "    }\n",
       "\n",
       "    .dataframe tbody tr th {\n",
       "        vertical-align: top;\n",
       "    }\n",
       "\n",
       "    .dataframe thead th {\n",
       "        text-align: right;\n",
       "    }\n",
       "</style>\n",
       "<table border=\"1\" class=\"dataframe\">\n",
       "  <thead>\n",
       "    <tr style=\"text-align: right;\">\n",
       "      <th></th>\n",
       "      <th>Country_killed</th>\n",
       "      <th>Press Freedom Score</th>\n",
       "    </tr>\n",
       "  </thead>\n",
       "  <tbody>\n",
       "    <tr>\n",
       "      <th>156</th>\n",
       "      <td>Syria</td>\n",
       "      <td>77</td>\n",
       "    </tr>\n",
       "    <tr>\n",
       "      <th>32</th>\n",
       "      <td>China</td>\n",
       "      <td>78</td>\n",
       "    </tr>\n",
       "    <tr>\n",
       "      <th>50</th>\n",
       "      <td>Eritrea</td>\n",
       "      <td>82</td>\n",
       "    </tr>\n",
       "    <tr>\n",
       "      <th>167</th>\n",
       "      <td>Turkmenistan</td>\n",
       "      <td>84</td>\n",
       "    </tr>\n",
       "    <tr>\n",
       "      <th>119</th>\n",
       "      <td>North Korea</td>\n",
       "      <td>86</td>\n",
       "    </tr>\n",
       "  </tbody>\n",
       "</table>\n",
       "</div>"
      ],
      "text/plain": [
       "    Country_killed  Press Freedom Score\n",
       "156          Syria                   77\n",
       "32           China                   78\n",
       "50         Eritrea                   82\n",
       "167   Turkmenistan                   84\n",
       "119    North Korea                   86"
      ]
     },
     "execution_count": 5,
     "metadata": {},
     "output_type": "execute_result"
    }
   ],
   "source": [
    "# high score = bad score\n",
    "df.sort_values(by = 'Press Freedom Score').tail(5)"
   ]
  },
  {
   "cell_type": "code",
   "execution_count": 6,
   "metadata": {
    "scrolled": true
   },
   "outputs": [],
   "source": [
    "df2 = df2[['Type', 'Name', 'Sex', 'Country_killed', 'Organization',\n",
    "       'Nationality', 'Medium', 'Job', 'Coverage', 'Freelance',\n",
    "       'Local_Foreign', 'Source_fire', 'Type_death']]\n",
    "df2.columns = ['Type', 'Name', 'Sex', 'Country_killed', 'Organization',\n",
    "       'Journalist_nationality', 'Medium', 'Job', 'Coverage', 'Freelance',\n",
    "       'Local_Foreign', 'Source_fire', 'Type_death']"
   ]
  },
  {
   "cell_type": "code",
   "execution_count": 7,
   "metadata": {},
   "outputs": [],
   "source": [
    "# Combine two dataframes on 'Country_killed'\n",
    "combined = pd.merge(df2, df, how = 'inner', on = 'Country_killed')\n",
    "combined.dropna(how='any', axis = 0, inplace = True)"
   ]
  },
  {
   "cell_type": "code",
   "execution_count": 8,
   "metadata": {
    "scrolled": true
   },
   "outputs": [
    {
     "data": {
      "text/html": [
       "<div>\n",
       "<style scoped>\n",
       "    .dataframe tbody tr th:only-of-type {\n",
       "        vertical-align: middle;\n",
       "    }\n",
       "\n",
       "    .dataframe tbody tr th {\n",
       "        vertical-align: top;\n",
       "    }\n",
       "\n",
       "    .dataframe thead th {\n",
       "        text-align: right;\n",
       "    }\n",
       "</style>\n",
       "<table border=\"1\" class=\"dataframe\">\n",
       "  <thead>\n",
       "    <tr style=\"text-align: right;\">\n",
       "      <th></th>\n",
       "      <th>Type</th>\n",
       "      <th>Name</th>\n",
       "      <th>Sex</th>\n",
       "      <th>Country_killed</th>\n",
       "      <th>Organization</th>\n",
       "      <th>Journalist_nationality</th>\n",
       "      <th>Medium</th>\n",
       "      <th>Job</th>\n",
       "      <th>Coverage</th>\n",
       "      <th>Freelance</th>\n",
       "      <th>Local_Foreign</th>\n",
       "      <th>Source_fire</th>\n",
       "      <th>Type_death</th>\n",
       "      <th>Press Freedom Score</th>\n",
       "    </tr>\n",
       "  </thead>\n",
       "  <tbody>\n",
       "    <tr>\n",
       "      <th>0</th>\n",
       "      <td>Motive Confirmed</td>\n",
       "      <td>Ali Risan</td>\n",
       "      <td>Male</td>\n",
       "      <td>Iraq</td>\n",
       "      <td>Al-Sumaria TV</td>\n",
       "      <td>Iraqi</td>\n",
       "      <td>Television, Internet</td>\n",
       "      <td>Camera Operator</td>\n",
       "      <td>War</td>\n",
       "      <td>No</td>\n",
       "      <td>Local</td>\n",
       "      <td>Political Group</td>\n",
       "      <td>Crossfire/Combat-Related</td>\n",
       "      <td>54</td>\n",
       "    </tr>\n",
       "    <tr>\n",
       "      <th>1</th>\n",
       "      <td>Motive Confirmed</td>\n",
       "      <td>Ahmet Haceroğlu</td>\n",
       "      <td>Male</td>\n",
       "      <td>Iraq</td>\n",
       "      <td>Türkmeneli TV</td>\n",
       "      <td>Iraqi</td>\n",
       "      <td>Television</td>\n",
       "      <td>Producer</td>\n",
       "      <td>Politics, War</td>\n",
       "      <td>No</td>\n",
       "      <td>Local</td>\n",
       "      <td>Political Group</td>\n",
       "      <td>Crossfire/Combat-Related</td>\n",
       "      <td>54</td>\n",
       "    </tr>\n",
       "    <tr>\n",
       "      <th>2</th>\n",
       "      <td>Motive Confirmed</td>\n",
       "      <td>Mustafa Said</td>\n",
       "      <td>Male</td>\n",
       "      <td>Iraq</td>\n",
       "      <td>Kurdistan TV</td>\n",
       "      <td>Iraqi</td>\n",
       "      <td>Television</td>\n",
       "      <td>Camera Operator</td>\n",
       "      <td>War</td>\n",
       "      <td>No</td>\n",
       "      <td>Local</td>\n",
       "      <td>Unknown Fire</td>\n",
       "      <td>Crossfire/Combat-Related</td>\n",
       "      <td>54</td>\n",
       "    </tr>\n",
       "    <tr>\n",
       "      <th>3</th>\n",
       "      <td>Motive Confirmed</td>\n",
       "      <td>Hassan al-Anbaki</td>\n",
       "      <td>Male</td>\n",
       "      <td>Iraq</td>\n",
       "      <td>Al-Sharqiya</td>\n",
       "      <td>Iraq</td>\n",
       "      <td>Television</td>\n",
       "      <td>Camera Operator</td>\n",
       "      <td>War</td>\n",
       "      <td>No</td>\n",
       "      <td>Local</td>\n",
       "      <td>Unknown Fire</td>\n",
       "      <td>Murder</td>\n",
       "      <td>54</td>\n",
       "    </tr>\n",
       "    <tr>\n",
       "      <th>4</th>\n",
       "      <td>Motive Confirmed</td>\n",
       "      <td>Saif Talal</td>\n",
       "      <td>Male</td>\n",
       "      <td>Iraq</td>\n",
       "      <td>Al-Sharqiya</td>\n",
       "      <td>Iraq</td>\n",
       "      <td>Television</td>\n",
       "      <td>Broadcast</td>\n",
       "      <td>War</td>\n",
       "      <td>No</td>\n",
       "      <td>Local</td>\n",
       "      <td>Unknown Fire</td>\n",
       "      <td>Murder</td>\n",
       "      <td>54</td>\n",
       "    </tr>\n",
       "  </tbody>\n",
       "</table>\n",
       "</div>"
      ],
      "text/plain": [
       "               Type              Name   Sex Country_killed   Organization  \\\n",
       "0  Motive Confirmed         Ali Risan  Male           Iraq  Al-Sumaria TV   \n",
       "1  Motive Confirmed   Ahmet Haceroğlu  Male           Iraq  Türkmeneli TV   \n",
       "2  Motive Confirmed      Mustafa Said  Male           Iraq   Kurdistan TV   \n",
       "3  Motive Confirmed  Hassan al-Anbaki  Male           Iraq    Al-Sharqiya   \n",
       "4  Motive Confirmed        Saif Talal  Male           Iraq   Al-Sharqiya    \n",
       "\n",
       "  Journalist_nationality                Medium              Job  \\\n",
       "0                  Iraqi  Television, Internet  Camera Operator   \n",
       "1                  Iraqi            Television         Producer   \n",
       "2                  Iraqi            Television  Camera Operator   \n",
       "3                  Iraq             Television  Camera Operator   \n",
       "4                   Iraq            Television        Broadcast   \n",
       "\n",
       "        Coverage Freelance Local_Foreign      Source_fire  \\\n",
       "0            War        No         Local  Political Group   \n",
       "1  Politics, War        No         Local  Political Group   \n",
       "2            War        No         Local     Unknown Fire   \n",
       "3            War        No         Local     Unknown Fire   \n",
       "4            War        No         Local     Unknown Fire   \n",
       "\n",
       "                 Type_death  Press Freedom Score  \n",
       "0  Crossfire/Combat-Related                   54  \n",
       "1  Crossfire/Combat-Related                   54  \n",
       "2  Crossfire/Combat-Related                   54  \n",
       "3                    Murder                   54  \n",
       "4                    Murder                   54  "
      ]
     },
     "execution_count": 8,
     "metadata": {},
     "output_type": "execute_result"
    }
   ],
   "source": [
    "combined.head()"
   ]
  },
  {
   "cell_type": "code",
   "execution_count": 9,
   "metadata": {},
   "outputs": [],
   "source": [
    "# for avoiding overfitting, deleted 'Country_killed' and 'Journalist_nationality'\n",
    "combined.drop(['Name','Organization','Source_fire','Type_death','Country_killed', 'Journalist_nationality'], axis = 1, inplace = True)\n",
    "combined.reset_index(drop=True, inplace = True)"
   ]
  },
  {
   "cell_type": "code",
   "execution_count": 10,
   "metadata": {
    "scrolled": false
   },
   "outputs": [
    {
     "data": {
      "text/html": [
       "<div>\n",
       "<style scoped>\n",
       "    .dataframe tbody tr th:only-of-type {\n",
       "        vertical-align: middle;\n",
       "    }\n",
       "\n",
       "    .dataframe tbody tr th {\n",
       "        vertical-align: top;\n",
       "    }\n",
       "\n",
       "    .dataframe thead th {\n",
       "        text-align: right;\n",
       "    }\n",
       "</style>\n",
       "<table border=\"1\" class=\"dataframe\">\n",
       "  <thead>\n",
       "    <tr style=\"text-align: right;\">\n",
       "      <th></th>\n",
       "      <th>Type</th>\n",
       "      <th>Sex</th>\n",
       "      <th>Medium</th>\n",
       "      <th>Job</th>\n",
       "      <th>Coverage</th>\n",
       "      <th>Freelance</th>\n",
       "      <th>Local_Foreign</th>\n",
       "      <th>Press Freedom Score</th>\n",
       "    </tr>\n",
       "  </thead>\n",
       "  <tbody>\n",
       "    <tr>\n",
       "      <th>0</th>\n",
       "      <td>Motive Confirmed</td>\n",
       "      <td>Male</td>\n",
       "      <td>Television, Internet</td>\n",
       "      <td>Camera Operator</td>\n",
       "      <td>War</td>\n",
       "      <td>No</td>\n",
       "      <td>Local</td>\n",
       "      <td>54</td>\n",
       "    </tr>\n",
       "    <tr>\n",
       "      <th>1</th>\n",
       "      <td>Motive Confirmed</td>\n",
       "      <td>Male</td>\n",
       "      <td>Television</td>\n",
       "      <td>Producer</td>\n",
       "      <td>Politics, War</td>\n",
       "      <td>No</td>\n",
       "      <td>Local</td>\n",
       "      <td>54</td>\n",
       "    </tr>\n",
       "    <tr>\n",
       "      <th>2</th>\n",
       "      <td>Motive Confirmed</td>\n",
       "      <td>Male</td>\n",
       "      <td>Television</td>\n",
       "      <td>Camera Operator</td>\n",
       "      <td>War</td>\n",
       "      <td>No</td>\n",
       "      <td>Local</td>\n",
       "      <td>54</td>\n",
       "    </tr>\n",
       "    <tr>\n",
       "      <th>3</th>\n",
       "      <td>Motive Confirmed</td>\n",
       "      <td>Male</td>\n",
       "      <td>Television</td>\n",
       "      <td>Camera Operator</td>\n",
       "      <td>War</td>\n",
       "      <td>No</td>\n",
       "      <td>Local</td>\n",
       "      <td>54</td>\n",
       "    </tr>\n",
       "    <tr>\n",
       "      <th>4</th>\n",
       "      <td>Motive Confirmed</td>\n",
       "      <td>Male</td>\n",
       "      <td>Television</td>\n",
       "      <td>Broadcast</td>\n",
       "      <td>War</td>\n",
       "      <td>No</td>\n",
       "      <td>Local</td>\n",
       "      <td>54</td>\n",
       "    </tr>\n",
       "  </tbody>\n",
       "</table>\n",
       "</div>"
      ],
      "text/plain": [
       "               Type   Sex                Medium              Job  \\\n",
       "0  Motive Confirmed  Male  Television, Internet  Camera Operator   \n",
       "1  Motive Confirmed  Male            Television         Producer   \n",
       "2  Motive Confirmed  Male            Television  Camera Operator   \n",
       "3  Motive Confirmed  Male            Television  Camera Operator   \n",
       "4  Motive Confirmed  Male            Television        Broadcast   \n",
       "\n",
       "        Coverage Freelance Local_Foreign  Press Freedom Score  \n",
       "0            War        No         Local                   54  \n",
       "1  Politics, War        No         Local                   54  \n",
       "2            War        No         Local                   54  \n",
       "3            War        No         Local                   54  \n",
       "4            War        No         Local                   54  "
      ]
     },
     "execution_count": 10,
     "metadata": {},
     "output_type": "execute_result"
    }
   ],
   "source": [
    "combined.head() # 1085 rows"
   ]
  },
  {
   "cell_type": "markdown",
   "metadata": {},
   "source": [
    "# One-Hot Encoding"
   ]
  },
  {
   "cell_type": "code",
   "execution_count": 11,
   "metadata": {},
   "outputs": [
    {
     "data": {
      "text/html": [
       "<div>\n",
       "<style scoped>\n",
       "    .dataframe tbody tr th:only-of-type {\n",
       "        vertical-align: middle;\n",
       "    }\n",
       "\n",
       "    .dataframe tbody tr th {\n",
       "        vertical-align: top;\n",
       "    }\n",
       "\n",
       "    .dataframe thead th {\n",
       "        text-align: right;\n",
       "    }\n",
       "</style>\n",
       "<table border=\"1\" class=\"dataframe\">\n",
       "  <thead>\n",
       "    <tr style=\"text-align: right;\">\n",
       "      <th></th>\n",
       "      <th>Press Freedom Score</th>\n",
       "      <th>Type_Media Workers</th>\n",
       "      <th>Type_Motive Confirmed</th>\n",
       "      <th>Sex_Female</th>\n",
       "      <th>Sex_Male</th>\n",
       "      <th>Medium_Internet</th>\n",
       "      <th>Medium_Print</th>\n",
       "      <th>Medium_Print, Internet</th>\n",
       "      <th>Medium_Print, Radio</th>\n",
       "      <th>Medium_Print, Radio, Internet</th>\n",
       "      <th>...</th>\n",
       "      <th>Coverage_Human Rights, Politics, War</th>\n",
       "      <th>Coverage_Human Rights, War</th>\n",
       "      <th>Coverage_Politics</th>\n",
       "      <th>Coverage_Politics, War</th>\n",
       "      <th>Coverage_Sports</th>\n",
       "      <th>Coverage_War</th>\n",
       "      <th>Freelance_No</th>\n",
       "      <th>Freelance_Yes</th>\n",
       "      <th>Local_Foreign_Foreign</th>\n",
       "      <th>Local_Foreign_Local</th>\n",
       "    </tr>\n",
       "  </thead>\n",
       "  <tbody>\n",
       "    <tr>\n",
       "      <th>0</th>\n",
       "      <td>54</td>\n",
       "      <td>0</td>\n",
       "      <td>1</td>\n",
       "      <td>0</td>\n",
       "      <td>1</td>\n",
       "      <td>0</td>\n",
       "      <td>0</td>\n",
       "      <td>0</td>\n",
       "      <td>0</td>\n",
       "      <td>0</td>\n",
       "      <td>...</td>\n",
       "      <td>0</td>\n",
       "      <td>0</td>\n",
       "      <td>0</td>\n",
       "      <td>0</td>\n",
       "      <td>0</td>\n",
       "      <td>1</td>\n",
       "      <td>1</td>\n",
       "      <td>0</td>\n",
       "      <td>0</td>\n",
       "      <td>1</td>\n",
       "    </tr>\n",
       "    <tr>\n",
       "      <th>1</th>\n",
       "      <td>54</td>\n",
       "      <td>0</td>\n",
       "      <td>1</td>\n",
       "      <td>0</td>\n",
       "      <td>1</td>\n",
       "      <td>0</td>\n",
       "      <td>0</td>\n",
       "      <td>0</td>\n",
       "      <td>0</td>\n",
       "      <td>0</td>\n",
       "      <td>...</td>\n",
       "      <td>0</td>\n",
       "      <td>0</td>\n",
       "      <td>0</td>\n",
       "      <td>1</td>\n",
       "      <td>0</td>\n",
       "      <td>0</td>\n",
       "      <td>1</td>\n",
       "      <td>0</td>\n",
       "      <td>0</td>\n",
       "      <td>1</td>\n",
       "    </tr>\n",
       "    <tr>\n",
       "      <th>2</th>\n",
       "      <td>54</td>\n",
       "      <td>0</td>\n",
       "      <td>1</td>\n",
       "      <td>0</td>\n",
       "      <td>1</td>\n",
       "      <td>0</td>\n",
       "      <td>0</td>\n",
       "      <td>0</td>\n",
       "      <td>0</td>\n",
       "      <td>0</td>\n",
       "      <td>...</td>\n",
       "      <td>0</td>\n",
       "      <td>0</td>\n",
       "      <td>0</td>\n",
       "      <td>0</td>\n",
       "      <td>0</td>\n",
       "      <td>1</td>\n",
       "      <td>1</td>\n",
       "      <td>0</td>\n",
       "      <td>0</td>\n",
       "      <td>1</td>\n",
       "    </tr>\n",
       "    <tr>\n",
       "      <th>3</th>\n",
       "      <td>54</td>\n",
       "      <td>0</td>\n",
       "      <td>1</td>\n",
       "      <td>0</td>\n",
       "      <td>1</td>\n",
       "      <td>0</td>\n",
       "      <td>0</td>\n",
       "      <td>0</td>\n",
       "      <td>0</td>\n",
       "      <td>0</td>\n",
       "      <td>...</td>\n",
       "      <td>0</td>\n",
       "      <td>0</td>\n",
       "      <td>0</td>\n",
       "      <td>0</td>\n",
       "      <td>0</td>\n",
       "      <td>1</td>\n",
       "      <td>1</td>\n",
       "      <td>0</td>\n",
       "      <td>0</td>\n",
       "      <td>1</td>\n",
       "    </tr>\n",
       "    <tr>\n",
       "      <th>4</th>\n",
       "      <td>54</td>\n",
       "      <td>0</td>\n",
       "      <td>1</td>\n",
       "      <td>0</td>\n",
       "      <td>1</td>\n",
       "      <td>0</td>\n",
       "      <td>0</td>\n",
       "      <td>0</td>\n",
       "      <td>0</td>\n",
       "      <td>0</td>\n",
       "      <td>...</td>\n",
       "      <td>0</td>\n",
       "      <td>0</td>\n",
       "      <td>0</td>\n",
       "      <td>0</td>\n",
       "      <td>0</td>\n",
       "      <td>1</td>\n",
       "      <td>1</td>\n",
       "      <td>0</td>\n",
       "      <td>0</td>\n",
       "      <td>1</td>\n",
       "    </tr>\n",
       "  </tbody>\n",
       "</table>\n",
       "<p>5 rows × 149 columns</p>\n",
       "</div>"
      ],
      "text/plain": [
       "   Press Freedom Score  Type_Media Workers  Type_Motive Confirmed  Sex_Female  \\\n",
       "0                   54                   0                      1           0   \n",
       "1                   54                   0                      1           0   \n",
       "2                   54                   0                      1           0   \n",
       "3                   54                   0                      1           0   \n",
       "4                   54                   0                      1           0   \n",
       "\n",
       "   Sex_Male  Medium_Internet  Medium_Print  Medium_Print, Internet  \\\n",
       "0         1                0             0                       0   \n",
       "1         1                0             0                       0   \n",
       "2         1                0             0                       0   \n",
       "3         1                0             0                       0   \n",
       "4         1                0             0                       0   \n",
       "\n",
       "   Medium_Print, Radio  Medium_Print, Radio, Internet  ...  \\\n",
       "0                    0                              0  ...   \n",
       "1                    0                              0  ...   \n",
       "2                    0                              0  ...   \n",
       "3                    0                              0  ...   \n",
       "4                    0                              0  ...   \n",
       "\n",
       "   Coverage_Human Rights, Politics, War  Coverage_Human Rights, War  \\\n",
       "0                                     0                           0   \n",
       "1                                     0                           0   \n",
       "2                                     0                           0   \n",
       "3                                     0                           0   \n",
       "4                                     0                           0   \n",
       "\n",
       "   Coverage_Politics  Coverage_Politics, War  Coverage_Sports  Coverage_War  \\\n",
       "0                  0                       0                0             1   \n",
       "1                  0                       1                0             0   \n",
       "2                  0                       0                0             1   \n",
       "3                  0                       0                0             1   \n",
       "4                  0                       0                0             1   \n",
       "\n",
       "   Freelance_No  Freelance_Yes  Local_Foreign_Foreign  Local_Foreign_Local  \n",
       "0             1              0                      0                    1  \n",
       "1             1              0                      0                    1  \n",
       "2             1              0                      0                    1  \n",
       "3             1              0                      0                    1  \n",
       "4             1              0                      0                    1  \n",
       "\n",
       "[5 rows x 149 columns]"
      ]
     },
     "execution_count": 11,
     "metadata": {},
     "output_type": "execute_result"
    }
   ],
   "source": [
    "encoded_df = pd.get_dummies(combined)\n",
    "encoded_df.head()"
   ]
  },
  {
   "cell_type": "markdown",
   "metadata": {},
   "source": [
    "# Train/Test Dataset"
   ]
  },
  {
   "cell_type": "code",
   "execution_count": 12,
   "metadata": {},
   "outputs": [],
   "source": [
    "X = encoded_df.drop(['Press Freedom Score'], axis = 1)\n",
    "y = encoded_df['Press Freedom Score']"
   ]
  },
  {
   "cell_type": "code",
   "execution_count": 13,
   "metadata": {},
   "outputs": [],
   "source": [
    "X_train, X_test, y_train, y_test = train_test_split(X, y, test_size = 0.3, random_state = 0)"
   ]
  },
  {
   "cell_type": "markdown",
   "metadata": {},
   "source": [
    "# RandomForest"
   ]
  },
  {
   "cell_type": "code",
   "execution_count": 14,
   "metadata": {
    "scrolled": true
   },
   "outputs": [
    {
     "name": "stdout",
     "output_type": "stream",
     "text": [
      "MSE Train: 44.870, test: 127.919\n",
      "R2 Train: 0.749, test: 0.268\n"
     ]
    }
   ],
   "source": [
    "# RandomForest Regression \n",
    "rf_reg = RandomForestRegressor(n_estimators = 1000, criterion = 'mse')\n",
    "rf_reg.fit(X_train, y_train)\n",
    "y_train_pred = rf_reg.predict(X_train)\n",
    "y_test_pred = rf_reg.predict(X_test)\n",
    "\n",
    "print('MSE Train: %.3f, test: %.3f' % (\n",
    "mean_squared_error(y_train, y_train_pred),\n",
    "mean_squared_error(y_test, y_test_pred)))\n",
    "print('R2 Train: %.3f, test: %.3f' % (\n",
    "r2_score(y_train, y_train_pred),\n",
    "r2_score(y_test, y_test_pred)))"
   ]
  },
  {
   "cell_type": "markdown",
   "metadata": {},
   "source": [
    "# Important Features"
   ]
  },
  {
   "cell_type": "code",
   "execution_count": 15,
   "metadata": {
    "scrolled": false
   },
   "outputs": [
    {
     "data": {
      "text/plain": [
       "[('Medium_Internet', 0.11381303668282043),\n",
       " ('Medium_Television, Internet', 0.07369015133321653),\n",
       " ('Medium_Television', 0.06210261076243205),\n",
       " ('Coverage_Human Rights, Politics, War', 0.05998403225393325),\n",
       " ('Coverage_War', 0.030465101833283503),\n",
       " ('Coverage_Politics', 0.02343151870381811),\n",
       " ('Coverage_Crime', 0.023355989539786015),\n",
       " ('Coverage_Human Rights, War', 0.02133501716870097),\n",
       " ('Job_Broadcast', 0.021118113690328275),\n",
       " ('Freelance_No', 0.02005440156659907)]"
      ]
     },
     "execution_count": 15,
     "metadata": {},
     "output_type": "execute_result"
    },
    {
     "data": {
      "image/png": "[encoded data removed]",
      "text/plain": [
       "<Figure size 576x432 with 1 Axes>"
      ]
     },
     "metadata": {
      "needs_background": "light"
     },
     "output_type": "display_data"
    }
   ],
   "source": [
    "plt.figure(figsize=(8, 6)) \n",
    "\n",
    "importance = rf_reg.feature_importances_\n",
    "indices = np.argsort(importance)[::-1]\n",
    "plt.bar(range(X.shape[1]), importance[indices])\n",
    "\n",
    "feat_labels = X.columns.tolist()\n",
    "feature = list(zip(feat_labels, rf_reg.feature_importances_))\n",
    "sorted(feature, key = lambda tup: tup[1], reverse = True)[:10]"
   ]
  },
  {
   "cell_type": "markdown",
   "metadata": {},
   "source": [
    "# Label Encoding"
   ]
  },
  {
   "cell_type": "code",
   "execution_count": 16,
   "metadata": {},
   "outputs": [],
   "source": [
    "from sklearn.preprocessing import LabelEncoder\n",
    "\n",
    "# create a function to encode categorical data\n",
    "def encode_features(dataDF):\n",
    "    features = ['Type', 'Sex', 'Medium', 'Job', 'Coverage', 'Freelance',\n",
    "       'Local_Foreign', 'Press Freedom Score']\n",
    "    for feature in features:\n",
    "        le = LabelEncoder()\n",
    "        le.fit(combined[feature])\n",
    "        combined[feature] = le.transform(combined[feature])\n",
    "    return dataDF"
   ]
  },
  {
   "cell_type": "code",
   "execution_count": 17,
   "metadata": {},
   "outputs": [],
   "source": [
    "encoded_df = encode_features(combined)"
   ]
  },
  {
   "cell_type": "code",
   "execution_count": 18,
   "metadata": {},
   "outputs": [
    {
     "data": {
      "text/html": [
       "<div>\n",
       "<style scoped>\n",
       "    .dataframe tbody tr th:only-of-type {\n",
       "        vertical-align: middle;\n",
       "    }\n",
       "\n",
       "    .dataframe tbody tr th {\n",
       "        vertical-align: top;\n",
       "    }\n",
       "\n",
       "    .dataframe thead th {\n",
       "        text-align: right;\n",
       "    }\n",
       "</style>\n",
       "<table border=\"1\" class=\"dataframe\">\n",
       "  <thead>\n",
       "    <tr style=\"text-align: right;\">\n",
       "      <th></th>\n",
       "      <th>Type</th>\n",
       "      <th>Sex</th>\n",
       "      <th>Medium</th>\n",
       "      <th>Job</th>\n",
       "      <th>Coverage</th>\n",
       "      <th>Freelance</th>\n",
       "      <th>Local_Foreign</th>\n",
       "      <th>Press Freedom Score</th>\n",
       "    </tr>\n",
       "  </thead>\n",
       "  <tbody>\n",
       "    <tr>\n",
       "      <th>0</th>\n",
       "      <td>1</td>\n",
       "      <td>1</td>\n",
       "      <td>13</td>\n",
       "      <td>21</td>\n",
       "      <td>63</td>\n",
       "      <td>0</td>\n",
       "      <td>1</td>\n",
       "      <td>31</td>\n",
       "    </tr>\n",
       "    <tr>\n",
       "      <th>1</th>\n",
       "      <td>1</td>\n",
       "      <td>1</td>\n",
       "      <td>12</td>\n",
       "      <td>58</td>\n",
       "      <td>61</td>\n",
       "      <td>0</td>\n",
       "      <td>1</td>\n",
       "      <td>31</td>\n",
       "    </tr>\n",
       "    <tr>\n",
       "      <th>2</th>\n",
       "      <td>1</td>\n",
       "      <td>1</td>\n",
       "      <td>12</td>\n",
       "      <td>21</td>\n",
       "      <td>63</td>\n",
       "      <td>0</td>\n",
       "      <td>1</td>\n",
       "      <td>31</td>\n",
       "    </tr>\n",
       "    <tr>\n",
       "      <th>3</th>\n",
       "      <td>1</td>\n",
       "      <td>1</td>\n",
       "      <td>12</td>\n",
       "      <td>21</td>\n",
       "      <td>63</td>\n",
       "      <td>0</td>\n",
       "      <td>1</td>\n",
       "      <td>31</td>\n",
       "    </tr>\n",
       "    <tr>\n",
       "      <th>4</th>\n",
       "      <td>1</td>\n",
       "      <td>1</td>\n",
       "      <td>12</td>\n",
       "      <td>0</td>\n",
       "      <td>63</td>\n",
       "      <td>0</td>\n",
       "      <td>1</td>\n",
       "      <td>31</td>\n",
       "    </tr>\n",
       "    <tr>\n",
       "      <th>...</th>\n",
       "      <td>...</td>\n",
       "      <td>...</td>\n",
       "      <td>...</td>\n",
       "      <td>...</td>\n",
       "      <td>...</td>\n",
       "      <td>...</td>\n",
       "      <td>...</td>\n",
       "      <td>...</td>\n",
       "    </tr>\n",
       "    <tr>\n",
       "      <th>1077</th>\n",
       "      <td>1</td>\n",
       "      <td>1</td>\n",
       "      <td>1</td>\n",
       "      <td>56</td>\n",
       "      <td>50</td>\n",
       "      <td>0</td>\n",
       "      <td>1</td>\n",
       "      <td>28</td>\n",
       "    </tr>\n",
       "    <tr>\n",
       "      <th>1078</th>\n",
       "      <td>1</td>\n",
       "      <td>1</td>\n",
       "      <td>12</td>\n",
       "      <td>9</td>\n",
       "      <td>50</td>\n",
       "      <td>0</td>\n",
       "      <td>0</td>\n",
       "      <td>31</td>\n",
       "    </tr>\n",
       "    <tr>\n",
       "      <th>1079</th>\n",
       "      <td>1</td>\n",
       "      <td>1</td>\n",
       "      <td>10</td>\n",
       "      <td>0</td>\n",
       "      <td>56</td>\n",
       "      <td>0</td>\n",
       "      <td>1</td>\n",
       "      <td>31</td>\n",
       "    </tr>\n",
       "    <tr>\n",
       "      <th>1080</th>\n",
       "      <td>1</td>\n",
       "      <td>1</td>\n",
       "      <td>1</td>\n",
       "      <td>44</td>\n",
       "      <td>20</td>\n",
       "      <td>0</td>\n",
       "      <td>1</td>\n",
       "      <td>5</td>\n",
       "    </tr>\n",
       "    <tr>\n",
       "      <th>1081</th>\n",
       "      <td>1</td>\n",
       "      <td>1</td>\n",
       "      <td>12</td>\n",
       "      <td>58</td>\n",
       "      <td>61</td>\n",
       "      <td>1</td>\n",
       "      <td>0</td>\n",
       "      <td>7</td>\n",
       "    </tr>\n",
       "  </tbody>\n",
       "</table>\n",
       "<p>1082 rows × 8 columns</p>\n",
       "</div>"
      ],
      "text/plain": [
       "      Type  Sex  Medium  Job  Coverage  Freelance  Local_Foreign  \\\n",
       "0        1    1      13   21        63          0              1   \n",
       "1        1    1      12   58        61          0              1   \n",
       "2        1    1      12   21        63          0              1   \n",
       "3        1    1      12   21        63          0              1   \n",
       "4        1    1      12    0        63          0              1   \n",
       "...    ...  ...     ...  ...       ...        ...            ...   \n",
       "1077     1    1       1   56        50          0              1   \n",
       "1078     1    1      12    9        50          0              0   \n",
       "1079     1    1      10    0        56          0              1   \n",
       "1080     1    1       1   44        20          0              1   \n",
       "1081     1    1      12   58        61          1              0   \n",
       "\n",
       "      Press Freedom Score  \n",
       "0                      31  \n",
       "1                      31  \n",
       "2                      31  \n",
       "3                      31  \n",
       "4                      31  \n",
       "...                   ...  \n",
       "1077                   28  \n",
       "1078                   31  \n",
       "1079                   31  \n",
       "1080                    5  \n",
       "1081                    7  \n",
       "\n",
       "[1082 rows x 8 columns]"
      ]
     },
     "execution_count": 18,
     "metadata": {},
     "output_type": "execute_result"
    }
   ],
   "source": [
    "encoded_df "
   ]
  },
  {
   "cell_type": "markdown",
   "metadata": {},
   "source": [
    "# Train/Test Dataset"
   ]
  },
  {
   "cell_type": "code",
   "execution_count": 19,
   "metadata": {},
   "outputs": [],
   "source": [
    "X = encoded_df.drop(['Press Freedom Score'], axis = 1)\n",
    "y = encoded_df['Press Freedom Score']"
   ]
  },
  {
   "cell_type": "code",
   "execution_count": 20,
   "metadata": {},
   "outputs": [],
   "source": [
    "X_train, X_test, y_train, y_test = train_test_split(X, y, test_size = 0.3, random_state = 0)"
   ]
  },
  {
   "cell_type": "markdown",
   "metadata": {},
   "source": [
    "# Random Forest"
   ]
  },
  {
   "cell_type": "code",
   "execution_count": 21,
   "metadata": {},
   "outputs": [
    {
     "name": "stdout",
     "output_type": "stream",
     "text": [
      "MSE Train: 19.560, test: 60.259\n",
      "R2 Train: 0.728, test: 0.132\n"
     ]
    }
   ],
   "source": [
    "# RandomForest Regression\n",
    "rf_reg = RandomForestRegressor(n_estimators = 1000, criterion = 'mse')\n",
    "\n",
    "# fit/train\n",
    "rf_reg.fit(X_train, y_train)\n",
    "y_train_pred = rf_reg.predict(X_train)\n",
    "y_test_pred = rf_reg.predict(X_test)\n",
    "\n",
    "print('MSE Train: %.3f, test: %.3f' % (\n",
    "mean_squared_error(y_train, y_train_pred),\n",
    "mean_squared_error(y_test, y_test_pred)))\n",
    "print('R2 Train: %.3f, test: %.3f' % (\n",
    "r2_score(y_train, y_train_pred),\n",
    "r2_score(y_test, y_test_pred)))"
   ]
  },
  {
   "cell_type": "markdown",
   "metadata": {},
   "source": [
    "# Important Features"
   ]
  },
  {
   "cell_type": "code",
   "execution_count": 22,
   "metadata": {
    "scrolled": false
   },
   "outputs": [
    {
     "data": {
      "text/plain": [
       "[('Coverage', 0.3869591280829581),\n",
       " ('Medium', 0.28763437493619143),\n",
       " ('Job', 0.20487899560008052),\n",
       " ('Freelance', 0.04833846397868829),\n",
       " ('Local_Foreign', 0.040615976052768205),\n",
       " ('Sex', 0.03157003629551753),\n",
       " ('Type', 3.0250537959550515e-06)]"
      ]
     },
     "execution_count": 22,
     "metadata": {},
     "output_type": "execute_result"
    },
    {
     "data": {
      "image/png": "[encoded data removed]",
      "text/plain": [
       "<Figure size 576x432 with 1 Axes>"
      ]
     },
     "metadata": {
      "needs_background": "light"
     },
     "output_type": "display_data"
    }
   ],
   "source": [
    "plt.figure(figsize=(8, 6)) \n",
    "\n",
    "importance = rf_reg.feature_importances_\n",
    "indices = np.argsort(importance)[::-1]\n",
    "plt.bar(range(X.shape[1]), importance[indices])\n",
    "\n",
    "feat_labels = X.columns.tolist()\n",
    "feature = list(zip(feat_labels, rf_reg.feature_importances_))\n",
    "sorted(feature, key = lambda tup: tup[1], reverse = True)[:10]"
   ]
  },
  {
   "cell_type": "markdown",
   "metadata": {},
   "source": [
    "# DataRobot"
   ]
  },
  {
   "cell_type": "markdown",
   "metadata": {},
   "source": [
    "### Analysis from DataRobot - eXtreme Gradient Boosted Trees Regressor model"
   ]
  },
  {
   "cell_type": "code",
   "execution_count": 24,
   "metadata": {},
   "outputs": [
    {
     "data": {
      "image/png": "[encoded data removed]",
      "text/plain": [
       "<IPython.core.display.Image object>"
      ]
     },
     "execution_count": 24,
     "metadata": {},
     "output_type": "execute_result"
    }
   ],
   "source": [
    "Image('FeatureImpacts.png')"
   ]
  },
  {
   "cell_type": "code",
   "execution_count": 25,
   "metadata": {},
   "outputs": [
    {
     "data": {
      "image/png": "[encoded data removed]",
      "text/plain": [
       "<IPython.core.display.Image object>"
      ]
     },
     "execution_count": 25,
     "metadata": {},
     "output_type": "execute_result"
    }
   ],
   "source": [
    "Image('Linear.png')"
   ]
  }
 ],
 "metadata": {
  "kernelspec": {
   "display_name": "Python 3",
   "language": "python",
   "name": "python3"
  },
  "language_info": {
   "codemirror_mode": {
    "name": "ipython",
    "version": 3
   },
   "file_extension": ".py",
   "mimetype": "text/x-python",
   "name": "python",
   "nbconvert_exporter": "python",
   "pygments_lexer": "ipython3",
   "version": "3.7.4"
  }
 },
 "nbformat": 4,
 "nbformat_minor": 2
}
