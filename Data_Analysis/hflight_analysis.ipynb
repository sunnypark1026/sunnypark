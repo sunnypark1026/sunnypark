{
 "cells": [
  {
   "cell_type": "markdown",
   "metadata": {},
   "source": [
    "The data set we’ll be using is a 20,000 row subset of the hflights package provided within the R programming language and sourced originally from __the US Bureau of Transportation Statistics__:\n",
    "https://www.transtats.bts.gov/DatabaseInfo.asp?DB_ID=120&Link=0\n",
    "\n",
    "__A summary / description of the data set can be found here__:\n",
    "https://cran.r-project.org/web/packages/hflights/hflights.pdf"
   ]
  },
  {
   "cell_type": "markdown",
   "metadata": {},
   "source": [
    "There are three interesting research / analytical questions I will seek to answer using the data."
   ]
  },
  {
   "cell_type": "markdown",
   "metadata": {},
   "source": [
    "### Three interesting research / analytical questions: \n",
    "1) What was the most common reason of cancellation?\\\n",
    "2) When (Year/Month/DayofMonth/DayOfWeek) the flights were mostly cancelled?\\\n",
    "3) What airlines(UniqueCarrier) have most of ArrDelay or DepDelay?"
   ]
  },
  {
   "cell_type": "code",
   "execution_count": 292,
   "metadata": {},
   "outputs": [],
   "source": [
    "import numpy as np\n",
    "import pandas as pd\n",
    "import scipy as sp"
   ]
  },
  {
   "cell_type": "code",
   "execution_count": 293,
   "metadata": {},
   "outputs": [],
   "source": [
    "import seaborn as sns\n",
    "from matplotlib import pyplot as plt\n",
    "%matplotlib inline"
   ]
  },
  {
   "cell_type": "markdown",
   "metadata": {},
   "source": [
    "## Load Dataset"
   ]
  },
  {
   "cell_type": "code",
   "execution_count": 294,
   "metadata": {},
   "outputs": [
    {
     "data": {
      "text/html": [
       "<div>\n",
       "<style scoped>\n",
       "    .dataframe tbody tr th:only-of-type {\n",
       "        vertical-align: middle;\n",
       "    }\n",
       "\n",
       "    .dataframe tbody tr th {\n",
       "        vertical-align: top;\n",
       "    }\n",
       "\n",
       "    .dataframe thead th {\n",
       "        text-align: right;\n",
       "    }\n",
       "</style>\n",
       "<table border=\"1\" class=\"dataframe\">\n",
       "  <thead>\n",
       "    <tr style=\"text-align: right;\">\n",
       "      <th></th>\n",
       "      <th>Year</th>\n",
       "      <th>Month</th>\n",
       "      <th>DayofMonth</th>\n",
       "      <th>DayOfWeek</th>\n",
       "      <th>DepTime</th>\n",
       "      <th>ArrTime</th>\n",
       "      <th>UniqueCarrier</th>\n",
       "      <th>FlightNum</th>\n",
       "      <th>TailNum</th>\n",
       "      <th>ActualElapsedTime</th>\n",
       "      <th>...</th>\n",
       "      <th>ArrDelay</th>\n",
       "      <th>DepDelay</th>\n",
       "      <th>Origin</th>\n",
       "      <th>Dest</th>\n",
       "      <th>Distance</th>\n",
       "      <th>TaxiIn</th>\n",
       "      <th>TaxiOut</th>\n",
       "      <th>Cancelled</th>\n",
       "      <th>CancellationCode</th>\n",
       "      <th>Diverted</th>\n",
       "    </tr>\n",
       "  </thead>\n",
       "  <tbody>\n",
       "    <tr>\n",
       "      <td>0</td>\n",
       "      <td>2011</td>\n",
       "      <td>1</td>\n",
       "      <td>1</td>\n",
       "      <td>6</td>\n",
       "      <td>1400.0</td>\n",
       "      <td>1500.0</td>\n",
       "      <td>AA</td>\n",
       "      <td>428</td>\n",
       "      <td>N576AA</td>\n",
       "      <td>60.0</td>\n",
       "      <td>...</td>\n",
       "      <td>-10.0</td>\n",
       "      <td>0.0</td>\n",
       "      <td>IAH</td>\n",
       "      <td>DFW</td>\n",
       "      <td>224</td>\n",
       "      <td>7.0</td>\n",
       "      <td>13.0</td>\n",
       "      <td>0</td>\n",
       "      <td>NaN</td>\n",
       "      <td>0</td>\n",
       "    </tr>\n",
       "    <tr>\n",
       "      <td>1</td>\n",
       "      <td>2011</td>\n",
       "      <td>1</td>\n",
       "      <td>2</td>\n",
       "      <td>7</td>\n",
       "      <td>1401.0</td>\n",
       "      <td>1501.0</td>\n",
       "      <td>AA</td>\n",
       "      <td>428</td>\n",
       "      <td>N557AA</td>\n",
       "      <td>60.0</td>\n",
       "      <td>...</td>\n",
       "      <td>-9.0</td>\n",
       "      <td>1.0</td>\n",
       "      <td>IAH</td>\n",
       "      <td>DFW</td>\n",
       "      <td>224</td>\n",
       "      <td>6.0</td>\n",
       "      <td>9.0</td>\n",
       "      <td>0</td>\n",
       "      <td>NaN</td>\n",
       "      <td>0</td>\n",
       "    </tr>\n",
       "    <tr>\n",
       "      <td>2</td>\n",
       "      <td>2011</td>\n",
       "      <td>1</td>\n",
       "      <td>3</td>\n",
       "      <td>1</td>\n",
       "      <td>1352.0</td>\n",
       "      <td>1502.0</td>\n",
       "      <td>AA</td>\n",
       "      <td>428</td>\n",
       "      <td>N541AA</td>\n",
       "      <td>70.0</td>\n",
       "      <td>...</td>\n",
       "      <td>-8.0</td>\n",
       "      <td>-8.0</td>\n",
       "      <td>IAH</td>\n",
       "      <td>DFW</td>\n",
       "      <td>224</td>\n",
       "      <td>5.0</td>\n",
       "      <td>17.0</td>\n",
       "      <td>0</td>\n",
       "      <td>NaN</td>\n",
       "      <td>0</td>\n",
       "    </tr>\n",
       "    <tr>\n",
       "      <td>3</td>\n",
       "      <td>2011</td>\n",
       "      <td>1</td>\n",
       "      <td>4</td>\n",
       "      <td>2</td>\n",
       "      <td>1403.0</td>\n",
       "      <td>1513.0</td>\n",
       "      <td>AA</td>\n",
       "      <td>428</td>\n",
       "      <td>N403AA</td>\n",
       "      <td>70.0</td>\n",
       "      <td>...</td>\n",
       "      <td>3.0</td>\n",
       "      <td>3.0</td>\n",
       "      <td>IAH</td>\n",
       "      <td>DFW</td>\n",
       "      <td>224</td>\n",
       "      <td>9.0</td>\n",
       "      <td>22.0</td>\n",
       "      <td>0</td>\n",
       "      <td>NaN</td>\n",
       "      <td>0</td>\n",
       "    </tr>\n",
       "    <tr>\n",
       "      <td>4</td>\n",
       "      <td>2011</td>\n",
       "      <td>1</td>\n",
       "      <td>5</td>\n",
       "      <td>3</td>\n",
       "      <td>1405.0</td>\n",
       "      <td>1507.0</td>\n",
       "      <td>AA</td>\n",
       "      <td>428</td>\n",
       "      <td>N492AA</td>\n",
       "      <td>62.0</td>\n",
       "      <td>...</td>\n",
       "      <td>-3.0</td>\n",
       "      <td>5.0</td>\n",
       "      <td>IAH</td>\n",
       "      <td>DFW</td>\n",
       "      <td>224</td>\n",
       "      <td>9.0</td>\n",
       "      <td>9.0</td>\n",
       "      <td>0</td>\n",
       "      <td>NaN</td>\n",
       "      <td>0</td>\n",
       "    </tr>\n",
       "    <tr>\n",
       "      <td>...</td>\n",
       "      <td>...</td>\n",
       "      <td>...</td>\n",
       "      <td>...</td>\n",
       "      <td>...</td>\n",
       "      <td>...</td>\n",
       "      <td>...</td>\n",
       "      <td>...</td>\n",
       "      <td>...</td>\n",
       "      <td>...</td>\n",
       "      <td>...</td>\n",
       "      <td>...</td>\n",
       "      <td>...</td>\n",
       "      <td>...</td>\n",
       "      <td>...</td>\n",
       "      <td>...</td>\n",
       "      <td>...</td>\n",
       "      <td>...</td>\n",
       "      <td>...</td>\n",
       "      <td>...</td>\n",
       "      <td>...</td>\n",
       "      <td>...</td>\n",
       "    </tr>\n",
       "    <tr>\n",
       "      <td>19995</td>\n",
       "      <td>2011</td>\n",
       "      <td>2</td>\n",
       "      <td>25</td>\n",
       "      <td>5</td>\n",
       "      <td>1126.0</td>\n",
       "      <td>1333.0</td>\n",
       "      <td>CO</td>\n",
       "      <td>1719</td>\n",
       "      <td>N19621</td>\n",
       "      <td>187.0</td>\n",
       "      <td>...</td>\n",
       "      <td>8.0</td>\n",
       "      <td>-4.0</td>\n",
       "      <td>IAH</td>\n",
       "      <td>MTJ</td>\n",
       "      <td>926</td>\n",
       "      <td>5.0</td>\n",
       "      <td>30.0</td>\n",
       "      <td>0</td>\n",
       "      <td>NaN</td>\n",
       "      <td>0</td>\n",
       "    </tr>\n",
       "    <tr>\n",
       "      <td>19996</td>\n",
       "      <td>2011</td>\n",
       "      <td>2</td>\n",
       "      <td>25</td>\n",
       "      <td>5</td>\n",
       "      <td>941.0</td>\n",
       "      <td>1111.0</td>\n",
       "      <td>CO</td>\n",
       "      <td>1723</td>\n",
       "      <td>N37298</td>\n",
       "      <td>210.0</td>\n",
       "      <td>...</td>\n",
       "      <td>0.0</td>\n",
       "      <td>11.0</td>\n",
       "      <td>IAH</td>\n",
       "      <td>ONT</td>\n",
       "      <td>1334</td>\n",
       "      <td>5.0</td>\n",
       "      <td>12.0</td>\n",
       "      <td>0</td>\n",
       "      <td>NaN</td>\n",
       "      <td>0</td>\n",
       "    </tr>\n",
       "    <tr>\n",
       "      <td>19997</td>\n",
       "      <td>2011</td>\n",
       "      <td>2</td>\n",
       "      <td>25</td>\n",
       "      <td>5</td>\n",
       "      <td>722.0</td>\n",
       "      <td>948.0</td>\n",
       "      <td>CO</td>\n",
       "      <td>1746</td>\n",
       "      <td>N37408</td>\n",
       "      <td>146.0</td>\n",
       "      <td>...</td>\n",
       "      <td>-17.0</td>\n",
       "      <td>-3.0</td>\n",
       "      <td>IAH</td>\n",
       "      <td>ORD</td>\n",
       "      <td>925</td>\n",
       "      <td>17.0</td>\n",
       "      <td>14.0</td>\n",
       "      <td>0</td>\n",
       "      <td>NaN</td>\n",
       "      <td>0</td>\n",
       "    </tr>\n",
       "    <tr>\n",
       "      <td>19998</td>\n",
       "      <td>2011</td>\n",
       "      <td>2</td>\n",
       "      <td>25</td>\n",
       "      <td>5</td>\n",
       "      <td>1909.0</td>\n",
       "      <td>2216.0</td>\n",
       "      <td>CO</td>\n",
       "      <td>1748</td>\n",
       "      <td>N27239</td>\n",
       "      <td>127.0</td>\n",
       "      <td>...</td>\n",
       "      <td>-10.0</td>\n",
       "      <td>12.0</td>\n",
       "      <td>IAH</td>\n",
       "      <td>FLL</td>\n",
       "      <td>965</td>\n",
       "      <td>6.0</td>\n",
       "      <td>15.0</td>\n",
       "      <td>0</td>\n",
       "      <td>NaN</td>\n",
       "      <td>0</td>\n",
       "    </tr>\n",
       "    <tr>\n",
       "      <td>19999</td>\n",
       "      <td>2011</td>\n",
       "      <td>2</td>\n",
       "      <td>25</td>\n",
       "      <td>5</td>\n",
       "      <td>1255.0</td>\n",
       "      <td>1553.0</td>\n",
       "      <td>CO</td>\n",
       "      <td>1757</td>\n",
       "      <td>N14604</td>\n",
       "      <td>118.0</td>\n",
       "      <td>...</td>\n",
       "      <td>-3.0</td>\n",
       "      <td>5.0</td>\n",
       "      <td>IAH</td>\n",
       "      <td>ATL</td>\n",
       "      <td>689</td>\n",
       "      <td>13.0</td>\n",
       "      <td>22.0</td>\n",
       "      <td>0</td>\n",
       "      <td>NaN</td>\n",
       "      <td>0</td>\n",
       "    </tr>\n",
       "  </tbody>\n",
       "</table>\n",
       "<p>20000 rows × 21 columns</p>\n",
       "</div>"
      ],
      "text/plain": [
       "       Year  Month  DayofMonth  DayOfWeek  DepTime  ArrTime UniqueCarrier  \\\n",
       "0      2011      1           1          6   1400.0   1500.0            AA   \n",
       "1      2011      1           2          7   1401.0   1501.0            AA   \n",
       "2      2011      1           3          1   1352.0   1502.0            AA   \n",
       "3      2011      1           4          2   1403.0   1513.0            AA   \n",
       "4      2011      1           5          3   1405.0   1507.0            AA   \n",
       "...     ...    ...         ...        ...      ...      ...           ...   \n",
       "19995  2011      2          25          5   1126.0   1333.0            CO   \n",
       "19996  2011      2          25          5    941.0   1111.0            CO   \n",
       "19997  2011      2          25          5    722.0    948.0            CO   \n",
       "19998  2011      2          25          5   1909.0   2216.0            CO   \n",
       "19999  2011      2          25          5   1255.0   1553.0            CO   \n",
       "\n",
       "       FlightNum TailNum  ActualElapsedTime  ...  ArrDelay  DepDelay  Origin  \\\n",
       "0            428  N576AA               60.0  ...     -10.0       0.0     IAH   \n",
       "1            428  N557AA               60.0  ...      -9.0       1.0     IAH   \n",
       "2            428  N541AA               70.0  ...      -8.0      -8.0     IAH   \n",
       "3            428  N403AA               70.0  ...       3.0       3.0     IAH   \n",
       "4            428  N492AA               62.0  ...      -3.0       5.0     IAH   \n",
       "...          ...     ...                ...  ...       ...       ...     ...   \n",
       "19995       1719  N19621              187.0  ...       8.0      -4.0     IAH   \n",
       "19996       1723  N37298              210.0  ...       0.0      11.0     IAH   \n",
       "19997       1746  N37408              146.0  ...     -17.0      -3.0     IAH   \n",
       "19998       1748  N27239              127.0  ...     -10.0      12.0     IAH   \n",
       "19999       1757  N14604              118.0  ...      -3.0       5.0     IAH   \n",
       "\n",
       "      Dest Distance  TaxiIn  TaxiOut  Cancelled  CancellationCode Diverted  \n",
       "0      DFW      224     7.0     13.0          0               NaN        0  \n",
       "1      DFW      224     6.0      9.0          0               NaN        0  \n",
       "2      DFW      224     5.0     17.0          0               NaN        0  \n",
       "3      DFW      224     9.0     22.0          0               NaN        0  \n",
       "4      DFW      224     9.0      9.0          0               NaN        0  \n",
       "...    ...      ...     ...      ...        ...               ...      ...  \n",
       "19995  MTJ      926     5.0     30.0          0               NaN        0  \n",
       "19996  ONT     1334     5.0     12.0          0               NaN        0  \n",
       "19997  ORD      925    17.0     14.0          0               NaN        0  \n",
       "19998  FLL      965     6.0     15.0          0               NaN        0  \n",
       "19999  ATL      689    13.0     22.0          0               NaN        0  \n",
       "\n",
       "[20000 rows x 21 columns]"
      ]
     },
     "execution_count": 294,
     "metadata": {},
     "output_type": "execute_result"
    }
   ],
   "source": [
    "flight = pd.read_csv('https://raw.githubusercontent.com/sunnypark1026/sunnypark/master/Data%20Analysis/hflights.csv')\n",
    "flight"
   ]
  },
  {
   "cell_type": "markdown",
   "metadata": {},
   "source": [
    "### 1) What was the most common reason of cancellation?\n",
    "Cancellation Code: reason for cancellation\\\n",
    "__A = carrier, B = weather, C = nationalairsystem, D = security__"
   ]
  },
  {
   "cell_type": "code",
   "execution_count": 295,
   "metadata": {},
   "outputs": [
    {
     "data": {
      "text/html": [
       "<div>\n",
       "<style scoped>\n",
       "    .dataframe tbody tr th:only-of-type {\n",
       "        vertical-align: middle;\n",
       "    }\n",
       "\n",
       "    .dataframe tbody tr th {\n",
       "        vertical-align: top;\n",
       "    }\n",
       "\n",
       "    .dataframe thead th {\n",
       "        text-align: right;\n",
       "    }\n",
       "</style>\n",
       "<table border=\"1\" class=\"dataframe\">\n",
       "  <thead>\n",
       "    <tr style=\"text-align: right;\">\n",
       "      <th></th>\n",
       "      <th>CancellationCode</th>\n",
       "    </tr>\n",
       "  </thead>\n",
       "  <tbody>\n",
       "    <tr>\n",
       "      <td>0</td>\n",
       "      <td>A</td>\n",
       "    </tr>\n",
       "    <tr>\n",
       "      <td>1</td>\n",
       "      <td>A</td>\n",
       "    </tr>\n",
       "    <tr>\n",
       "      <td>2</td>\n",
       "      <td>A</td>\n",
       "    </tr>\n",
       "    <tr>\n",
       "      <td>3</td>\n",
       "      <td>A</td>\n",
       "    </tr>\n",
       "    <tr>\n",
       "      <td>4</td>\n",
       "      <td>A</td>\n",
       "    </tr>\n",
       "    <tr>\n",
       "      <td>...</td>\n",
       "      <td>...</td>\n",
       "    </tr>\n",
       "    <tr>\n",
       "      <td>219</td>\n",
       "      <td>C</td>\n",
       "    </tr>\n",
       "    <tr>\n",
       "      <td>220</td>\n",
       "      <td>C</td>\n",
       "    </tr>\n",
       "    <tr>\n",
       "      <td>221</td>\n",
       "      <td>C</td>\n",
       "    </tr>\n",
       "    <tr>\n",
       "      <td>222</td>\n",
       "      <td>C</td>\n",
       "    </tr>\n",
       "    <tr>\n",
       "      <td>223</td>\n",
       "      <td>C</td>\n",
       "    </tr>\n",
       "  </tbody>\n",
       "</table>\n",
       "<p>224 rows × 1 columns</p>\n",
       "</div>"
      ],
      "text/plain": [
       "    CancellationCode\n",
       "0                  A\n",
       "1                  A\n",
       "2                  A\n",
       "3                  A\n",
       "4                  A\n",
       "..               ...\n",
       "219                C\n",
       "220                C\n",
       "221                C\n",
       "222                C\n",
       "223                C\n",
       "\n",
       "[224 rows x 1 columns]"
      ]
     },
     "execution_count": 295,
     "metadata": {},
     "output_type": "execute_result"
    }
   ],
   "source": [
    "# get the 'CancellationCode' values (not NaN values)\n",
    "Cancel_Reason = pd.DataFrame(flight['CancellationCode'][flight['Cancelled']==1])\n",
    "# sort values A-D\n",
    "Cancel_Reason = Cancel_Reason.sort_values(by='CancellationCode')\n",
    "# sort index\n",
    "Cancel_Reason.index = list(range(len(Cancel_Reason)))\n",
    "Cancel_Reason"
   ]
  },
  {
   "cell_type": "code",
   "execution_count": 296,
   "metadata": {},
   "outputs": [
    {
     "name": "stdout",
     "output_type": "stream",
     "text": [
      "A: 57\n",
      "B: 162\n",
      "C: 5\n",
      "D: 0\n"
     ]
    }
   ],
   "source": [
    "# check amount of cancellation with length of data\n",
    "print('A:', len(Cancel_Reason[Cancel_Reason['CancellationCode'] == 'A']))\n",
    "print('B:', len(Cancel_Reason[Cancel_Reason['CancellationCode'] == 'B']))\n",
    "print('C:', len(Cancel_Reason[Cancel_Reason['CancellationCode'] == 'C']))\n",
    "print('D:', len(Cancel_Reason[Cancel_Reason['CancellationCode'] == 'D']))"
   ]
  },
  {
   "cell_type": "code",
   "execution_count": 312,
   "metadata": {},
   "outputs": [
    {
     "data": {
      "text/plain": [
       "Text(0, 0.5, 'Number of Cancellation')"
      ]
     },
     "execution_count": 312,
     "metadata": {},
     "output_type": "execute_result"
    },
    {
     "data": {
      "image/png": "[encoded data removed]",
      "text/plain": [
       "<Figure size 720x360 with 1 Axes>"
      ]
     },
     "metadata": {
      "needs_background": "light"
     },
     "output_type": "display_data"
    }
   ],
   "source": [
    "# size\n",
    "plt.figure(figsize = (10, 5))\n",
    "\n",
    "# create array with result above\n",
    "x = np.array(['A','B','C','D'])\n",
    "y = np.array([57,162,5,0])\n",
    "\n",
    "# create visualization \n",
    "plt.plot(x,y, color='green') \n",
    "plt.xlabel('Cancellation Code')\n",
    "plt.ylabel('Number of Cancellation')"
   ]
  },
  {
   "cell_type": "code",
   "execution_count": 298,
   "metadata": {},
   "outputs": [],
   "source": [
    "# another try - use query\n",
    "Cancel_Reason_A = Cancel_Reason.query('CancellationCode == \"A\"')['CancellationCode']\n",
    "Cancel_Reason_B = Cancel_Reason.query('CancellationCode == \"B\"')['CancellationCode']\n",
    "Cancel_Reason_C = Cancel_Reason.query('CancellationCode == \"C\"')['CancellationCode']\n",
    "Cancel_Reason_D = Cancel_Reason.query('CancellationCode == \"D\"')['CancellationCode']"
   ]
  },
  {
   "cell_type": "code",
   "execution_count": 299,
   "metadata": {},
   "outputs": [
    {
     "data": {
      "text/plain": [
       "<matplotlib.axes._subplots.AxesSubplot at 0x12da4dd10>"
      ]
     },
     "execution_count": 299,
     "metadata": {},
     "output_type": "execute_result"
    },
    {
     "data": {
      "image/png": "[encoded data removed]",
      "text/plain": [
       "<Figure size 576x360 with 1 Axes>"
      ]
     },
     "metadata": {
      "needs_background": "light"
     },
     "output_type": "display_data"
    }
   ],
   "source": [
    "# size\n",
    "plt.figure(figsize = (8, 5))\n",
    "\n",
    "sns.distplot(Cancel_Reason_A, bins=1, color = 'blue', kde = False)\n",
    "sns.distplot(Cancel_Reason_B, bins=1, color = 'blue', kde = False)\n",
    "sns.distplot(Cancel_Reason_C, bins=1, color = 'blue', kde = False)\n",
    "sns.distplot(Cancel_Reason_D, bins=1, color = 'blue', kde = False)"
   ]
  },
  {
   "cell_type": "code",
   "execution_count": 300,
   "metadata": {},
   "outputs": [
    {
     "data": {
      "text/html": [
       "<div>\n",
       "<style scoped>\n",
       "    .dataframe tbody tr th:only-of-type {\n",
       "        vertical-align: middle;\n",
       "    }\n",
       "\n",
       "    .dataframe tbody tr th {\n",
       "        vertical-align: top;\n",
       "    }\n",
       "\n",
       "    .dataframe thead th {\n",
       "        text-align: right;\n",
       "    }\n",
       "</style>\n",
       "<table border=\"1\" class=\"dataframe\">\n",
       "  <thead>\n",
       "    <tr style=\"text-align: right;\">\n",
       "      <th></th>\n",
       "      <th>CancellationCode</th>\n",
       "    </tr>\n",
       "  </thead>\n",
       "  <tbody>\n",
       "    <tr>\n",
       "      <td>count</td>\n",
       "      <td>224</td>\n",
       "    </tr>\n",
       "    <tr>\n",
       "      <td>unique</td>\n",
       "      <td>3</td>\n",
       "    </tr>\n",
       "    <tr>\n",
       "      <td>top</td>\n",
       "      <td>B</td>\n",
       "    </tr>\n",
       "    <tr>\n",
       "      <td>freq</td>\n",
       "      <td>162</td>\n",
       "    </tr>\n",
       "  </tbody>\n",
       "</table>\n",
       "</div>"
      ],
      "text/plain": [
       "       CancellationCode\n",
       "count               224\n",
       "unique                3\n",
       "top                   B\n",
       "freq                162"
      ]
     },
     "execution_count": 300,
     "metadata": {},
     "output_type": "execute_result"
    }
   ],
   "source": [
    "# Check one more time with describe method\n",
    "# According to this result, reason-B shows top amount among the 4 cancellation reasons. \n",
    "Cancel_Reason.describe()"
   ]
  },
  {
   "cell_type": "markdown",
   "metadata": {},
   "source": [
    "### According to two visualizations and the result from describe method, B (weather) is the most common reason of cancellation. "
   ]
  },
  {
   "cell_type": "markdown",
   "metadata": {},
   "source": [
    "### 2) When (Year/Month/DayofMonth/DayOfWeek) the flights were mostly cancelled?"
   ]
  },
  {
   "cell_type": "code",
   "execution_count": 313,
   "metadata": {},
   "outputs": [
    {
     "data": {
      "text/html": [
       "<div>\n",
       "<style scoped>\n",
       "    .dataframe tbody tr th:only-of-type {\n",
       "        vertical-align: middle;\n",
       "    }\n",
       "\n",
       "    .dataframe tbody tr th {\n",
       "        vertical-align: top;\n",
       "    }\n",
       "\n",
       "    .dataframe thead th {\n",
       "        text-align: right;\n",
       "    }\n",
       "</style>\n",
       "<table border=\"1\" class=\"dataframe\">\n",
       "  <thead>\n",
       "    <tr style=\"text-align: right;\">\n",
       "      <th></th>\n",
       "      <th>Year</th>\n",
       "      <th>Month</th>\n",
       "      <th>DayofMonth</th>\n",
       "      <th>DayOfWeek</th>\n",
       "      <th>Cancelled</th>\n",
       "    </tr>\n",
       "  </thead>\n",
       "  <tbody>\n",
       "    <tr>\n",
       "      <td>0</td>\n",
       "      <td>2011</td>\n",
       "      <td>1</td>\n",
       "      <td>1</td>\n",
       "      <td>6</td>\n",
       "      <td>1</td>\n",
       "    </tr>\n",
       "    <tr>\n",
       "      <td>1</td>\n",
       "      <td>2011</td>\n",
       "      <td>1</td>\n",
       "      <td>1</td>\n",
       "      <td>6</td>\n",
       "      <td>1</td>\n",
       "    </tr>\n",
       "    <tr>\n",
       "      <td>2</td>\n",
       "      <td>2011</td>\n",
       "      <td>1</td>\n",
       "      <td>1</td>\n",
       "      <td>6</td>\n",
       "      <td>1</td>\n",
       "    </tr>\n",
       "    <tr>\n",
       "      <td>3</td>\n",
       "      <td>2011</td>\n",
       "      <td>1</td>\n",
       "      <td>1</td>\n",
       "      <td>6</td>\n",
       "      <td>1</td>\n",
       "    </tr>\n",
       "    <tr>\n",
       "      <td>4</td>\n",
       "      <td>2011</td>\n",
       "      <td>1</td>\n",
       "      <td>2</td>\n",
       "      <td>7</td>\n",
       "      <td>1</td>\n",
       "    </tr>\n",
       "    <tr>\n",
       "      <td>...</td>\n",
       "      <td>...</td>\n",
       "      <td>...</td>\n",
       "      <td>...</td>\n",
       "      <td>...</td>\n",
       "      <td>...</td>\n",
       "    </tr>\n",
       "    <tr>\n",
       "      <td>219</td>\n",
       "      <td>2011</td>\n",
       "      <td>2</td>\n",
       "      <td>4</td>\n",
       "      <td>5</td>\n",
       "      <td>1</td>\n",
       "    </tr>\n",
       "    <tr>\n",
       "      <td>220</td>\n",
       "      <td>2011</td>\n",
       "      <td>2</td>\n",
       "      <td>4</td>\n",
       "      <td>5</td>\n",
       "      <td>1</td>\n",
       "    </tr>\n",
       "    <tr>\n",
       "      <td>221</td>\n",
       "      <td>2011</td>\n",
       "      <td>2</td>\n",
       "      <td>4</td>\n",
       "      <td>5</td>\n",
       "      <td>1</td>\n",
       "    </tr>\n",
       "    <tr>\n",
       "      <td>222</td>\n",
       "      <td>2011</td>\n",
       "      <td>2</td>\n",
       "      <td>5</td>\n",
       "      <td>6</td>\n",
       "      <td>1</td>\n",
       "    </tr>\n",
       "    <tr>\n",
       "      <td>223</td>\n",
       "      <td>2011</td>\n",
       "      <td>2</td>\n",
       "      <td>9</td>\n",
       "      <td>3</td>\n",
       "      <td>1</td>\n",
       "    </tr>\n",
       "  </tbody>\n",
       "</table>\n",
       "<p>224 rows × 5 columns</p>\n",
       "</div>"
      ],
      "text/plain": [
       "     Year  Month  DayofMonth  DayOfWeek  Cancelled\n",
       "0    2011      1           1          6          1\n",
       "1    2011      1           1          6          1\n",
       "2    2011      1           1          6          1\n",
       "3    2011      1           1          6          1\n",
       "4    2011      1           2          7          1\n",
       "..    ...    ...         ...        ...        ...\n",
       "219  2011      2           4          5          1\n",
       "220  2011      2           4          5          1\n",
       "221  2011      2           4          5          1\n",
       "222  2011      2           5          6          1\n",
       "223  2011      2           9          3          1\n",
       "\n",
       "[224 rows x 5 columns]"
      ]
     },
     "execution_count": 313,
     "metadata": {},
     "output_type": "execute_result"
    }
   ],
   "source": [
    "# get the 'Year','Month','Cancelled' values (where 'Cancelled' has not NaN values)\n",
    "# sort values by Year\tMonth\tDayofMonth\tDayOfWeek\n",
    "flight2 = flight[['Year','Month','DayofMonth','DayOfWeek','Cancelled']][flight['Cancelled']==1].sort_values(\n",
    "    by = ['Year','Month','DayofMonth','DayOfWeek'])\n",
    "# reset index\n",
    "flight2.index = list(range(len(flight2)))\n",
    "flight2"
   ]
  },
  {
   "cell_type": "code",
   "execution_count": 314,
   "metadata": {},
   "outputs": [
    {
     "data": {
      "text/html": [
       "<div>\n",
       "<style scoped>\n",
       "    .dataframe tbody tr th:only-of-type {\n",
       "        vertical-align: middle;\n",
       "    }\n",
       "\n",
       "    .dataframe tbody tr th {\n",
       "        vertical-align: top;\n",
       "    }\n",
       "\n",
       "    .dataframe thead th {\n",
       "        text-align: right;\n",
       "    }\n",
       "</style>\n",
       "<table border=\"1\" class=\"dataframe\">\n",
       "  <thead>\n",
       "    <tr style=\"text-align: right;\">\n",
       "      <th></th>\n",
       "      <th>DayofMonth</th>\n",
       "      <th>1</th>\n",
       "      <th>2</th>\n",
       "      <th>3</th>\n",
       "      <th>4</th>\n",
       "      <th>5</th>\n",
       "      <th>7</th>\n",
       "      <th>8</th>\n",
       "      <th>9</th>\n",
       "      <th>10</th>\n",
       "      <th>11</th>\n",
       "      <th>...</th>\n",
       "      <th>19</th>\n",
       "      <th>20</th>\n",
       "      <th>24</th>\n",
       "      <th>25</th>\n",
       "      <th>26</th>\n",
       "      <th>27</th>\n",
       "      <th>28</th>\n",
       "      <th>29</th>\n",
       "      <th>30</th>\n",
       "      <th>31</th>\n",
       "    </tr>\n",
       "    <tr>\n",
       "      <th>Year</th>\n",
       "      <th>Month</th>\n",
       "      <th></th>\n",
       "      <th></th>\n",
       "      <th></th>\n",
       "      <th></th>\n",
       "      <th></th>\n",
       "      <th></th>\n",
       "      <th></th>\n",
       "      <th></th>\n",
       "      <th></th>\n",
       "      <th></th>\n",
       "      <th></th>\n",
       "      <th></th>\n",
       "      <th></th>\n",
       "      <th></th>\n",
       "      <th></th>\n",
       "      <th></th>\n",
       "      <th></th>\n",
       "      <th></th>\n",
       "      <th></th>\n",
       "      <th></th>\n",
       "      <th></th>\n",
       "    </tr>\n",
       "  </thead>\n",
       "  <tbody>\n",
       "    <tr>\n",
       "      <td rowspan=\"2\" valign=\"top\">2011</td>\n",
       "      <td>1</td>\n",
       "      <td>4.0</td>\n",
       "      <td>11.0</td>\n",
       "      <td>2.0</td>\n",
       "      <td>2.0</td>\n",
       "      <td>3.0</td>\n",
       "      <td>2.0</td>\n",
       "      <td>1.0</td>\n",
       "      <td>21.0</td>\n",
       "      <td>38.0</td>\n",
       "      <td>29.0</td>\n",
       "      <td>...</td>\n",
       "      <td>5.0</td>\n",
       "      <td>8.0</td>\n",
       "      <td>3.0</td>\n",
       "      <td>2.0</td>\n",
       "      <td>21.0</td>\n",
       "      <td>5.0</td>\n",
       "      <td>4.0</td>\n",
       "      <td>2.0</td>\n",
       "      <td>1.0</td>\n",
       "      <td>19.0</td>\n",
       "    </tr>\n",
       "    <tr>\n",
       "      <td>2</td>\n",
       "      <td>7.0</td>\n",
       "      <td>1.0</td>\n",
       "      <td>0.0</td>\n",
       "      <td>5.0</td>\n",
       "      <td>1.0</td>\n",
       "      <td>0.0</td>\n",
       "      <td>0.0</td>\n",
       "      <td>1.0</td>\n",
       "      <td>0.0</td>\n",
       "      <td>0.0</td>\n",
       "      <td>...</td>\n",
       "      <td>0.0</td>\n",
       "      <td>0.0</td>\n",
       "      <td>0.0</td>\n",
       "      <td>0.0</td>\n",
       "      <td>0.0</td>\n",
       "      <td>0.0</td>\n",
       "      <td>0.0</td>\n",
       "      <td>0.0</td>\n",
       "      <td>0.0</td>\n",
       "      <td>0.0</td>\n",
       "    </tr>\n",
       "  </tbody>\n",
       "</table>\n",
       "<p>2 rows × 26 columns</p>\n",
       "</div>"
      ],
      "text/plain": [
       "DayofMonth   1     2    3    4    5    7    8     9     10    11  ...   19  \\\n",
       "Year Month                                                        ...        \n",
       "2011 1      4.0  11.0  2.0  2.0  3.0  2.0  1.0  21.0  38.0  29.0  ...  5.0   \n",
       "     2      7.0   1.0  0.0  5.0  1.0  0.0  0.0   1.0   0.0   0.0  ...  0.0   \n",
       "\n",
       "DayofMonth   20   24   25    26   27   28   29   30    31  \n",
       "Year Month                                                 \n",
       "2011 1      8.0  3.0  2.0  21.0  5.0  4.0  2.0  1.0  19.0  \n",
       "     2      0.0  0.0  0.0   0.0  0.0  0.0  0.0  0.0   0.0  \n",
       "\n",
       "[2 rows x 26 columns]"
      ]
     },
     "execution_count": 314,
     "metadata": {},
     "output_type": "execute_result"
    }
   ],
   "source": [
    "# Create pivot table\n",
    "flight2_pivot = pd.pivot_table(data = flight2,\n",
    "                               values='Cancelled',\n",
    "                               aggfunc='sum',\n",
    "                               index = ['Year','Month'],\n",
    "                               columns = ['DayofMonth'])\n",
    "flight2_pivot = flight2_pivot.fillna(0)\n",
    "flight2_pivot"
   ]
  },
  {
   "cell_type": "code",
   "execution_count": 304,
   "metadata": {},
   "outputs": [
    {
     "data": {
      "text/plain": [
       "DayofMonth\n",
       "1      4.0\n",
       "2     11.0\n",
       "3      2.0\n",
       "4      2.0\n",
       "5      3.0\n",
       "7      2.0\n",
       "8      1.0\n",
       "9     21.0\n",
       "10    38.0\n",
       "11    29.0\n",
       "Name: (2011, 1), dtype: float64"
      ]
     },
     "execution_count": 304,
     "metadata": {},
     "output_type": "execute_result"
    }
   ],
   "source": [
    "# get values in Series form\n",
    "flight2_pivot.loc[2011, 1].head(10)"
   ]
  },
  {
   "cell_type": "code",
   "execution_count": 305,
   "metadata": {},
   "outputs": [],
   "source": [
    "# crete function to create visualization\n",
    "def create_plot(Year, Month):\n",
    "    data = flight2_pivot.loc[Year, Month]\n",
    "    plt.plot(data.index, data.values)"
   ]
  },
  {
   "cell_type": "code",
   "execution_count": 306,
   "metadata": {},
   "outputs": [
    {
     "data": {
      "text/plain": [
       "Text(0, 0.5, 'Number of Cancellation')"
      ]
     },
     "execution_count": 306,
     "metadata": {},
     "output_type": "execute_result"
    },
    {
     "data": {
      "image/png": "[encoded data removed]",
      "text/plain": [
       "<Figure size 720x360 with 1 Axes>"
      ]
     },
     "metadata": {
      "needs_background": "light"
     },
     "output_type": "display_data"
    }
   ],
   "source": [
    "# size\n",
    "plt.figure(figsize = (10, 5))\n",
    "\n",
    "# create plots\n",
    "create_plot(2011, 1) # blue line\n",
    "create_plot(2011, 2) # Orange line\n",
    "\n",
    "# put title/labels \n",
    "plt.title('<When the flights were mostly cancelled?>') \n",
    "plt.xlabel('Day of Month')\n",
    "plt.ylabel('Number of Cancellation')"
   ]
  },
  {
   "cell_type": "markdown",
   "metadata": {},
   "source": [
    "### According to the result, the flights were mostly cancelled in 10th day of month, 1st Month, 2011"
   ]
  },
  {
   "cell_type": "markdown",
   "metadata": {},
   "source": [
    "### 3) What airlines(UniqueCarrier) shows the most cases of ArrDelay and DepDelay?"
   ]
  },
  {
   "cell_type": "markdown",
   "metadata": {},
   "source": [
    "ArrDelay and DepDelay = arrival and departure delays, in minutes"
   ]
  },
  {
   "cell_type": "code",
   "execution_count": 317,
   "metadata": {},
   "outputs": [
    {
     "data": {
      "text/html": [
       "<div>\n",
       "<style scoped>\n",
       "    .dataframe tbody tr th:only-of-type {\n",
       "        vertical-align: middle;\n",
       "    }\n",
       "\n",
       "    .dataframe tbody tr th {\n",
       "        vertical-align: top;\n",
       "    }\n",
       "\n",
       "    .dataframe thead th {\n",
       "        text-align: right;\n",
       "    }\n",
       "</style>\n",
       "<table border=\"1\" class=\"dataframe\">\n",
       "  <thead>\n",
       "    <tr style=\"text-align: right;\">\n",
       "      <th></th>\n",
       "      <th>ArrDelay</th>\n",
       "    </tr>\n",
       "    <tr>\n",
       "      <th>UniqueCarrier</th>\n",
       "      <th></th>\n",
       "    </tr>\n",
       "  </thead>\n",
       "  <tbody>\n",
       "    <tr>\n",
       "      <td>AA</td>\n",
       "      <td>0.950397</td>\n",
       "    </tr>\n",
       "    <tr>\n",
       "      <td>AS</td>\n",
       "      <td>9.396552</td>\n",
       "    </tr>\n",
       "    <tr>\n",
       "      <td>B6</td>\n",
       "      <td>11.086022</td>\n",
       "    </tr>\n",
       "    <tr>\n",
       "      <td>CO</td>\n",
       "      <td>5.366780</td>\n",
       "    </tr>\n",
       "    <tr>\n",
       "      <td>DL</td>\n",
       "      <td>4.310924</td>\n",
       "    </tr>\n",
       "  </tbody>\n",
       "</table>\n",
       "</div>"
      ],
      "text/plain": [
       "                ArrDelay\n",
       "UniqueCarrier           \n",
       "AA              0.950397\n",
       "AS              9.396552\n",
       "B6             11.086022\n",
       "CO              5.366780\n",
       "DL              4.310924"
      ]
     },
     "execution_count": 317,
     "metadata": {},
     "output_type": "execute_result"
    }
   ],
   "source": [
    "# Arrival Delay (mean)\n",
    "Most_ArrDelay = flight[['UniqueCarrier','ArrDelay']].groupby('UniqueCarrier').mean().sort_values(by = 'UniqueCarrier')\n",
    "Most_ArrDelay.head(5)"
   ]
  },
  {
   "cell_type": "code",
   "execution_count": 318,
   "metadata": {
    "scrolled": false
   },
   "outputs": [
    {
     "data": {
      "text/plain": [
       "UniqueCarrier\n",
       "AA     0.950397\n",
       "AS     9.396552\n",
       "B6    11.086022\n",
       "CO     5.366780\n",
       "DL     4.310924\n",
       "EV    13.927083\n",
       "F9    13.725806\n",
       "FL     1.624060\n",
       "MQ     7.144615\n",
       "OO     5.743106\n",
       "UA    -2.234694\n",
       "US    -3.595960\n",
       "WN     8.644941\n",
       "XE     3.613172\n",
       "Name: ArrDelay, dtype: float64"
      ]
     },
     "execution_count": 318,
     "metadata": {},
     "output_type": "execute_result"
    }
   ],
   "source": [
    "Most_ArrDelay['ArrDelay']"
   ]
  },
  {
   "cell_type": "code",
   "execution_count": 319,
   "metadata": {},
   "outputs": [
    {
     "data": {
      "text/html": [
       "<div>\n",
       "<style scoped>\n",
       "    .dataframe tbody tr th:only-of-type {\n",
       "        vertical-align: middle;\n",
       "    }\n",
       "\n",
       "    .dataframe tbody tr th {\n",
       "        vertical-align: top;\n",
       "    }\n",
       "\n",
       "    .dataframe thead th {\n",
       "        text-align: right;\n",
       "    }\n",
       "</style>\n",
       "<table border=\"1\" class=\"dataframe\">\n",
       "  <thead>\n",
       "    <tr style=\"text-align: right;\">\n",
       "      <th></th>\n",
       "      <th>DepDelay</th>\n",
       "    </tr>\n",
       "    <tr>\n",
       "      <th>UniqueCarrier</th>\n",
       "      <th></th>\n",
       "    </tr>\n",
       "  </thead>\n",
       "  <tbody>\n",
       "    <tr>\n",
       "      <td>AA</td>\n",
       "      <td>5.610672</td>\n",
       "    </tr>\n",
       "    <tr>\n",
       "      <td>AS</td>\n",
       "      <td>4.559322</td>\n",
       "    </tr>\n",
       "    <tr>\n",
       "      <td>B6</td>\n",
       "      <td>18.234043</td>\n",
       "    </tr>\n",
       "    <tr>\n",
       "      <td>CO</td>\n",
       "      <td>9.881251</td>\n",
       "    </tr>\n",
       "    <tr>\n",
       "      <td>DL</td>\n",
       "      <td>8.033613</td>\n",
       "    </tr>\n",
       "  </tbody>\n",
       "</table>\n",
       "</div>"
      ],
      "text/plain": [
       "                DepDelay\n",
       "UniqueCarrier           \n",
       "AA              5.610672\n",
       "AS              4.559322\n",
       "B6             18.234043\n",
       "CO              9.881251\n",
       "DL              8.033613"
      ]
     },
     "execution_count": 319,
     "metadata": {},
     "output_type": "execute_result"
    }
   ],
   "source": [
    "# Departure Delay (mean)\n",
    "Most_DepDelay = flight[['UniqueCarrier','DepDelay']].groupby('UniqueCarrier').mean().sort_values(by = 'UniqueCarrier')\n",
    "Most_DepDelay.head(5)"
   ]
  },
  {
   "cell_type": "code",
   "execution_count": 320,
   "metadata": {},
   "outputs": [
    {
     "data": {
      "text/plain": [
       "UniqueCarrier\n",
       "AA     5.610672\n",
       "AS     4.559322\n",
       "B6    18.234043\n",
       "CO     9.881251\n",
       "DL     8.033613\n",
       "EV    21.742268\n",
       "F9     6.306452\n",
       "FL     3.939850\n",
       "MQ     9.901538\n",
       "OO     6.692197\n",
       "UA     3.909091\n",
       "US     1.494983\n",
       "WN    14.394336\n",
       "XE     3.846657\n",
       "Name: DepDelay, dtype: float64"
      ]
     },
     "execution_count": 320,
     "metadata": {},
     "output_type": "execute_result"
    }
   ],
   "source": [
    "Most_DepDelay['DepDelay']"
   ]
  },
  {
   "cell_type": "code",
   "execution_count": 321,
   "metadata": {},
   "outputs": [
    {
     "data": {
      "text/plain": [
       "Text(0, 0.5, 'Arrival Delay(blue)\\nDeparture Delay(green)')"
      ]
     },
     "execution_count": 321,
     "metadata": {},
     "output_type": "execute_result"
    },
    {
     "data": {
      "image/png": "[encoded data removed]",
      "text/plain": [
       "<Figure size 1080x576 with 1 Axes>"
      ]
     },
     "metadata": {
      "needs_background": "light"
     },
     "output_type": "display_data"
    }
   ],
   "source": [
    "# set size\n",
    "plt.figure(figsize = (15, 8))\n",
    "\n",
    "# create plots\n",
    "plt.plot(Most_ArrDelay['ArrDelay'].index, Most_ArrDelay['ArrDelay'].values, color = 'blue')\n",
    "plt.plot(Most_DepDelay['DepDelay'].index, Most_DepDelay['DepDelay'].values, color = 'green')\n",
    "\n",
    "# put title/labels \n",
    "plt.title('<What airlines have most of ArrDelay and DepDelay?>') \n",
    "plt.xlabel('Carrier')\n",
    "plt.ylabel('Arrival Delay(blue)\\nDeparture Delay(green)')"
   ]
  },
  {
   "cell_type": "markdown",
   "metadata": {},
   "source": [
    "### According to visualization, EV(Express Jet) shows the most Arrival Delay & Departure Delay cases (used mean value)"
   ]
  }
 ],
 "metadata": {
  "kernelspec": {
   "display_name": "Python 3",
   "language": "python",
   "name": "python3"
  },
  "language_info": {
   "codemirror_mode": {
    "name": "ipython",
    "version": 3
   },
   "file_extension": ".py",
   "mimetype": "text/x-python",
   "name": "python",
   "nbconvert_exporter": "python",
   "pygments_lexer": "ipython3",
   "version": "3.7.4"
  }
 },
 "nbformat": 4,
 "nbformat_minor": 2
}
